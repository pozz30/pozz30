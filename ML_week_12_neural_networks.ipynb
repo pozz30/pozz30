{
  "nbformat": 4,
  "nbformat_minor": 0,
  "metadata": {
    "colab": {
      "provenance": [],
      "collapsed_sections": []
    },
    "kernelspec": {
      "name": "python3",
      "display_name": "Python 3"
    },
    "language_info": {
      "name": "python"
    },
    "gpuClass": "standard",
    "accelerator": "GPU"
  },
  "cells": [
    {
      "cell_type": "markdown",
      "source": [
        "# 실습 - Neural Networks\n"
      ],
      "metadata": {
        "id": "G3ibI9ZY-WS5"
      }
    },
    {
      "cell_type": "markdown",
      "source": [
        "# **1. 필요한 라이브러리 불러오기**"
      ],
      "metadata": {
        "id": "kEfjEw9xQApi"
      }
    },
    {
      "cell_type": "code",
      "source": [
        "# 데이터, 시각화 관련 라이브러리\n",
        "import numpy as np\n",
        "import matplotlib.pyplot as plt\n",
        "\n",
        "# Keras 라이브러리 \n",
        "from tensorflow import keras\n",
        "from tensorflow.keras import layers"
      ],
      "metadata": {
        "id": "wKhzbm3tQJ5Z"
      },
      "execution_count": 1,
      "outputs": []
    },
    {
      "cell_type": "markdown",
      "source": [
        "# **2. MNIST 데이터 불러오기 및 전처리**"
      ],
      "metadata": {
        "id": "8GA20e5WbN9x"
      }
    },
    {
      "cell_type": "code",
      "source": [
        "# Model / data parameter 설정\n",
        "num_classes = 10\n",
        "input_shape = (28, 28, 1)"
      ],
      "metadata": {
        "id": "6Tw2DQdsbKmG"
      },
      "execution_count": 2,
      "outputs": []
    },
    {
      "cell_type": "code",
      "source": [
        "# 데이터 불러오기\n",
        "(x_train, y_train), (x_test, y_test) = keras.datasets.mnist.load_data()"
      ],
      "metadata": {
        "id": "I1FDTXKd32mS"
      },
      "execution_count": 3,
      "outputs": []
    },
    {
      "cell_type": "code",
      "source": [
        "y_train[1]"
      ],
      "metadata": {
        "id": "InP4P3OQ4Rty"
      },
      "execution_count": null,
      "outputs": []
    },
    {
      "cell_type": "code",
      "source": [
        "# 데이터를 이미지로 표현하기\n",
        "plt.imshow(x_train[1].reshape(28, 28))\n",
        "plt.gray()\n",
        "plt.show()"
      ],
      "metadata": {
        "id": "EbeqADij4rdo"
      },
      "execution_count": null,
      "outputs": []
    },
    {
      "cell_type": "code",
      "source": [
        "y_train[0]"
      ],
      "metadata": {
        "id": "oWXOySYs5q3k"
      },
      "execution_count": null,
      "outputs": []
    },
    {
      "cell_type": "code",
      "source": [
        "# 이미지 scaling [0, 255] -> [0, 1]\n",
        "x_train = x_train.astype(\"float32\") / 255\n",
        "x_test = x_test.astype(\"float32\") / 255"
      ],
      "metadata": {
        "id": "JAANzkKa34Sx"
      },
      "execution_count": 7,
      "outputs": []
    },
    {
      "cell_type": "code",
      "source": [
        "x_train[0,:,:]"
      ],
      "metadata": {
        "id": "DjC2GZG_575y"
      },
      "execution_count": null,
      "outputs": []
    },
    {
      "cell_type": "code",
      "source": [
        "# 이미지를 (28, 28, 1) 모양으로 변환\n",
        "x_train = np.expand_dims(x_train, -1)\n",
        "x_test = np.expand_dims(x_test, -1)\n",
        "\n",
        "print(\"x_train shape:\", x_train.shape)\n",
        "print(x_train.shape[0], \"train samples\")\n",
        "print(x_test.shape[0], \"test samples\")"
      ],
      "metadata": {
        "id": "OWeB9aXe345h"
      },
      "execution_count": null,
      "outputs": []
    },
    {
      "cell_type": "code",
      "source": [
        "# one-hot-encoding으로 변환 예) 0 -> [1, 0, 0, 0, 0, 0, 0, 0, 0, 0]\n",
        "y_train = keras.utils.to_categorical(y_train, num_classes)\n",
        "y_test = keras.utils.to_categorical(y_test, num_classes)"
      ],
      "metadata": {
        "id": "lvLyiOb4LS4z"
      },
      "execution_count": 10,
      "outputs": []
    },
    {
      "cell_type": "code",
      "source": [
        "y_train[0]"
      ],
      "metadata": {
        "id": "82H8n6SU8jNB"
      },
      "execution_count": null,
      "outputs": []
    },
    {
      "cell_type": "markdown",
      "source": [
        "# **3. 모델 생성**"
      ],
      "metadata": {
        "id": "IeB7K8p5o92X"
      }
    },
    {
      "cell_type": "code",
      "source": [
        "model = keras.Sequential(\n",
        "    [\n",
        "        keras.Input(shape=input_shape),\n",
        "        layers.Conv2D(32, kernel_size=(3, 3), activation=\"relu\"),\n",
        "        layers.MaxPooling2D(pool_size=(2, 2)),\n",
        "        layers.Conv2D(64, kernel_size=(3, 3), activation=\"relu\"),\n",
        "        layers.MaxPooling2D(pool_size=(2, 2)),\n",
        "        layers.Flatten(),\n",
        "        layers.Dense(num_classes, activation=\"softmax\"),\n",
        "    ]\n",
        ")\n",
        "\n",
        "model.summary()"
      ],
      "metadata": {
        "id": "BHI7X87hHtJE"
      },
      "execution_count": null,
      "outputs": []
    },
    {
      "cell_type": "markdown",
      "source": [
        "# **4. 학습하기(training)**"
      ],
      "metadata": {
        "id": "Ef07GPLfTjYb"
      }
    },
    {
      "cell_type": "markdown",
      "source": [
        "![1_AOiD8LEDWrWy5l_f9qgweQ2x.jpeg](data:image/jpeg;base64,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)"
      ],
      "metadata": {
        "id": "bMZB7gBZHph_"
      }
    },
    {
      "cell_type": "code",
      "source": [
        "# mini-batch 사이즈(한번 weight를 업데이트하기 위해 필요한 데이터의 양)\n",
        "batch_size = 128\n",
        "\n",
        "# epoch(학습과정에서 전체데이터의 사용 횟수)\n",
        "epochs = 15\n",
        "\n",
        "# objective function, optimizer 설정\n",
        "model.compile(loss=\"categorical_crossentropy\", optimizer=\"adam\", metrics=[\"accuracy\"])\n",
        "\n",
        "# 학습(training, fitting)\n",
        "model.fit(x_train, y_train, batch_size=batch_size, epochs=epochs, validation_split=0.1)"
      ],
      "metadata": {
        "id": "G61OyGG7KP82"
      },
      "execution_count": null,
      "outputs": []
    },
    {
      "cell_type": "markdown",
      "source": [
        "# **5. 학습결과 확인**"
      ],
      "metadata": {
        "id": "jGxs9k08-BQC"
      }
    },
    {
      "cell_type": "code",
      "source": [
        "score = model.evaluate(x_test, y_test, verbose=0)\n",
        "\n",
        "print(\"Test loss:\", score[0])\n",
        "print(\"Test accuracy:\", score[1])"
      ],
      "metadata": {
        "id": "Y1ljxW8F9-xf"
      },
      "execution_count": null,
      "outputs": []
    }
  ]
}