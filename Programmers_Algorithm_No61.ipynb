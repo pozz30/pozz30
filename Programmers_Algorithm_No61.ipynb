{
 "cells": [
  {
   "cell_type": "code",
   "execution_count": null,
   "metadata": {},
   "outputs": [],
   "source": [
    "def solution(begin, end):\n",
    "    answer = []\n",
    "    \n",
    "    for i in range(begin, end+1):\n",
    "        if i == 1:\n",
    "            answer.append(0)\n",
    "        else:\n",
    "            for j in range(2,int(i**0.5)+1):\n",
    "                if i%j==0 and i//j <= 10000000:\n",
    "                    answer.append(i/j)\n",
    "                    break\n",
    "            else:\n",
    "                answer.append(1)                    \n",
    "\n",
    "    return answer"
   ]
  },
  {
   "cell_type": "code",
   "execution_count": null,
   "metadata": {},
   "outputs": [],
   "source": [
    "def dfs(queen, n, row):\n",
    "    count = 0\n",
    "    \n",
    "    if n == row:\n",
    "        return 1\n",
    "    \n",
    "    # 가로로 한번만 진행\n",
    "    for col in range(n):\n",
    "        queen[row] = col\n",
    "\n",
    "        # for-else구문\n",
    "        for x in range(row):\n",
    "            # 세로로 겹치면 안됨\n",
    "            if queen[x] == queen[row]: \n",
    "                break\n",
    "                \n",
    "            # 대각선으로 겹치면 안됨\n",
    "            if abs(queen[x]-queen[row]) == (row-x):\n",
    "                break\n",
    "        else:\n",
    "            count += dfs(queen, n, row+1)\n",
    "            \n",
    "    return count\n",
    "\n",
    "def solution(n):\n",
    "    queen = [0]*n\n",
    "        \n",
    "    return dfs(queen, n, 0)"
   ]
  }
 ],
 "metadata": {
  "language_info": {
   "name": "python"
  },
  "orig_nbformat": 4
 },
 "nbformat": 4,
 "nbformat_minor": 2
}
