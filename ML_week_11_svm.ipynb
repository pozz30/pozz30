{
  "nbformat": 4,
  "nbformat_minor": 0,
  "metadata": {
    "colab": {
      "provenance": [],
      "collapsed_sections": []
    },
    "kernelspec": {
      "name": "python3",
      "display_name": "Python 3"
    },
    "language_info": {
      "name": "python"
    }
  },
  "cells": [
    {
      "cell_type": "markdown",
      "source": [
        "# 실습 - SVM(Support Vector Machine)\n",
        "\n"
      ],
      "metadata": {
        "id": "G3ibI9ZY-WS5"
      }
    },
    {
      "cell_type": "markdown",
      "source": [
        "# **1. 필요한 라이브러리 불러오기**"
      ],
      "metadata": {
        "id": "kEfjEw9xQApi"
      }
    },
    {
      "cell_type": "code",
      "source": [
        "# 데이터, 시각화 관련 라이브러리\n",
        "import pandas as pd\n",
        "import numpy as np\n",
        "import matplotlib.pyplot as plt\n",
        "\n",
        "# SVM, Iris 데이터 불러오기 관련 라이브러리\n",
        "from sklearn import svm, datasets "
      ],
      "metadata": {
        "id": "wKhzbm3tQJ5Z"
      },
      "execution_count": 1,
      "outputs": []
    },
    {
      "cell_type": "markdown",
      "source": [
        "# **2. SVM 간단한 분류 예제**"
      ],
      "metadata": {
        "id": "8GA20e5WbN9x"
      }
    },
    {
      "cell_type": "code",
      "source": [
        "X = [[0, 0], [1, 1]]\n",
        "y = [0, 1]\n",
        "clf = svm.SVC()\n",
        "clf.fit(X, y)"
      ],
      "metadata": {
        "id": "6Tw2DQdsbKmG"
      },
      "execution_count": null,
      "outputs": []
    },
    {
      "cell_type": "code",
      "source": [
        "# 데이터 시각화\n",
        "plt.scatter([0], [0], c='red')\n",
        "plt.scatter([1], [1], c='blue')\n",
        "# plt.scatter([-1], [-1], c='red', marker='^')\n",
        "# plt.scatter([2], [2], c='blue', marker='^')\n",
        "plt.xlim(-2, 3)\n",
        "plt.ylim(-2, 3)\n",
        "plt.xlabel('X[0]')\n",
        "plt.ylabel('X[1]')\n",
        "plt.grid()\n",
        "plt.show()"
      ],
      "metadata": {
        "id": "lvLyiOb4LS4z"
      },
      "execution_count": null,
      "outputs": []
    },
    {
      "cell_type": "code",
      "source": [
        "# test data 예측\n",
        "clf.predict([[-1, -1]])"
      ],
      "metadata": {
        "id": "76EDtzk_LESg"
      },
      "execution_count": null,
      "outputs": []
    },
    {
      "cell_type": "code",
      "source": [
        "# # test data 예측\n",
        "clf.predict([[2, 2]])"
      ],
      "metadata": {
        "id": "alWPBwsjXqPu"
      },
      "execution_count": null,
      "outputs": []
    },
    {
      "cell_type": "code",
      "source": [
        "# support vectors\n",
        "clf.support_vectors_"
      ],
      "metadata": {
        "id": "MGUWNgncLFZr"
      },
      "execution_count": null,
      "outputs": []
    },
    {
      "cell_type": "code",
      "source": [
        "# support vectors의 data index\n",
        "clf.support_"
      ],
      "metadata": {
        "id": "J8-U0ULZLFu-"
      },
      "execution_count": null,
      "outputs": []
    },
    {
      "cell_type": "code",
      "source": [
        "# 클래스별 support vectors의 개수\n",
        "clf.n_support_"
      ],
      "metadata": {
        "id": "LCDgPxaRLE8q"
      },
      "execution_count": null,
      "outputs": []
    },
    {
      "cell_type": "markdown",
      "source": [
        "# **3. SVC 분류 예제(Iris data)**"
      ],
      "metadata": {
        "id": "IeB7K8p5o92X"
      }
    },
    {
      "cell_type": "code",
      "source": [
        "# Iris 데이터 불러오기\n",
        "iris = datasets.load_iris()\n",
        "\n",
        "# 0, 1번 꽃의 꽃받침(sepal)의 길이(length)와 너비(width)만 저장\n",
        "X_iris = iris.data[:100, :2]  \n",
        "y_iris = iris.target[:100]"
      ],
      "metadata": {
        "id": "BHI7X87hHtJE"
      },
      "execution_count": 9,
      "outputs": []
    },
    {
      "cell_type": "code",
      "source": [
        "y_iris"
      ],
      "metadata": {
        "id": "fyy-_CvpNg-z"
      },
      "execution_count": null,
      "outputs": []
    },
    {
      "cell_type": "code",
      "source": [
        "# SVM regularization parameter\n",
        "# 여기서 C는 수업시간의 수식의 C와 반비례 관계\n",
        "C = 100.0  \n",
        "\n",
        "# training data 적합\n",
        "clf = svm.SVC(kernel='linear', C=C).fit(X_iris, y_iris)"
      ],
      "metadata": {
        "id": "H2Gxu2pIT7pC"
      },
      "execution_count": 11,
      "outputs": []
    },
    {
      "cell_type": "code",
      "source": [
        "# support vectors\n",
        "clf.support_vectors_"
      ],
      "metadata": {
        "id": "swjohGo2Tts-"
      },
      "execution_count": null,
      "outputs": []
    },
    {
      "cell_type": "code",
      "source": [
        "# support vectors의 data index\n",
        "clf.support_"
      ],
      "metadata": {
        "id": "lEV_KdXGT2FI"
      },
      "execution_count": null,
      "outputs": []
    },
    {
      "cell_type": "code",
      "source": [
        "X_iris[clf.support_[0]]"
      ],
      "metadata": {
        "id": "f-r4e84nUw5-"
      },
      "execution_count": null,
      "outputs": []
    },
    {
      "cell_type": "code",
      "source": [
        "# 클래스별 support vectors의 개수\n",
        "clf.n_support_"
      ],
      "metadata": {
        "id": "sye-500JT4KA"
      },
      "execution_count": null,
      "outputs": []
    },
    {
      "cell_type": "code",
      "source": [
        "# SVC 시각화\n",
        "\n",
        "# 그림의 크기 설정\n",
        "plt.figure(figsize=(8,6))\n",
        "\n",
        "# 분류의 경계선과 배경 만들기\n",
        "h = .02  # step size in the mesh\n",
        "\n",
        "# create a mesh to plot in\n",
        "x_min, x_max = X_iris[:, 0].min() - 1, X_iris[:, 0].max() + 1\n",
        "y_min, y_max = X_iris[:, 1].min() - 1, X_iris[:, 1].max() + 1\n",
        "xx, yy = np.meshgrid(np.arange(x_min, x_max, h),\n",
        "                     np.arange(y_min, y_max, h))\n",
        "\n",
        "Z = clf.predict(np.c_[xx.ravel(), yy.ravel()])\n",
        "\n",
        "# Put the result into a color plot\n",
        "Z = Z.reshape(xx.shape)\n",
        "plt.contourf(xx, yy, Z, cmap=plt.cm.coolwarm, alpha=0.8)\n",
        "\n",
        "# training data를 배경 위에 표시\n",
        "plt.scatter(X_iris[:, 0], X_iris[:, 1], c=y_iris, cmap=plt.cm.coolwarm)\n",
        "# support vectors를 배경 위에 표시\n",
        "for sv_idx in clf.support_:\n",
        "  plt.scatter(X_iris[sv_idx][0], X_iris[sv_idx][1], c='white', marker='s')\n",
        "plt.xlabel('Sepal length')\n",
        "plt.ylabel('Sepal width')\n",
        "plt.xlim(xx.min(), xx.max())\n",
        "plt.ylim(yy.min(), yy.max())\n",
        "plt.xticks(())\n",
        "plt.yticks(())\n",
        "plt.title('SVC with linear kernel')\n",
        "\n",
        "plt.show()"
      ],
      "metadata": {
        "id": "aJ3M1NksUB0c"
      },
      "execution_count": null,
      "outputs": []
    },
    {
      "cell_type": "markdown",
      "source": [
        "# **4. SVM kernel 비교 예제(Iris data)**"
      ],
      "metadata": {
        "id": "Ef07GPLfTjYb"
      }
    },
    {
      "cell_type": "code",
      "source": [
        "# SVM regularization parameter\n",
        "# 여기서 C는 수업시간의 수식의 C와 반비례 관계\n",
        "C = 1.0 \n",
        "\n",
        "# SVC\n",
        "svc = svm.SVC(kernel='linear', C=C).fit(X_iris, y_iris)\n",
        "\n",
        "# SVM(radial kernel)\n",
        "rbf_svc = svm.SVC(kernel='rbf', gamma=1.5, C=C).fit(X_iris, y_iris)\n",
        "\n",
        "# SVM(polynomial kernel)\n",
        "poly_svc = svm.SVC(kernel='poly', degree=3, C=C).fit(X_iris, y_iris)"
      ],
      "metadata": {
        "id": "G61OyGG7KP82"
      },
      "execution_count": 17,
      "outputs": []
    },
    {
      "cell_type": "code",
      "source": [
        "# SVC 시각화\n",
        "\n",
        "# 그림의 크기 설정\n",
        "plt.figure(figsize=(12,3))\n",
        "\n",
        "# 분류의 경계선과 배경 만들기\n",
        "h = .02  # step size in the mesh\n",
        "\n",
        "# create a mesh to plot in\n",
        "x_min, x_max = X_iris[:, 0].min() - 1, X_iris[:, 0].max() + 1\n",
        "y_min, y_max = X_iris[:, 1].min() - 1, X_iris[:, 1].max() + 1\n",
        "xx, yy = np.meshgrid(np.arange(x_min, x_max, h),\n",
        "                     np.arange(y_min, y_max, h))\n",
        "\n",
        "# title for the plots\n",
        "titles = ['SVC with linear kernel',\n",
        "          'SVC with RBF kernel',\n",
        "          'SVC with polynomial (degree 3) kernel']\n",
        "\n",
        "for i, clf in enumerate((svc, rbf_svc, poly_svc)):\n",
        "    # Plot the decision boundary. For that, we will assign a color to each\n",
        "    # point in the mesh [x_min, x_max]x[y_min, y_max].\n",
        "    plt.subplot(1, 3, i + 1)\n",
        "    plt.subplots_adjust(wspace=0.4, hspace=0.4)\n",
        "\n",
        "    Z = clf.predict(np.c_[xx.ravel(), yy.ravel()])\n",
        "\n",
        "    # Put the result into a color plot\n",
        "    Z = Z.reshape(xx.shape)\n",
        "    plt.contourf(xx, yy, Z, cmap=plt.cm.coolwarm, alpha=0.8)\n",
        "\n",
        "    # training data를 배경 위에 표시\n",
        "    plt.scatter(X_iris[:, 0], X_iris[:, 1], c=y_iris, cmap=plt.cm.coolwarm)\n",
        "    plt.xlabel('Sepal length')\n",
        "    plt.ylabel('Sepal width')\n",
        "    plt.xlim(xx.min(), xx.max())\n",
        "    plt.ylim(yy.min(), yy.max())\n",
        "    plt.xticks(())\n",
        "    plt.yticks(())\n",
        "    plt.title(titles[i])\n",
        "\n",
        "plt.show()"
      ],
      "metadata": {
        "id": "AQe0ryuqJok5"
      },
      "execution_count": null,
      "outputs": []
    }
  ]
}