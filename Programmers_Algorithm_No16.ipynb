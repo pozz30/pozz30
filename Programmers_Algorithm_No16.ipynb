{
 "cells": [
  {
   "cell_type": "code",
   "execution_count": 19,
   "id": "5c7f4168",
   "metadata": {},
   "outputs": [],
   "source": [
    "def solution(s):\n",
    "    tmp = []\n",
    "    for i in range(len(s)):\n",
    "        if i == 0:\n",
    "            if s[0] == '(':\n",
    "                tmp.append(s[i])\n",
    "            else:\n",
    "                return False\n",
    "        else:\n",
    "            if tmp[-1:] == ['('] and s[i] == ')':\n",
    "                del tmp[-1]\n",
    "            else:\n",
    "                tmp.append(s[i])\n",
    "        print(tmp)\n",
    "    return True if len(tmp) == 0 else False"
   ]
  },
  {
   "cell_type": "code",
   "execution_count": 20,
   "id": "49df3a06",
   "metadata": {},
   "outputs": [
    {
     "name": "stdout",
     "output_type": "stream",
     "text": [
      "['(']\n",
      "[]\n",
      "['(']\n",
      "[]\n"
     ]
    },
    {
     "data": {
      "text/plain": [
       "True"
      ]
     },
     "execution_count": 20,
     "metadata": {},
     "output_type": "execute_result"
    }
   ],
   "source": [
    "solution(\"()()\")"
   ]
  }
 ],
 "metadata": {
  "kernelspec": {
   "display_name": "Python 3",
   "language": "python",
   "name": "python3"
  },
  "language_info": {
   "codemirror_mode": {
    "name": "ipython",
    "version": 3
   },
   "file_extension": ".py",
   "mimetype": "text/x-python",
   "name": "python",
   "nbconvert_exporter": "python",
   "pygments_lexer": "ipython3",
   "version": "3.8.8"
  }
 },
 "nbformat": 4,
 "nbformat_minor": 5
}
