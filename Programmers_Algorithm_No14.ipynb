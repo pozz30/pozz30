{
 "cells": [
  {
   "cell_type": "code",
   "execution_count": null,
   "id": "7ccac6e1",
   "metadata": {},
   "outputs": [],
   "source": [
    "def solution(n):\n",
    "    return sum(int(i) for i in str(n))"
   ]
  },
  {
   "cell_type": "code",
   "execution_count": null,
   "id": "daa3f621",
   "metadata": {},
   "outputs": [],
   "source": [
    "def solution(n):\n",
    "    answer = [int(i) for i in str(n)]\n",
    "    return answer[::-1]"
   ]
  },
  {
   "cell_type": "code",
   "execution_count": null,
   "id": "a1f77922",
   "metadata": {},
   "outputs": [],
   "source": [
    "def solution(n):\n",
    "    answer = sorted([i for i in str(n)], reverse=True)\n",
    "    return int(''.join(answer))"
   ]
  },
  {
   "cell_type": "code",
   "execution_count": null,
   "id": "97d9092e",
   "metadata": {},
   "outputs": [],
   "source": [
    "def solution(n):\n",
    "    return (n**0.5 + 1) ** 2 if int(n**0.5) == n**0.5 else -1"
   ]
  },
  {
   "cell_type": "code",
   "execution_count": 1,
   "id": "201f0383",
   "metadata": {},
   "outputs": [],
   "source": [
    "def solution(arr):\n",
    "    return arr.remove(min(arr)) if len(arr) > 2 else [-1]"
   ]
  },
  {
   "cell_type": "code",
   "execution_count": 14,
   "id": "8ab8504c",
   "metadata": {},
   "outputs": [],
   "source": [
    "def solution(arr):\n",
    "    if len(arr) >= 2:\n",
    "        arr.remove(min(arr))\n",
    "    else:\n",
    "        arr = [-1]\n",
    "    return arr"
   ]
  },
  {
   "cell_type": "code",
   "execution_count": null,
   "id": "8176b035",
   "metadata": {},
   "outputs": [],
   "source": [
    "def solution(num):\n",
    "    return \"Odd\" if num%2 != 0 else \"Even\""
   ]
  },
  {
   "cell_type": "code",
   "execution_count": null,
   "id": "e0dbe802",
   "metadata": {},
   "outputs": [],
   "source": [
    "from math import gcd\n",
    "\n",
    "def solution(n, m):\n",
    "    answer = []\n",
    "    answer.append(gcd(n,m))\n",
    "    answer.append((n*m)/answer[0])\n",
    "    return answer"
   ]
  },
  {
   "cell_type": "code",
   "execution_count": null,
   "id": "31d8b9c6",
   "metadata": {},
   "outputs": [],
   "source": [
    "def solution(num):\n",
    "    answer = 0\n",
    "    if num != 1:\n",
    "        while num != 1:\n",
    "            if num%2 == 0:\n",
    "                num = num/2\n",
    "                answer += 1\n",
    "            else:\n",
    "                num = num*3 +1\n",
    "                answer += 1\n",
    "            if answer >= 500:\n",
    "                answer = -1\n",
    "                break\n",
    "\n",
    "    return answer"
   ]
  },
  {
   "cell_type": "code",
   "execution_count": null,
   "id": "94730b71",
   "metadata": {},
   "outputs": [],
   "source": [
    "def solution(arr):\n",
    "    return sum([i for i in arr])/len(arr)"
   ]
  },
  {
   "cell_type": "code",
   "execution_count": null,
   "id": "24b39ad2",
   "metadata": {},
   "outputs": [],
   "source": [
    "def solution(x):\n",
    "    return True if x%sum(int(i) for i in str(x)) == 0 else False"
   ]
  },
  {
   "cell_type": "code",
   "execution_count": null,
   "id": "7c21a891",
   "metadata": {},
   "outputs": [],
   "source": [
    "def solution(phone_number):\n",
    "    return '*' * (len(phone_number)-4) + phone_number[-4:]"
   ]
  },
  {
   "cell_type": "code",
   "execution_count": null,
   "id": "9fac9695",
   "metadata": {},
   "outputs": [],
   "source": [
    "def solution(arr1, arr2):\n",
    "    c = []\n",
    "    for i,j in zip(arr1,arr2):\n",
    "        tmp = []\n",
    "        for n,m in zip(i,j):\n",
    "            tmp.append(n+m)\n",
    "        c.append(tmp)\n",
    "    return c"
   ]
  },
  {
   "cell_type": "code",
   "execution_count": null,
   "id": "459ef231",
   "metadata": {},
   "outputs": [],
   "source": [
    "def solution(x, n):\n",
    "    return [x*i for i in range(1,n+1)]"
   ]
  },
  {
   "cell_type": "code",
   "execution_count": null,
   "id": "b40dc41c",
   "metadata": {},
   "outputs": [],
   "source": [
    "a, b = map(int, input().strip().split(' '))\n",
    "for i in range(b):\n",
    "    print('*'*a)"
   ]
  },
  {
   "cell_type": "code",
   "execution_count": null,
   "id": "2973701f",
   "metadata": {},
   "outputs": [],
   "source": [
    "def solution(a, speeds):\n",
    "    day = [0] * len(a)\n",
    "    for i in range(len(a)):\n",
    "        b = (100-a[i]) / speeds[i]\n",
    "        day[i] = int(b) if b == int(b) else (100-a[i]) // speeds[i]+1\n",
    "\n",
    "    answer = []\n",
    "    for i in range(len(day)):\n",
    "        if day[i] != 0:\n",
    "            cnt = 1\n",
    "            for j in range(i+1,len(day)):\n",
    "                if day[i] >= day[j] and sum(day[i+1:j]) ==0:\n",
    "                    day[j] = 0\n",
    "                    cnt += 1\n",
    "            answer.append(cnt)      \n",
    "    return answer"
   ]
  }
 ],
 "metadata": {
  "kernelspec": {
   "display_name": "Python 3",
   "language": "python",
   "name": "python3"
  },
  "language_info": {
   "codemirror_mode": {
    "name": "ipython",
    "version": 3
   },
   "file_extension": ".py",
   "mimetype": "text/x-python",
   "name": "python",
   "nbconvert_exporter": "python",
   "pygments_lexer": "ipython3",
   "version": "3.8.8"
  }
 },
 "nbformat": 4,
 "nbformat_minor": 5
}
