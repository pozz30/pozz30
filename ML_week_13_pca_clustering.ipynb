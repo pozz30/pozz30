{
  "nbformat": 4,
  "nbformat_minor": 0,
  "metadata": {
    "colab": {
      "provenance": [],
      "collapsed_sections": []
    },
    "kernelspec": {
      "name": "python3",
      "display_name": "Python 3"
    },
    "language_info": {
      "name": "python"
    },
    "gpuClass": "standard"
  },
  "cells": [
    {
      "cell_type": "markdown",
      "source": [
        "# 실습 - PCA와 Clustering\n"
      ],
      "metadata": {
        "id": "G3ibI9ZY-WS5"
      }
    },
    {
      "cell_type": "markdown",
      "source": [
        "# **1. 필요한 라이브러리 불러오기**"
      ],
      "metadata": {
        "id": "kEfjEw9xQApi"
      }
    },
    {
      "cell_type": "code",
      "source": [
        "# 데이터, 시각화 관련 라이브러리\n",
        "import numpy as np\n",
        "import pandas as pd\n",
        "import matplotlib.pyplot as plt\n",
        "\n",
        "# PCA 라이브러리 \n",
        "from sklearn.decomposition import PCA\n",
        "\n",
        "# Clustering 라이브러리 \n",
        "from sklearn.cluster import KMeans\n",
        "\n",
        "# Iris data를 불러오기 위한 라이브러리\n",
        "from sklearn.datasets import load_iris"
      ],
      "metadata": {
        "id": "wKhzbm3tQJ5Z"
      },
      "execution_count": 1,
      "outputs": []
    },
    {
      "cell_type": "markdown",
      "source": [
        "# **2. PCA 간단한 예제**"
      ],
      "metadata": {
        "id": "8GA20e5WbN9x"
      }
    },
    {
      "cell_type": "code",
      "source": [
        "X = np.array([[-1, -1], [-2, -1], [-3, -2], [1, 1], [2, 1], [3, 2]])\n",
        "pca = PCA(n_components=2)\n",
        "\n",
        "# 적합(fitting, training)\n",
        "pca.fit(X)"
      ],
      "metadata": {
        "id": "6Tw2DQdsbKmG"
      },
      "execution_count": null,
      "outputs": []
    },
    {
      "cell_type": "code",
      "source": [
        "X"
      ],
      "metadata": {
        "id": "OEG58DJur7KQ"
      },
      "execution_count": null,
      "outputs": []
    },
    {
      "cell_type": "code",
      "source": [
        "# feature space에서의 데이터 \n",
        "plt.scatter(X[:, 0], X[:, 1])\n",
        "plt.xlabel('X1')\n",
        "plt.ylabel('X2')\n",
        "plt.grid()\n",
        "plt.show()"
      ],
      "metadata": {
        "id": "skM3J3REsDmZ"
      },
      "execution_count": null,
      "outputs": []
    },
    {
      "cell_type": "code",
      "source": [
        "# PC score\n",
        "Z = pca.fit_transform(X)"
      ],
      "metadata": {
        "id": "K-L5r0COsi04"
      },
      "execution_count": 5,
      "outputs": []
    },
    {
      "cell_type": "code",
      "source": [
        "Z"
      ],
      "metadata": {
        "id": "jnIxyNq-slEt"
      },
      "execution_count": null,
      "outputs": []
    },
    {
      "cell_type": "code",
      "source": [
        "# PC space에서의 데이터 \n",
        "plt.scatter(Z[:, 0], Z[:, 1])\n",
        "plt.xlabel('Z1')\n",
        "plt.ylabel('Z2')\n",
        "plt.grid()\n",
        "plt.show()"
      ],
      "metadata": {
        "id": "kZU9Hnj7oRqj"
      },
      "execution_count": null,
      "outputs": []
    },
    {
      "cell_type": "code",
      "source": [
        "# PC loading 벡터 \n",
        "phi = pca.components_"
      ],
      "metadata": {
        "id": "7kFxm7HIs26h"
      },
      "execution_count": 8,
      "outputs": []
    },
    {
      "cell_type": "code",
      "source": [
        "phi"
      ],
      "metadata": {
        "id": "Vo8dQt29s83n"
      },
      "execution_count": null,
      "outputs": []
    },
    {
      "cell_type": "code",
      "source": [
        "# Z \n",
        "np.matmul(X, phi.T)"
      ],
      "metadata": {
        "id": "efMOG-ubs-kX"
      },
      "execution_count": null,
      "outputs": []
    },
    {
      "cell_type": "code",
      "source": [
        "# PVE(proportion of variance explained)\n",
        "pca.explained_variance_ratio_"
      ],
      "metadata": {
        "id": "I1FDTXKd32mS"
      },
      "execution_count": null,
      "outputs": []
    },
    {
      "cell_type": "markdown",
      "source": [
        "# **3. PCA 예제(Iris 데이터)**"
      ],
      "metadata": {
        "id": "IeB7K8p5o92X"
      }
    },
    {
      "cell_type": "code",
      "source": [
        "# Iris data 불러오기\n",
        "iris = load_iris()\n",
        "\n",
        "# 데이터를 feature와 response로 분리\n",
        "X_iris, y_iris = iris.data, iris.target"
      ],
      "metadata": {
        "id": "BHI7X87hHtJE"
      },
      "execution_count": 12,
      "outputs": []
    },
    {
      "cell_type": "code",
      "source": [
        "X_iris"
      ],
      "metadata": {
        "id": "5wVIUN-uzDjl"
      },
      "execution_count": null,
      "outputs": []
    },
    {
      "cell_type": "code",
      "source": [
        "pca = PCA(n_components=3)\n",
        "\n",
        "# 적합(fitting, training)\n",
        "pca.fit(X_iris)"
      ],
      "metadata": {
        "id": "zxOusJN6yt94"
      },
      "execution_count": null,
      "outputs": []
    },
    {
      "cell_type": "code",
      "source": [
        "# PC score\n",
        "Z = pca.fit_transform(X_iris)"
      ],
      "metadata": {
        "id": "dKapHzhzzW1h"
      },
      "execution_count": 15,
      "outputs": []
    },
    {
      "cell_type": "code",
      "source": [
        "Z"
      ],
      "metadata": {
        "id": "de4KQCYvzaTj"
      },
      "execution_count": null,
      "outputs": []
    },
    {
      "cell_type": "code",
      "source": [
        "# PC space에서의 데이터 \n",
        "fig = plt.figure(figsize=(8, 8))\n",
        "ax = fig.add_subplot(projection='3d')\n",
        "ax.scatter(Z[:, 0], Z[:, 1], Z[:, 2], c=y_iris, s=15)\n",
        "ax.set_xlabel('Z1')\n",
        "ax.set_ylabel('Z2')\n",
        "ax.set_zlabel('Z3')\n",
        "plt.show()"
      ],
      "metadata": {
        "id": "1aZyukiWzg2B"
      },
      "execution_count": null,
      "outputs": []
    },
    {
      "cell_type": "code",
      "source": [
        "# proportion of variance explained\n",
        "pca.explained_variance_ratio_"
      ],
      "metadata": {
        "id": "ErBhRGZizopB"
      },
      "execution_count": null,
      "outputs": []
    },
    {
      "cell_type": "markdown",
      "source": [
        "# **4. K-means clustering 간단한 예제**"
      ],
      "metadata": {
        "id": "Ef07GPLfTjYb"
      }
    },
    {
      "cell_type": "code",
      "source": [
        "X = np.array([[1, 2], [1, 4], [1, 0], [10, 2], [10, 4], [10, 0]])"
      ],
      "metadata": {
        "id": "G61OyGG7KP82"
      },
      "execution_count": 19,
      "outputs": []
    },
    {
      "cell_type": "code",
      "source": [
        "plt.scatter(X[:, 0], X[:, 1])\n",
        "plt.xlabel('X1')\n",
        "plt.ylabel('X2')\n",
        "plt.grid()\n",
        "plt.show()"
      ],
      "metadata": {
        "id": "_uEt0-s44l6M"
      },
      "execution_count": null,
      "outputs": []
    },
    {
      "cell_type": "code",
      "source": [
        "# 적합(fitting, training)\n",
        "kmeans = KMeans(n_clusters=2, random_state=0).fit(X)\n",
        "\n",
        "# 각각의 데이터가 어느 클러스터에 포함되는지 표시\n",
        "kmeans.labels_"
      ],
      "metadata": {
        "id": "1rskWgWN4nzL"
      },
      "execution_count": null,
      "outputs": []
    },
    {
      "cell_type": "code",
      "source": [
        "# 클러스터링 결과, 서로 다른 색깔은 서로 다른 클러스터를 표현\n",
        "plt.scatter(X[:, 0], X[:, 1], c=kmeans.labels_)\n",
        "plt.xlabel('X1')\n",
        "plt.ylabel('X2')\n",
        "plt.grid()\n",
        "plt.show()"
      ],
      "metadata": {
        "id": "mx4GWqGn4FHS"
      },
      "execution_count": null,
      "outputs": []
    },
    {
      "cell_type": "markdown",
      "source": [
        "# **5. K-means clustering 예제(Iris 데이터)**"
      ],
      "metadata": {
        "id": "jGxs9k08-BQC"
      }
    },
    {
      "cell_type": "code",
      "source": [
        "y_iris"
      ],
      "metadata": {
        "id": "0EE5cW-d5LnX"
      },
      "execution_count": null,
      "outputs": []
    },
    {
      "cell_type": "code",
      "source": [
        "# 원본 데이터, 서로 다른 색깔은 원본 데이터의 클래스를 표현\n",
        "plt.scatter(X_iris[:, 0], X_iris[:, 1], c=y_iris)\n",
        "plt.xlabel('sepal length (cm)')\n",
        "plt.ylabel('sepal width (cm)')\n",
        "plt.grid()\n",
        "plt.show()"
      ],
      "metadata": {
        "id": "83B0YIve5ThB"
      },
      "execution_count": null,
      "outputs": []
    },
    {
      "cell_type": "code",
      "source": [
        "# 적합(fitting, training)\n",
        "kmeans = KMeans(n_clusters=2, random_state=0).fit(X_iris)\n",
        "\n",
        "# 각각의 데이터가 어느 클러스터에 포함되는지 표시\n",
        "kmeans.labels_"
      ],
      "metadata": {
        "id": "Iadlz_kz45Co"
      },
      "execution_count": null,
      "outputs": []
    },
    {
      "cell_type": "code",
      "source": [
        "# 클러스터링 결과, 서로 다른 색깔은 서로 다른 클러스터를 표현\n",
        "plt.scatter(X_iris[:, 0], X_iris[:, 1], c=kmeans.labels_)\n",
        "plt.xlabel('sepal length (cm)')\n",
        "plt.ylabel('sepal width (cm)')\n",
        "plt.grid()\n",
        "plt.show()"
      ],
      "metadata": {
        "id": "3ccD_CsN4_8U"
      },
      "execution_count": null,
      "outputs": []
    }
  ]
}