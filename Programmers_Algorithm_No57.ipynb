{
 "cells": [
  {
   "cell_type": "code",
   "execution_count": 5,
   "metadata": {},
   "outputs": [
    {
     "name": "stdout",
     "output_type": "stream",
     "text": [
      "['1', '2', '2', '3', '3', '3']\n"
     ]
    }
   ],
   "source": [
    "def solution(want, number, discount):\n",
    "    all_want = []\n",
    "    cnt = 0\n",
    "    \n",
    "    for i in range(len(want)):\n",
    "        for j in range(number[i]):\n",
    "            all_want.append(want[i])\n",
    "    all_want = sorted(all_want)\n",
    "    \n",
    "    for i in range (len(discount)-sum(number)+1):\n",
    "        tmp = discount[i:i+sum(number)]\n",
    "        if sorted(tmp) == all_want:\n",
    "            cnt += 1\n",
    "        else:\n",
    "            continue\n",
    "        \n",
    "    return cnt"
   ]
  },
  {
   "cell_type": "code",
   "execution_count": 13,
   "metadata": {},
   "outputs": [],
   "source": [
    "def solution(want, number, discount):\n",
    "    answer = 0\n",
    "\n",
    "    for i in range(len(discount)-sum(number)+1):\n",
    "        wn = {i:j for i,j in zip(want,number)}\n",
    "        for j in discount[i:i+sum(number)]:\n",
    "            if j not in wn.keys():\n",
    "                break\n",
    "            else:\n",
    "                wn[j] -= 1\n",
    "                if wn[j] < 0:\n",
    "                    break\n",
    "\n",
    "        if set(wn.values()) == {0}:\n",
    "            print(wn.values())\n",
    "            print(set(wn.values()))\n",
    "            answer += 1\n",
    "    return answer"
   ]
  },
  {
   "cell_type": "code",
   "execution_count": 14,
   "metadata": {},
   "outputs": [
    {
     "name": "stdout",
     "output_type": "stream",
     "text": [
      "dict_values([0, 0, 0, 0, 0])\n",
      "{0}\n",
      "dict_values([0, 0, 0, 0, 0])\n",
      "{0}\n",
      "dict_values([0, 0, 0, 0, 0])\n",
      "{0}\n"
     ]
    },
    {
     "data": {
      "text/plain": [
       "3"
      ]
     },
     "execution_count": 14,
     "metadata": {},
     "output_type": "execute_result"
    }
   ],
   "source": [
    "solution([\"banana\", \"apple\", \"rice\", \"pork\", \"pot\"], [3, 2, 2, 2, 1], [\"chicken\", \"apple\", \"apple\", \"banana\", \"rice\", \"apple\", \"pork\", \"banana\", \"pork\", \"rice\", \"pot\", \"banana\", \"apple\", \"banana\"])"
   ]
  },
  {
   "cell_type": "code",
   "execution_count": 17,
   "metadata": {},
   "outputs": [
    {
     "name": "stdout",
     "output_type": "stream",
     "text": [
      "dict_values([1, 2, 3]) <class 'dict_values'>\n",
      "dict_keys(['a', 'b', 'c'])\n"
     ]
    }
   ],
   "source": [
    "a = {'a':1, 'b':2, 'c':3}\n",
    "print(a.values(), type(a.values()))\n",
    "print(a.keys())"
   ]
  },
  {
   "cell_type": "code",
   "execution_count": null,
   "metadata": {},
   "outputs": [],
   "source": []
  }
 ],
 "metadata": {
  "kernelspec": {
   "display_name": "Python 3.10.2 64-bit",
   "language": "python",
   "name": "python3"
  },
  "language_info": {
   "codemirror_mode": {
    "name": "ipython",
    "version": 3
   },
   "file_extension": ".py",
   "mimetype": "text/x-python",
   "name": "python",
   "nbconvert_exporter": "python",
   "pygments_lexer": "ipython3",
   "version": "3.10.2"
  },
  "orig_nbformat": 4,
  "vscode": {
   "interpreter": {
    "hash": "c2397ebbcede9ef22e8cbfc88c22cf40f693f7334f209f1e17c60208fcd5767a"
   }
  }
 },
 "nbformat": 4,
 "nbformat_minor": 2
}
