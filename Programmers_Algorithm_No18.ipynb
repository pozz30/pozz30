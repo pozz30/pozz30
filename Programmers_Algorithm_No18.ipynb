{
 "cells": [
  {
   "cell_type": "code",
   "execution_count": null,
   "metadata": {},
   "outputs": [],
   "source": [
    "def solution(priorities, location):\n",
    "    queue =  [(i,p) for i,p in enumerate(priorities)]\n",
    "    answer = 0\n",
    "    while True:\n",
    "        cur = queue.pop(0)\n",
    "        if any(cur[1] < q[1] for q in queue):\n",
    "            queue.append(cur)\n",
    "        else:\n",
    "            answer += 1\n",
    "            if cur[0] == location:\n",
    "                return answer"
   ]
  },
  {
   "cell_type": "code",
   "execution_count": null,
   "metadata": {},
   "outputs": [],
   "source": [
    "from collections import deque\n",
    "\n",
    "def solution(priorities, location):\n",
    "    tmp = [0] * len(priorities)\n",
    "    k = ro = 0\n",
    "    i = 1\n",
    "    priorities = deque(priorities)\n",
    "    while sum(priorities) != 0:\n",
    "        k = priorities.index(max(priorities))\n",
    "        ro += k\n",
    "        while True:\n",
    "            if ro >= len(priorities):\n",
    "                ro -= len(priorities)\n",
    "                if ro < len(priorities):\n",
    "                    tmp[ro] = i\n",
    "                    break\n",
    "            else:\n",
    "                tmp[ro] = i\n",
    "                break\n",
    "        \n",
    "        priorities[priorities.index(max(priorities))] = 0\n",
    "        priorities.rotate(-1 * k)\n",
    "        i += 1\n",
    "    return tmp[location]"
   ]
  },
  {
   "cell_type": "code",
   "execution_count": null,
   "metadata": {},
   "outputs": [],
   "source": [
    "def solution(priorities, location):\n",
    "    jobs = len(priorities)\n",
    "    answer = 0\n",
    "    cursor = 0\n",
    "    while True:\n",
    "        if max(priorities) == priorities[cursor%jobs]:\n",
    "            priorities[cursor%jobs] = 0\n",
    "            answer += 1\n",
    "            if cursor%jobs == location:\n",
    "                break\n",
    "        cursor += 1   \n",
    "    return answer"
   ]
  }
 ],
 "metadata": {
  "kernelspec": {
   "display_name": "Python 3.10.2 64-bit",
   "language": "python",
   "name": "python3"
  },
  "language_info": {
   "name": "python",
   "version": "3.10.2"
  },
  "orig_nbformat": 4,
  "vscode": {
   "interpreter": {
    "hash": "c2397ebbcede9ef22e8cbfc88c22cf40f693f7334f209f1e17c60208fcd5767a"
   }
  }
 },
 "nbformat": 4,
 "nbformat_minor": 2
}
