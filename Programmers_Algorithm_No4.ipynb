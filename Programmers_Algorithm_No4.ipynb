{
 "cells": [
  {
   "cell_type": "code",
   "execution_count": 1,
   "id": "b1a5a937",
   "metadata": {},
   "outputs": [],
   "source": [
    "def solution(sizes):\n",
    "    tmp = std = 0\n",
    "    a = []\n",
    "    b = []\n",
    "    c = []\n",
    "    for i in range (0,len(sizes)):\n",
    "        a.append(sizes[i][0])\n",
    "        b.append(sizes[i][1])\n",
    "    if max(a) > max(b):\n",
    "        std = max(a)\n",
    "        for j in range (0, len(sizes)):\n",
    "            if sizes[j][0] > sizes[j][1]:\n",
    "                continue\n",
    "            else:\n",
    "                sizes[j][0], sizes[j][1] = sizes[j][1], sizes[j][0]\n",
    "        for k in range (0, len(sizes)):\n",
    "            c.append(sizes[k][1])\n",
    "        tmp = max(c)\n",
    "    else:\n",
    "        std = max(b)\n",
    "        for j in range (0, len(sizes)):\n",
    "            if sizes[j][0] < sizes[j][1]:\n",
    "                continue\n",
    "            else:\n",
    "                sizes[j][0], sizes[j][1] = sizes[j][1], sizes[j][0]\n",
    "        for k in range (0, len(sizes)):\n",
    "            c.append(sizes[k][0])\n",
    "        tmp = max(c)\n",
    "    answer = std * tmp\n",
    "    return answer"
   ]
  },
  {
   "cell_type": "code",
   "execution_count": 2,
   "id": "553f0c21",
   "metadata": {},
   "outputs": [
    {
     "data": {
      "text/plain": [
       "4000"
      ]
     },
     "execution_count": 2,
     "metadata": {},
     "output_type": "execute_result"
    }
   ],
   "source": [
    "solution([[60, 50], [30, 70], [60, 30], [80, 40]])"
   ]
  }
 ],
 "metadata": {
  "kernelspec": {
   "display_name": "Python 3",
   "language": "python",
   "name": "python3"
  },
  "language_info": {
   "codemirror_mode": {
    "name": "ipython",
    "version": 3
   },
   "file_extension": ".py",
   "mimetype": "text/x-python",
   "name": "python",
   "nbconvert_exporter": "python",
   "pygments_lexer": "ipython3",
   "version": "3.8.8"
  }
 },
 "nbformat": 4,
 "nbformat_minor": 5
}
