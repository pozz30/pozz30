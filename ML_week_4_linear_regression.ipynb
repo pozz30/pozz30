{
  "nbformat": 4,
  "nbformat_minor": 0,
  "metadata": {
    "colab": {
      "provenance": [],
      "collapsed_sections": []
    },
    "kernelspec": {
      "name": "python3",
      "display_name": "Python 3"
    },
    "language_info": {
      "name": "python"
    }
  },
  "cells": [
    {
      "cell_type": "markdown",
      "source": [
        "# 실습 - 단순선형회귀\n"
      ],
      "metadata": {
        "id": "G3ibI9ZY-WS5"
      }
    },
    {
      "cell_type": "markdown",
      "source": [
        "# **1. 필요한 라이브러리 불러오기**"
      ],
      "metadata": {
        "id": "kEfjEw9xQApi"
      }
    },
    {
      "cell_type": "code",
      "source": [
        "# 데이터, 시각화 관련 라이브러리\n",
        "import pandas as pd\n",
        "import numpy as np\n",
        "import matplotlib.pyplot as plt\n",
        "\n",
        "# 선형회귀 관련 scikit-learn 라이브러리\n",
        "from sklearn import datasets, linear_model\n",
        "from sklearn.metrics import mean_squared_error, r2_score\n",
        "\n",
        "# 선형회귀 관련 statsmodels 라이브러리\n",
        "import statsmodels.api as sm"
      ],
      "metadata": {
        "id": "wKhzbm3tQJ5Z"
      },
      "execution_count": 1,
      "outputs": []
    },
    {
      "cell_type": "markdown",
      "source": [
        "# **2. 간단한 예제**"
      ],
      "metadata": {
        "id": "IeB7K8p5o92X"
      }
    },
    {
      "cell_type": "code",
      "source": [
        "# 데이터 \n",
        "X = np.array([[0], [1], [2]])\n",
        "y = np.array([0, 1.2, 1.6])\n",
        "\n",
        "# 선형회귀 object 생성\n",
        "reg = linear_model.LinearRegression()\n",
        "\n",
        "# training\n",
        "reg.fit(X, y)\n",
        "\n",
        "# training data 예측\n",
        "pred_train = reg.predict(X) \n",
        "\n",
        "# test\n",
        "pred_test = reg.predict([[1.5]])"
      ],
      "metadata": {
        "id": "boh23nAeo2Z0"
      },
      "execution_count": 2,
      "outputs": []
    },
    {
      "cell_type": "code",
      "source": [
        "# Plot outputs\n",
        "plt.scatter(X, y, color=\"black\")\n",
        "plt.scatter(1.5, pred_test, color=\"red\")\n",
        "plt.plot(X, pred_train, color=\"blue\", linewidth=3)\n",
        "\n",
        "plt.xlabel(\"X\")\n",
        "plt.ylabel(\"y\")\n",
        "\n",
        "plt.grid()\n",
        "\n",
        "plt.show()"
      ],
      "metadata": {
        "id": "k19CZawSqoaz"
      },
      "execution_count": null,
      "outputs": []
    },
    {
      "cell_type": "code",
      "source": [
        "# test data 예측값\n",
        "pred_test"
      ],
      "metadata": {
        "id": "WoRxlCQHpiHn"
      },
      "execution_count": null,
      "outputs": []
    },
    {
      "cell_type": "code",
      "source": [
        "# coefficient\n",
        "reg.coef_"
      ],
      "metadata": {
        "id": "_JKzw1DZqL4m"
      },
      "execution_count": null,
      "outputs": []
    },
    {
      "cell_type": "markdown",
      "source": [
        "# **3. Advertising 데이터 불러오기**\n",
        "\n"
      ],
      "metadata": {
        "id": "boA6au-PQi8k"
      }
    },
    {
      "cell_type": "code",
      "source": [
        "# 데이터 loading\n",
        "from google.colab import drive\n",
        "drive.mount('/content/drive')\n",
        "\n",
        "ad = pd.read_csv(\"/content/drive/MyDrive/Colab Notebooks/data/Advertising.csv\", index_col=0)"
      ],
      "metadata": {
        "id": "-5tdfic8RECD"
      },
      "execution_count": null,
      "outputs": []
    },
    {
      "cell_type": "code",
      "source": [
        "ad"
      ],
      "metadata": {
        "id": "EjrxZ2O6gSk5"
      },
      "execution_count": null,
      "outputs": []
    },
    {
      "cell_type": "markdown",
      "source": [
        "# **4. Advertising data 선형회귀(scikit-learn)**"
      ],
      "metadata": {
        "id": "cMH0KRV_mfyh"
      }
    },
    {
      "cell_type": "code",
      "source": [
        "# training/test data 분리\n",
        "train = ad[:-20]\n",
        "test = ad[-20:]\n",
        "\n",
        "# training data의 feature와 response 분리\n",
        "train_X = train[[\"TV\", \"Radio\", \"Newspaper\"]]\n",
        "train_y = train[[\"Sales\"]]\n",
        "\n",
        "# test data의 feature와 response 분리\n",
        "test_X = test[[\"TV\", \"Radio\", \"Newspaper\"]]\n",
        "test_y = test[[\"Sales\"]]"
      ],
      "metadata": {
        "id": "wFlnaG8ByhTJ"
      },
      "execution_count": 8,
      "outputs": []
    },
    {
      "cell_type": "code",
      "source": [
        "# 선형회귀 object 생성\n",
        "regr = linear_model.LinearRegression()\n",
        "\n",
        "# training data를 이용하여 적합\n",
        "regr.fit(train_X[[\"TV\"]], train_y)\n",
        "\n",
        "# training data를 이용하여 예측\n",
        "train_y_pred = regr.predict(train_X[[\"TV\"]])\n",
        "\n",
        "# test data를 이용하여 예측\n",
        "test_y_pred = regr.predict(test_X[[\"TV\"]])"
      ],
      "metadata": {
        "id": "RVGfLyD6mlUH"
      },
      "execution_count": 9,
      "outputs": []
    },
    {
      "cell_type": "code",
      "source": [
        "# coefficients\n",
        "print(\"Coefficients: \\n\", regr.coef_)\n",
        "\n",
        "# training MSE\n",
        "print(\"Training MSE: %.3f\" % mean_squared_error(train_y, train_y_pred))\n",
        "\n",
        "# test MSE\n",
        "print(\"Test MSE: %.3f\" % mean_squared_error(test_y, test_y_pred))\n",
        "\n",
        "# training R^2\n",
        "print(\"R^2: %.3f\" % r2_score(train_y, train_y_pred))"
      ],
      "metadata": {
        "id": "GVZLpGWs0ID2"
      },
      "execution_count": null,
      "outputs": []
    },
    {
      "cell_type": "markdown",
      "source": [
        "# **5. Advertising data 선형회귀(statsmodels)**"
      ],
      "metadata": {
        "id": "Eyq6zgmg0IEc"
      }
    },
    {
      "cell_type": "code",
      "source": [
        "# statsmodels 사용을 위한 X0 feature 추가\n",
        "# statsmodels의 OLS 함수는 데이터 내에 intercept에 해당하는 feature 필요\n",
        "sm_train_X = train_X\n",
        "sm_train_X[\"X0\"] = 1 \n",
        "\n",
        "sm_test_X = test_X\n",
        "sm_test_X[\"X0\"] = 1 "
      ],
      "metadata": {
        "id": "opyQFIvNqG2-"
      },
      "execution_count": 11,
      "outputs": []
    },
    {
      "cell_type": "code",
      "source": [
        "sm_train_X"
      ],
      "metadata": {
        "id": "3MZ2wPNLqXuR"
      },
      "execution_count": null,
      "outputs": []
    },
    {
      "cell_type": "code",
      "source": [
        "# training\n",
        "results = sm.OLS(train_y, sm_train_X[[\"X0\", \"TV\"]]).fit()\n",
        "\n",
        "# training 결과 확인\n",
        "results.summary()"
      ],
      "metadata": {
        "id": "et_LwMYv2w95"
      },
      "execution_count": null,
      "outputs": []
    },
    {
      "cell_type": "code",
      "source": [
        "# Plot outputs\n",
        "plt.scatter(train_X[\"TV\"], train_y[\"Sales\"], color=\"gray\")\n",
        "plt.scatter(test_X[\"TV\"], test_y[\"Sales\"], color=\"red\")\n",
        "plt.plot(train_X[\"TV\"], train_y_pred, color=\"blue\", linewidth=2)\n",
        "plt.scatter(test_X[\"TV\"], test_y_pred, color=\"red\", marker=\"^\")\n",
        "\n",
        "plt.xlabel(\"TV\")\n",
        "plt.ylabel(\"Sales\")\n",
        "\n",
        "plt.grid()\n",
        "\n",
        "plt.show()"
      ],
      "metadata": {
        "id": "N1C1fMJk0L5D"
      },
      "execution_count": null,
      "outputs": []
    }
  ]
}