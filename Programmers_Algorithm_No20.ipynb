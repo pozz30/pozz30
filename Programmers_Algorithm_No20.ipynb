{
 "cells": [
  {
   "cell_type": "code",
   "execution_count": null,
   "metadata": {},
   "outputs": [],
   "source": [
    "def solution(citations):\n",
    "    citations.sort()\n",
    "    if sum(citations) == 0:\n",
    "        return 0\n",
    "    x = len(citations) // 2\n",
    "    while True:\n",
    "        if x == 0:\n",
    "            break\n",
    "        elif citations[x] > len(citations):\n",
    "            x = x // 2\n",
    "        else:\n",
    "            break\n",
    "    while True:\n",
    "        a = [i for i in citations if i >= x]\n",
    "        b = [i for i in citations if i <= x]\n",
    "        if len(a) >= x and len(b) <= x:\n",
    "            x += 1\n",
    "        else:\n",
    "            return x-1"
   ]
  },
  {
   "cell_type": "code",
   "execution_count": null,
   "metadata": {},
   "outputs": [],
   "source": [
    "def solution(numbers):\n",
    "    if sum(numbers) == 0:\n",
    "        return \"0\"\n",
    "    tmp = [str(i) for i in numbers]\n",
    "    tmp.sort(key=lambda x:x*3, reverse=True)\n",
    "            \n",
    "    return ''.join(tmp)"
   ]
  }
 ],
 "metadata": {
  "language_info": {
   "name": "python"
  },
  "orig_nbformat": 4
 },
 "nbformat": 4,
 "nbformat_minor": 2
}
