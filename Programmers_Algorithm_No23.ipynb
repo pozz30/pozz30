{
 "cells": [
  {
   "cell_type": "code",
   "execution_count": 14,
   "metadata": {},
   "outputs": [],
   "source": [
    "def solution(s):\n",
    "    a = list(map(int, s.split(' ')))\n",
    "    b = min(a)\n",
    "    c = max(a)\n",
    "    print(b, type(b))\n",
    "    print(c, type(c))\n",
    "    return str(b) + ' ' + str(c)"
   ]
  },
  {
   "cell_type": "code",
   "execution_count": 15,
   "metadata": {},
   "outputs": [
    {
     "name": "stdout",
     "output_type": "stream",
     "text": [
      "1 <class 'int'>\n",
      "4 <class 'int'>\n"
     ]
    },
    {
     "data": {
      "text/plain": [
       "'1 4'"
      ]
     },
     "execution_count": 15,
     "metadata": {},
     "output_type": "execute_result"
    }
   ],
   "source": [
    "solution(\"1 2 3 4\")"
   ]
  },
  {
   "cell_type": "code",
   "execution_count": 17,
   "metadata": {},
   "outputs": [
    {
     "name": "stdout",
     "output_type": "stream",
     "text": [
      "C\n",
      "L\n",
      "E\n",
      "A\n",
      "R\n",
      "Clear\n"
     ]
    }
   ],
   "source": [
    "def solution(s):\n",
    "    a = s.split(' ')\n",
    "    b = ''\n",
    "    for i in a:\n",
    "        for j in range(len(i)):\n",
    "            if i[j].isdigit():\n",
    "                b += i[j]\n",
    "            else:\n",
    "                if j == 0:\n",
    "                    b += i[j].upper()\n",
    "                else:\n",
    "                    b += i[j].lower()\n",
    "        if i == a[-1]:\n",
    "            break\n",
    "        b += ' '\n",
    "    return b"
   ]
  },
  {
   "cell_type": "code",
   "execution_count": null,
   "metadata": {},
   "outputs": [],
   "source": [
    "def Jaden_Case(s):\n",
    "    # 함수를 완성하세요   \n",
    "    s = ' '.join(((word[0].upper()) + word[1:].lower()) for word in s.split())  \n",
    "    return s"
   ]
  }
 ],
 "metadata": {
  "kernelspec": {
   "display_name": "Python 3.10.2 64-bit",
   "language": "python",
   "name": "python3"
  },
  "language_info": {
   "codemirror_mode": {
    "name": "ipython",
    "version": 3
   },
   "file_extension": ".py",
   "mimetype": "text/x-python",
   "name": "python",
   "nbconvert_exporter": "python",
   "pygments_lexer": "ipython3",
   "version": "3.10.2"
  },
  "orig_nbformat": 4,
  "vscode": {
   "interpreter": {
    "hash": "c2397ebbcede9ef22e8cbfc88c22cf40f693f7334f209f1e17c60208fcd5767a"
   }
  }
 },
 "nbformat": 4,
 "nbformat_minor": 2
}
