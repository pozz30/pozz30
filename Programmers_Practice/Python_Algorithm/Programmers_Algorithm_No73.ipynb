{
 "cells": [
  {
   "cell_type": "code",
   "execution_count": 5,
   "metadata": {},
   "outputs": [
    {
     "name": "stdout",
     "output_type": "stream",
     "text": [
      "{1, 2, 3}\n",
      "{1, 2, 3}\n",
      "True\n"
     ]
    }
   ],
   "source": [
    "def solution(gems):\n",
    "    answer = [0, len(gems)]\n",
    "    size = len(set(gems))   # 보석 종류 갯수\n",
    "    left, right = 0, 0 # left는 보석 빼 줄 포인터, right는 보석 더해 줄 포인터\n",
    "    gem_dict = {gems[0] : 1}\n",
    "    \n",
    "    while left < len(gems) and right < len(gems):   # 투 포인터가 범위를 벗어나면 무한루프 종료\n",
    "        # 딕셔너리에 보석 종류가 다 들어오는 경우\n",
    "        if len(gem_dict) == size:\n",
    "            if right - left < answer[1] - answer[0]:    # 최소 크기 확인\n",
    "                answer = [left, right]       \n",
    "            else:\n",
    "                gem_dict[gems[left]] -= 1\n",
    "                if gem_dict[gems[left]] == 0:\n",
    "                    del gem_dict[gems[left]]    # count가 0이 되면 key가 없어야하므로 반드시 del\n",
    "                left += 1\n",
    "                \n",
    "        else:\n",
    "            right += 1\n",
    "            \n",
    "            if right == len(gems):\n",
    "                break\n",
    "                \n",
    "            if gems[right] in gem_dict: # 딕셔너리 key에 있으면 count\n",
    "                gem_dict[gems[right]] += 1\n",
    "                \n",
    "            else:   # 없으면 추가\n",
    "                gem_dict[gems[right]] = 1\n",
    "    \n",
    "    return [answer[0]+1, answer[1]+1] # 시작 인덱스가 1번 진열대 부터 라서 1 증가"
   ]
  }
 ],
 "metadata": {
  "kernelspec": {
   "display_name": "Python 3.10.2 64-bit",
   "language": "python",
   "name": "python3"
  },
  "language_info": {
   "codemirror_mode": {
    "name": "ipython",
    "version": 3
   },
   "file_extension": ".py",
   "mimetype": "text/x-python",
   "name": "python",
   "nbconvert_exporter": "python",
   "pygments_lexer": "ipython3",
   "version": "3.10.2"
  },
  "orig_nbformat": 4,
  "vscode": {
   "interpreter": {
    "hash": "c2397ebbcede9ef22e8cbfc88c22cf40f693f7334f209f1e17c60208fcd5767a"
   }
  }
 },
 "nbformat": 4,
 "nbformat_minor": 2
}
