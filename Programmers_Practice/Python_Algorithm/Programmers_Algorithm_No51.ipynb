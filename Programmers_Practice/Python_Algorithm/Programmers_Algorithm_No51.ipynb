{
 "cells": [
  {
   "cell_type": "code",
   "execution_count": null,
   "metadata": {},
   "outputs": [],
   "source": [
    "-- 코드를 입력하세요\n",
    "#SELECT FOOD_TYPE, REST_ID, REST_NAME, MAX(FAVORITES) FROM REST_INFO\n",
    "#WHERE FAVORITES = (SELECT MAX(FAVORITES) FROM REST_INFO);\n",
    "#GROUP BY FOOD_TYPE\n",
    "#ORDER BY FOOD_TYPE DESC;\n",
    "\n",
    "SELECT FOOD_TYPE, REST_ID, REST_NAME, FAVORITES FROM REST_INFO\n",
    "WHERE (FOOD_TYPE, FAVORITES) IN (SELECT FOOD_TYPE, MAX(FAVORITES) FROM REST_INFO GROUP BY FOOD_TYPE) \n",
    "ORDER BY FOOD_TYPE DESC;\n",
    "\n",
    "'''\n",
    "/*\n",
    "select a.food_type, a.rest_id, a.rest_name, a.favorites\n",
    "from (select food_type, max(favorites) as mx\n",
    "      from rest_info\n",
    "      group by food_type) as b\n",
    "join rest_info as a\n",
    "on a.food_type = b.food_type\n",
    "where a.favorites = b.mx\n",
    "order by 1 desc\n",
    "*/\n",
    "'''"
   ]
  },
  {
   "cell_type": "code",
   "execution_count": null,
   "metadata": {},
   "outputs": [],
   "source": [
    "SELECT PRODUCT_ID, PRODUCT_NAME, PRODUCT_CD, CATEGORY, PRICE FROM FOOD_PRODUCT\n",
    "WHERE PRICE = (SELECT MAX(PRICE) FROM FOOD_PRODUCT);"
   ]
  }
 ],
 "metadata": {
  "language_info": {
   "name": "python"
  },
  "orig_nbformat": 4
 },
 "nbformat": 4,
 "nbformat_minor": 2
}
