{
 "cells": [
  {
   "cell_type": "code",
   "execution_count": 6,
   "metadata": {},
   "outputs": [
    {
     "name": "stdout",
     "output_type": "stream",
     "text": [
      "1 : wake up!\n",
      "2 : wake up!\n",
      "3 : wake up!\n",
      "4 : wake up!\n",
      "5 : wake up!\n"
     ]
    }
   ],
   "source": [
    "import time\n",
    "\n",
    "cnt = 1\n",
    "\n",
    "while True:\n",
    "    print(\"{0} : wake up!\" .format(cnt))\n",
    "    time.sleep(1)\n",
    "    cnt += 1\n",
    "    if cnt == 6:\n",
    "        break"
   ]
  },
  {
   "cell_type": "code",
   "execution_count": 7,
   "metadata": {},
   "outputs": [],
   "source": [
    "def solution(triangle):\n",
    "    \n",
    "    n = len(triangle)\n",
    "    dp = [[0]*n for _ in range(n)]\n",
    "    dp[0][0] = triangle[0][0]\n",
    "\n",
    "    for x in range(1, n):\n",
    "        for y in range(len(triangle[x])):\n",
    "            if y==0:\n",
    "                dp[x][y] = triangle[x][0] + dp[x-1][0]\n",
    "            elif x==y:\n",
    "                dp[x][y] = triangle[x][y] + dp[x-1][y-1]\n",
    "            else:\n",
    "                dp[x][y] = max(triangle[x][y] + dp[x-1][y-1], triangle[x][y] + dp[x-1][y])\n",
    "\n",
    "    return max(dp[-1])"
   ]
  },
  {
   "cell_type": "code",
   "execution_count": 8,
   "metadata": {},
   "outputs": [
    {
     "data": {
      "text/plain": [
       "30"
      ]
     },
     "execution_count": 8,
     "metadata": {},
     "output_type": "execute_result"
    }
   ],
   "source": [
    "solution([[7], [3, 8], [8, 1, 0], [2, 7, 4, 4], [4, 5, 2, 6, 5]])"
   ]
  },
  {
   "cell_type": "code",
   "execution_count": null,
   "metadata": {},
   "outputs": [],
   "source": [
    "'''\n",
    "-- 코드를 입력하세요\n",
    "\n",
    "SELECT B.INGREDIENT_TYPE, SUM(TOTAL_ORDER) AS TOTAL_ORDER FROM FIRST_HALF A\n",
    "JOIN ICECREAM_INFO B ON\n",
    "A.FLAVOR = B.FLAVOR\n",
    "GROUP BY INGREDIENT_TYPE\n",
    "ORDER BY TOTAL_ORDER ASC;\n",
    "\n",
    "\n",
    "SELECT INGREDIENT_TYPE, SUM(TOTAL_ORDER) AS TOTAL_ORDER FROM\n",
    "FIRST_HALF A INNER JOIN ICECREAM_INFO B\n",
    "ON A.FLAVOR = B.FLAVOR\n",
    "GROUP BY INGREDIENT_TYPE\n",
    "\n",
    "\n",
    "-- 코드를 입력하세요\n",
    "SELECT A.PRODUCT_ID, A.PRODUCT_NAME, SUM(B.AMOUNT * A.PRICE) AS TOTAL_SALES FROM FOOD_PRODUCT A\n",
    "INNER JOIN FOOD_ORDER B ON\n",
    "A.PRODUCT_ID = B.PRODUCT_ID\n",
    "WHERE DATE_FORMAT(B.PRODUCE_DATE, '%Y-%m') = '2022-05'\n",
    "GROUP BY A.PRODUCT_ID\n",
    "ORDER BY TOTAL_SALES DESC, A.PRODUCT_ID ASC;\n",
    "\n",
    "\n",
    "'''"
   ]
  }
 ],
 "metadata": {
  "kernelspec": {
   "display_name": "Python 3.10.2 64-bit",
   "language": "python",
   "name": "python3"
  },
  "language_info": {
   "codemirror_mode": {
    "name": "ipython",
    "version": 3
   },
   "file_extension": ".py",
   "mimetype": "text/x-python",
   "name": "python",
   "nbconvert_exporter": "python",
   "pygments_lexer": "ipython3",
   "version": "3.10.2"
  },
  "orig_nbformat": 4,
  "vscode": {
   "interpreter": {
    "hash": "c2397ebbcede9ef22e8cbfc88c22cf40f693f7334f209f1e17c60208fcd5767a"
   }
  }
 },
 "nbformat": 4,
 "nbformat_minor": 2
}
