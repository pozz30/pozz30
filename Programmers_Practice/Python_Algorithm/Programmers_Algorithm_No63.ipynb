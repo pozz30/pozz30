{
 "cells": [
  {
   "cell_type": "code",
   "execution_count": 1,
   "metadata": {},
   "outputs": [],
   "source": [
    "def solution(name):\n",
    "    cnt = 0\n",
    "    point = 0\n",
    "    tmp = 'A' * len(name)\n",
    "    print(tmp)\n",
    "    \n",
    "    while True:\n",
    "        if ord(name[point]) <= 77:\n",
    "            cnt += ord(name[point]) - ord('A')\n",
    "            tmp[point].replace('A', name[point])\n",
    "        else:\n",
    "            cnt += 26 - (ord(name[point]) - ord('A'))\n",
    "            tmp[point].replace('A', name[point])\n",
    "        \n",
    "        if name == tmp:\n",
    "            break\n",
    "        \n",
    "        print(tmp, cnt)\n",
    "        for i in range(1,len(name)+1):\n",
    "            if name[point+i] != 'A':\n",
    "                point = point + i\n",
    "                cnt += i\n",
    "                break\n",
    "            elif name[point-i] != 'A':\n",
    "                point = point - i \n",
    "                cnt += i\n",
    "                break\n",
    "    \n",
    "    return cnt"
   ]
  },
  {
   "cell_type": "code",
   "execution_count": 2,
   "metadata": {},
   "outputs": [
    {
     "name": "stdout",
     "output_type": "stream",
     "text": [
      "AAAAAA\n",
      "AAAAAA 9\n",
      "AAAAAA 14\n",
      "AAAAAA 24\n",
      "AAAAAA 37\n",
      "AAAAAA 42\n",
      "AAAAAA 56\n"
     ]
    },
    {
     "ename": "IndexError",
     "evalue": "string index out of range",
     "output_type": "error",
     "traceback": [
      "\u001b[1;31m---------------------------------------------------------------------------\u001b[0m",
      "\u001b[1;31mIndexError\u001b[0m                                Traceback (most recent call last)",
      "\u001b[1;32mUntitled-4.ipynb 셀 2\u001b[0m in \u001b[0;36m<cell line: 1>\u001b[1;34m()\u001b[0m\n\u001b[1;32m----> <a href='vscode-notebook-cell:Untitled-4.ipynb?jupyter-notebook#W1sdW50aXRsZWQ%3D?line=0'>1</a>\u001b[0m solution(\u001b[39m\"\u001b[39;49m\u001b[39mJEROEN\u001b[39;49m\u001b[39m\"\u001b[39;49m)\n",
      "\u001b[1;32mUntitled-4.ipynb 셀 2\u001b[0m in \u001b[0;36msolution\u001b[1;34m(name)\u001b[0m\n\u001b[0;32m     <a href='vscode-notebook-cell:Untitled-4.ipynb?jupyter-notebook#W1sdW50aXRsZWQ%3D?line=17'>18</a>\u001b[0m \u001b[39mprint\u001b[39m(tmp, cnt)\n\u001b[0;32m     <a href='vscode-notebook-cell:Untitled-4.ipynb?jupyter-notebook#W1sdW50aXRsZWQ%3D?line=18'>19</a>\u001b[0m \u001b[39mfor\u001b[39;00m i \u001b[39min\u001b[39;00m \u001b[39mrange\u001b[39m(\u001b[39m1\u001b[39m,\u001b[39mlen\u001b[39m(name)\u001b[39m+\u001b[39m\u001b[39m1\u001b[39m):\n\u001b[1;32m---> <a href='vscode-notebook-cell:Untitled-4.ipynb?jupyter-notebook#W1sdW50aXRsZWQ%3D?line=19'>20</a>\u001b[0m     \u001b[39mif\u001b[39;00m name[point\u001b[39m+\u001b[39;49mi] \u001b[39m!=\u001b[39m \u001b[39m'\u001b[39m\u001b[39mA\u001b[39m\u001b[39m'\u001b[39m:\n\u001b[0;32m     <a href='vscode-notebook-cell:Untitled-4.ipynb?jupyter-notebook#W1sdW50aXRsZWQ%3D?line=20'>21</a>\u001b[0m         point \u001b[39m=\u001b[39m point \u001b[39m+\u001b[39m i\n\u001b[0;32m     <a href='vscode-notebook-cell:Untitled-4.ipynb?jupyter-notebook#W1sdW50aXRsZWQ%3D?line=21'>22</a>\u001b[0m         cnt \u001b[39m+\u001b[39m\u001b[39m=\u001b[39m i\n",
      "\u001b[1;31mIndexError\u001b[0m: string index out of range"
     ]
    }
   ],
   "source": [
    "solution(\"JEROEN\")"
   ]
  },
  {
   "cell_type": "code",
   "execution_count": 3,
   "metadata": {},
   "outputs": [
    {
     "ename": "AttributeError",
     "evalue": "'str' object has no attribute 'insert'",
     "output_type": "error",
     "traceback": [
      "\u001b[1;31m---------------------------------------------------------------------------\u001b[0m",
      "\u001b[1;31mAttributeError\u001b[0m                            Traceback (most recent call last)",
      "\u001b[1;32mUntitled-4.ipynb 셀 3\u001b[0m in \u001b[0;36m<cell line: 2>\u001b[1;34m()\u001b[0m\n\u001b[0;32m      <a href='vscode-notebook-cell:Untitled-4.ipynb?jupyter-notebook#W2sdW50aXRsZWQ%3D?line=0'>1</a>\u001b[0m a \u001b[39m=\u001b[39m \u001b[39m'\u001b[39m\u001b[39mabc\u001b[39m\u001b[39m'\u001b[39m\n\u001b[1;32m----> <a href='vscode-notebook-cell:Untitled-4.ipynb?jupyter-notebook#W2sdW50aXRsZWQ%3D?line=1'>2</a>\u001b[0m a\u001b[39m.\u001b[39;49minsert(\u001b[39m3\u001b[39m, \u001b[39m'\u001b[39m\u001b[39md\u001b[39m\u001b[39m'\u001b[39m)\n\u001b[0;32m      <a href='vscode-notebook-cell:Untitled-4.ipynb?jupyter-notebook#W2sdW50aXRsZWQ%3D?line=2'>3</a>\u001b[0m \u001b[39mprint\u001b[39m(a)\n",
      "\u001b[1;31mAttributeError\u001b[0m: 'str' object has no attribute 'insert'"
     ]
    }
   ],
   "source": [
    "a = 'abc'\n",
    "a.insert(3, 'd')\n",
    "print(a)"
   ]
  },
  {
   "cell_type": "code",
   "execution_count": 38,
   "metadata": {},
   "outputs": [],
   "source": [
    "def solution(name):\n",
    "    cnt = 0\n",
    "    \n",
    "    while True:\n",
    "        if name[0] != 'A':\n",
    "            if ord(name[0]) <= 77:\n",
    "                cnt += ord(name[0]) - ord('A')\n",
    "                name = 'A' + name[1:]\n",
    "            else:\n",
    "                cnt += 26 - (ord(name[0]) - ord('A'))\n",
    "                name = 'A' + name[1:]\n",
    "            \n",
    "        #print(cnt, name)\n",
    "        if name == ('A' * len(name)):\n",
    "            break\n",
    "        \n",
    "        for i in range(1,len(name)+1):\n",
    "            if name[i] != 'A':\n",
    "                name = name[i:] + name[:i] \n",
    "                cnt += i\n",
    "                break\n",
    "            if name[-i] != 'A':\n",
    "                name = name[-i:] + name[:-i]\n",
    "                cnt += i\n",
    "                break\n",
    "\n",
    "    return cnt"
   ]
  },
  {
   "cell_type": "code",
   "execution_count": 41,
   "metadata": {},
   "outputs": [
    {
     "name": "stdout",
     "output_type": "stream",
     "text": [
      "0 ABABAAAAABA\n",
      "2 AABAAAAABAA\n",
      "5 AAAAAABAAAA\n",
      "11 AAAAAAAAAAA\n"
     ]
    },
    {
     "data": {
      "text/plain": [
       "11"
      ]
     },
     "execution_count": 41,
     "metadata": {},
     "output_type": "execute_result"
    }
   ],
   "source": [
    "solution(\"ABABAAAAABA\")"
   ]
  },
  {
   "cell_type": "code",
   "execution_count": 24,
   "metadata": {},
   "outputs": [
    {
     "name": "stdout",
     "output_type": "stream",
     "text": [
      "de <class 'str'>\n",
      "abc\n"
     ]
    }
   ],
   "source": [
    "a = 'abcde'\n",
    "print(a[-2:], type(a[-1:]))\n",
    "print(a[:-2])"
   ]
  }
 ],
 "metadata": {
  "kernelspec": {
   "display_name": "Python 3.10.2 64-bit",
   "language": "python",
   "name": "python3"
  },
  "language_info": {
   "codemirror_mode": {
    "name": "ipython",
    "version": 3
   },
   "file_extension": ".py",
   "mimetype": "text/x-python",
   "name": "python",
   "nbconvert_exporter": "python",
   "pygments_lexer": "ipython3",
   "version": "3.10.2"
  },
  "orig_nbformat": 4,
  "vscode": {
   "interpreter": {
    "hash": "c2397ebbcede9ef22e8cbfc88c22cf40f693f7334f209f1e17c60208fcd5767a"
   }
  }
 },
 "nbformat": 4,
 "nbformat_minor": 2
}
