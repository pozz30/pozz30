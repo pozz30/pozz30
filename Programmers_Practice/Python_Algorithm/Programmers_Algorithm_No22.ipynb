{
 "cells": [
  {
   "cell_type": "code",
   "execution_count": 1,
   "metadata": {},
   "outputs": [],
   "source": [
    "from collections import deque\n",
    "\n",
    "def solution(queue1, queue2):\n",
    "    target_sum = (sum(queue1) + sum(queue2)) // 2\n",
    "    left_sum = sum(queue1)\n",
    "    queue1 = deque(queue1)\n",
    "    queue2 = deque(queue2)\n",
    "    answer = 0\n",
    "    \n",
    "    while queue1 and queue2:\n",
    "        if left_sum < target_sum:\n",
    "            tmp = queue2.popleft()\n",
    "            left_sum += tmp\n",
    "            queue1.append(tmp)\n",
    "            answer += 1\n",
    "        elif left_sum > target_sum:\n",
    "            left_sum -= queue1.popleft()\n",
    "            answer += 1\n",
    "        else:\n",
    "            return answer\n",
    "\n",
    "    else:\n",
    "        return -1"
   ]
  }
 ],
 "metadata": {
  "kernelspec": {
   "display_name": "Python 3.10.2 64-bit",
   "language": "python",
   "name": "python3"
  },
  "language_info": {
   "codemirror_mode": {
    "name": "ipython",
    "version": 3
   },
   "file_extension": ".py",
   "mimetype": "text/x-python",
   "name": "python",
   "nbconvert_exporter": "python",
   "pygments_lexer": "ipython3",
   "version": "3.10.2"
  },
  "orig_nbformat": 4,
  "vscode": {
   "interpreter": {
    "hash": "c2397ebbcede9ef22e8cbfc88c22cf40f693f7334f209f1e17c60208fcd5767a"
   }
  }
 },
 "nbformat": 4,
 "nbformat_minor": 2
}
