{
 "cells": [
  {
   "cell_type": "code",
   "execution_count": 3,
   "metadata": {},
   "outputs": [],
   "source": [
    "def solution(msg):\n",
    "    answer = []\n",
    "    dic = {chr(ord('A')+i) : i+1 for i in range(26)}\n",
    "\n",
    "    while len(msg) != 0:\n",
    "        word = ''\n",
    "        for i in range(len(msg)):\n",
    "            word += msg[i]\n",
    "            if word in dic:\n",
    "                if len(word) == len(msg):\n",
    "                    answer.append(dic[word])\n",
    "                    return answer\n",
    "            else:\n",
    "                dic[word] = len(dic) + 1\n",
    "                answer.append(dic[word[:-1]])\n",
    "                msg = msg[i:]\n",
    "                break"
   ]
  },
  {
   "cell_type": "code",
   "execution_count": 2,
   "metadata": {},
   "outputs": [],
   "source": [
    "def solution(n, t, m, p):\n",
    "    answer = ''\n",
    "    i = 0\n",
    "    \n",
    "    def tr(n, k) :\n",
    "        T = \"0123456789ABCDEF\"\n",
    "        q, r = divmod(n, k)\n",
    "        return tr(q, k) + T[r] if q else T[r]\n",
    "\n",
    "    while len(answer) < t*m:\n",
    "        answer += tr(i, n)\n",
    "        i += 1\n",
    "    \n",
    "    answer = ''.join([answer[i] for i in range(p-1, len(answer), m)])\n",
    "    return answer[:t]"
   ]
  }
 ],
 "metadata": {
  "kernelspec": {
   "display_name": "Python 3.6.2 32-bit",
   "language": "python",
   "name": "python3"
  },
  "language_info": {
   "codemirror_mode": {
    "name": "ipython",
    "version": 3
   },
   "file_extension": ".py",
   "mimetype": "text/x-python",
   "name": "python",
   "nbconvert_exporter": "python",
   "pygments_lexer": "ipython3",
   "version": "3.6.2"
  },
  "orig_nbformat": 4,
  "vscode": {
   "interpreter": {
    "hash": "d7ac90b7e5c2fc739b3c29a05bfe1baf7557b1e72b3c808d2c79ddca2bdc924b"
   }
  }
 },
 "nbformat": 4,
 "nbformat_minor": 2
}
