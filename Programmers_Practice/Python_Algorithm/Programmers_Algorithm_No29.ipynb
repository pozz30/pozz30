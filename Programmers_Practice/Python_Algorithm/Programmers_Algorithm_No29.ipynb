{
 "cells": [
  {
   "cell_type": "code",
   "execution_count": null,
   "metadata": {},
   "outputs": [],
   "source": [
    "def solution(land):\n",
    "    \n",
    "    for i in range(1, len(land)):\n",
    "        for j in range(len(land[0])):\n",
    "            land[i][j] = max(land[i -1][: j] + land[i - 1][j + 1:]) + land[i][j]\n",
    "\n",
    "    return max(land[-1])"
   ]
  },
  {
   "cell_type": "code",
   "execution_count": null,
   "metadata": {},
   "outputs": [],
   "source": [
    "def solution(land):\n",
    "    for i in range (1, len(land)):\n",
    "        land[i][0] = max(land[i-1][1], land[i-1][2], land[i-1][3]) + land[i][0]\n",
    "        land[i][1] = max(land[i-1][0], land[i-1][2], land[i-1][3]) + land[i][1]\n",
    "        land[i][2] = max(land[i-1][0], land[i-1][1], land[i-1][3]) + land[i][2]\n",
    "        land[i][3] = max(land[i-1][0], land[i-1][1], land[i-1][2]) + land[i][3]\n",
    "        \n",
    "    return max(land[-1])"
   ]
  }
 ],
 "metadata": {
  "language_info": {
   "name": "python"
  },
  "orig_nbformat": 4
 },
 "nbformat": 4,
 "nbformat_minor": 2
}
