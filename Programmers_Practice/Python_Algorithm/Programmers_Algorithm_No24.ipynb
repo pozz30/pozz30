{
 "cells": [
  {
   "cell_type": "code",
   "execution_count": null,
   "metadata": {},
   "outputs": [],
   "source": [
    "def solution(s):\n",
    "    cnt = 0\n",
    "    zero_cnt = 0\n",
    "    while len(s) != 1:\n",
    "        tmp = ''.join([i for i in s if i != '0'])\n",
    "        zero_cnt += len(s)-len(tmp)\n",
    "        cnt += 1\n",
    "        s = bin(len(tmp))[2:]\n",
    "    \n",
    "    return [cnt, zero_cnt]"
   ]
  },
  {
   "cell_type": "code",
   "execution_count": null,
   "metadata": {},
   "outputs": [],
   "source": [
    "def solution(A,B):\n",
    "    return sum([i*j for i,j in zip(sorted(A),sorted(B, reverse=True))])"
   ]
  }
 ],
 "metadata": {
  "kernelspec": {
   "display_name": "Python 3.10.2 64-bit",
   "language": "python",
   "name": "python3"
  },
  "language_info": {
   "name": "python",
   "version": "3.10.2"
  },
  "orig_nbformat": 4,
  "vscode": {
   "interpreter": {
    "hash": "c2397ebbcede9ef22e8cbfc88c22cf40f693f7334f209f1e17c60208fcd5767a"
   }
  }
 },
 "nbformat": 4,
 "nbformat_minor": 2
}
