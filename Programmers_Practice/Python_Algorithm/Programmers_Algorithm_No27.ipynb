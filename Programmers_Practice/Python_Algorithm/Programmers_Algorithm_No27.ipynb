{
 "cells": [
  {
   "cell_type": "code",
   "execution_count": 1,
   "metadata": {},
   "outputs": [],
   "source": [
    "def solution(n):\n",
    "    ans = 1\n",
    "    while n != 1:\n",
    "        ans += n%2\n",
    "        n = n//2\n",
    "    return ans"
   ]
  },
  {
   "cell_type": "code",
   "execution_count": null,
   "metadata": {},
   "outputs": [],
   "source": [
    "'''\n",
    "import numpy as np\n",
    "\n",
    "def solution(arr1, arr2):\n",
    "    arr1 = np.array(arr1)\n",
    "    arr2 = np.array(arr2)\n",
    "    answer = arr1@arr2\n",
    "    answer = answer.tolist()\n",
    "    return answer\n",
    "'''\n",
    "def solution(A, B):\n",
    "    answer = []\n",
    "    for y1 in range(len(A)):\n",
    "        a=[]\n",
    "        for x2 in range(len(B[0])):\n",
    "            n = 0\n",
    "            for x1 in range(len(A[0])):\n",
    "                n += A[y1][x1] * B[x1][x2]\n",
    "            a.append(n)\n",
    "        answer.append(a)\n",
    "    return answer"
   ]
  },
  {
   "cell_type": "code",
   "execution_count": null,
   "metadata": {},
   "outputs": [],
   "source": [
    "def solution(s):\n",
    "    c = []\n",
    "    answer = 0\n",
    "    for i in s:\n",
    "        c.append(i)\n",
    "    \n",
    "    for i in range(len(c)):\n",
    "        tmp = []\n",
    "        for j in c:\n",
    "            k = ''.join(tmp[-1:] + [j])\n",
    "            if k == '{}' or k == '()' or k == '[]':\n",
    "                tmp.pop()\n",
    "            else:\n",
    "                tmp.append(j)\n",
    "        if len(tmp) == 0:\n",
    "            answer += 1\n",
    "        c.append(c.pop(0))\n",
    "\n",
    "    return answer"
   ]
  },
  {
   "cell_type": "code",
   "execution_count": null,
   "metadata": {},
   "outputs": [],
   "source": [
    "def solution(s):\n",
    "    tmp = ''\n",
    "    for i in s:\n",
    "        if i.isdigit():\n",
    "            tmp += i\n",
    "        elif i == ',':\n",
    "            tmp += i\n",
    "    s = tmp.split(',')\n",
    "    case = {}\n",
    "    for i in s:\n",
    "        if i.isdigit():\n",
    "            if i in case:\n",
    "                case[i] += 1\n",
    "            else:\n",
    "                case[i] = 1\n",
    "    print(case)\n",
    "    answer = sorted(case.items(), key=lambda x:x[1], reverse=True)\n",
    "    return [int(i[0]) for i in answer]"
   ]
  }
 ],
 "metadata": {
  "kernelspec": {
   "display_name": "Python 3.10.2 64-bit",
   "language": "python",
   "name": "python3"
  },
  "language_info": {
   "codemirror_mode": {
    "name": "ipython",
    "version": 3
   },
   "file_extension": ".py",
   "mimetype": "text/x-python",
   "name": "python",
   "nbconvert_exporter": "python",
   "pygments_lexer": "ipython3",
   "version": "3.10.2"
  },
  "orig_nbformat": 4,
  "vscode": {
   "interpreter": {
    "hash": "c2397ebbcede9ef22e8cbfc88c22cf40f693f7334f209f1e17c60208fcd5767a"
   }
  }
 },
 "nbformat": 4,
 "nbformat_minor": 2
}
