{
 "cells": [
  {
   "cell_type": "code",
   "execution_count": null,
   "metadata": {},
   "outputs": [],
   "source": [
    "def solution(n, costs):\n",
    "    answer = 0\n",
    "    costs.sort(key = lambda x: x[2]) \n",
    "    link = set([costs[0][0]])\n",
    "\n",
    "    # Kruskal 알고리즘으로 최소 비용 구하기\n",
    "    while len(link) != n:\n",
    "        for v in costs:\n",
    "            if v[0] in link and v[1] in link:\n",
    "                continue\n",
    "            if v[0] in link or v[1] in link:\n",
    "                link.update([v[0], v[1]])\n",
    "                answer += v[2]\n",
    "                break\n",
    "                \n",
    "    return answer"
   ]
  }
 ],
 "metadata": {
  "language_info": {
   "name": "python"
  },
  "orig_nbformat": 4
 },
 "nbformat": 4,
 "nbformat_minor": 2
}
