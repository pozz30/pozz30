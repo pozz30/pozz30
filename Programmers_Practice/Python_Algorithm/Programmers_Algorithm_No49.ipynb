{
 "cells": [
  {
   "cell_type": "code",
   "execution_count": 8,
   "metadata": {},
   "outputs": [],
   "source": [
    "def solution(n):\n",
    "    \n",
    "    triangle = [ [0] * n for _ in range(n) ]\n",
    "    answer = []\n",
    "    x, y = -1, 0\n",
    "    num = 1\n",
    "\n",
    "    for i in range(n):\n",
    "        for j in range(i, n):\n",
    "\t\t\t\n",
    "            # Down\n",
    "            if i % 3 == 0:\n",
    "                x += 1\n",
    "\t\t\t\n",
    "            # Right\n",
    "            elif i % 3 == 1:\n",
    "                y += 1\n",
    "\t\t\t\n",
    "            # Up\n",
    "            elif i % 3 == 2:\n",
    "                x -= 1\n",
    "                y -= 1\n",
    "\n",
    "            triangle[x][y] = num\n",
    "            num += 1\n",
    "            \n",
    "    print(triangle)\n",
    "    for i in range(n):\n",
    "        for j in range(i+1):\n",
    "            answer.append(triangle[i][j])\n",
    "            \n",
    "    return answer"
   ]
  },
  {
   "cell_type": "code",
   "execution_count": 7,
   "metadata": {},
   "outputs": [
    {
     "name": "stdout",
     "output_type": "stream",
     "text": [
      "[[0, 0, 0, 0, 0, 0], [0, 0, 0, 0, 0, 0], [0, 0, 0, 0, 0, 0], [0, 0, 0, 0, 0, 0], [0, 0, 0, 0, 0, 0], [0, 0, 0, 0, 0, 0]]\n",
      "[[0, 0, 0, 0, 0, 0], [0, 0, 0, 0, 0, 0], [0, 0, 0, 0, 0, 0], [0, 0, 0, 0, 0, 0], [0, 0, 0, 0, 0, 0], [0, 0, 0, 0, 0, 0]]\n",
      "[[1, 0, 0, 0, 0, 0], [2, 15, 0, 0, 0, 0], [3, 16, 14, 0, 0, 0], [4, 17, 21, 13, 0, 0], [5, 18, 19, 20, 12, 0], [6, 7, 8, 9, 10, 11]]\n"
     ]
    },
    {
     "data": {
      "text/plain": [
       "[1, 2, 15, 3, 16, 14, 4, 17, 21, 13, 5, 18, 19, 20, 12, 6, 7, 8, 9, 10, 11]"
      ]
     },
     "execution_count": 7,
     "metadata": {},
     "output_type": "execute_result"
    }
   ],
   "source": [
    "solution(6)\n"
   ]
  }
 ],
 "metadata": {
  "kernelspec": {
   "display_name": "Python 3.10.2 64-bit",
   "language": "python",
   "name": "python3"
  },
  "language_info": {
   "codemirror_mode": {
    "name": "ipython",
    "version": 3
   },
   "file_extension": ".py",
   "mimetype": "text/x-python",
   "name": "python",
   "nbconvert_exporter": "python",
   "pygments_lexer": "ipython3",
   "version": "3.10.2"
  },
  "orig_nbformat": 4,
  "vscode": {
   "interpreter": {
    "hash": "c2397ebbcede9ef22e8cbfc88c22cf40f693f7334f209f1e17c60208fcd5767a"
   }
  }
 },
 "nbformat": 4,
 "nbformat_minor": 2
}
