{
 "cells": [
  {
   "cell_type": "code",
   "execution_count": 1,
   "metadata": {},
   "outputs": [
    {
     "name": "stdout",
     "output_type": "stream",
     "text": [
      "hi\n"
     ]
    }
   ],
   "source": [
    "# 최대공약수 만큼 반복됨 - 최대공약수로 나눈 수 = 가로, 세로\n",
    "\n",
    "def gcd(a, b): # 최대공약수 구하기 - 유클리드 호제법\n",
    "    while b:\n",
    "        a, b = b, a % b\n",
    "    return a\n",
    "\n",
    "\n",
    "def solution(w, h):\n",
    "    x = gcd(w, h)\n",
    "    return w * h - (w//x + h//x - 1)*x\n",
    "    # 전체 사각형의 크기 - (멀쩡하지 않은 사각형의 개수)*최대공약수 = 멀쩡한 사각형의 개수"
   ]
  }
 ],
 "metadata": {
  "kernelspec": {
   "display_name": "Python 3.10.2 64-bit",
   "language": "python",
   "name": "python3"
  },
  "language_info": {
   "codemirror_mode": {
    "name": "ipython",
    "version": 3
   },
   "file_extension": ".py",
   "mimetype": "text/x-python",
   "name": "python",
   "nbconvert_exporter": "python",
   "pygments_lexer": "ipython3",
   "version": "3.10.2"
  },
  "orig_nbformat": 4,
  "vscode": {
   "interpreter": {
    "hash": "c2397ebbcede9ef22e8cbfc88c22cf40f693f7334f209f1e17c60208fcd5767a"
   }
  }
 },
 "nbformat": 4,
 "nbformat_minor": 2
}
