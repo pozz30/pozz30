{
 "cells": [
  {
   "cell_type": "code",
   "execution_count": null,
   "metadata": {},
   "outputs": [],
   "source": [
    "def solution(id_list, report, k):\n",
    "    answer = [0] * len(id_list)    \n",
    "    report2 = {x : 0 for x in id_list}\n",
    "\n",
    "    for i in set(report):\n",
    "        report2[i.split()[1]] += 1\n",
    "\n",
    "    for i in set(report):\n",
    "        if report2[i.split()[1]] >= k:\n",
    "            answer[id_list.index(i.split()[0])] += 1\n",
    "\n",
    "    return answer"
   ]
  }
 ],
 "metadata": {
  "language_info": {
   "name": "python"
  },
  "orig_nbformat": 4
 },
 "nbformat": 4,
 "nbformat_minor": 2
}
