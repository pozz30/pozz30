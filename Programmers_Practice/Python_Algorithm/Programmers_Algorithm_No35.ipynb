{
 "cells": [
  {
   "cell_type": "code",
   "execution_count": null,
   "metadata": {},
   "outputs": [],
   "source": [
    "def solution(record):\n",
    "    answer = []\n",
    "    dic = {}\n",
    "    record = [i.split(' ') for i in record]\n",
    "    for i in record:\n",
    "        if len(i) == 3:\n",
    "            dic[i[1]] = i[2]\n",
    "    for i in record:\n",
    "        if i[0] == 'Enter':\n",
    "            answer.append('{0}님이 들어왔습니다.' .format(dic[i[1]]))\n",
    "        elif i[0] == 'Leave':\n",
    "            answer.append('{0}님이 나갔습니다.' .format(dic[i[1]]))\n",
    "    return answer"
   ]
  },
  {
   "cell_type": "code",
   "execution_count": null,
   "metadata": {},
   "outputs": [],
   "source": [
    "def solution(dirs):\n",
    "    dir = {'U' : [1,0], 'D' : [-1,0], 'R' : [0,1], 'L' : [0,-1]}\n",
    "    answer = []\n",
    "    a = [0,0]\n",
    "    \n",
    "    for i in dirs:\n",
    "        if a[0] + dir[i][0] > 5 or a[0] + dir[i][0] < -5 or a[1] + dir[i][1] > 5 or a[1] + dir[i][1] < -5:\n",
    "            continue\n",
    "        else:\n",
    "            b = [0,0]\n",
    "            b[0] = a[0] + dir[i][0]\n",
    "            b[1] = a[1] + dir[i][1]\n",
    "            if [a, b] not in answer and [b, a] not in answer:\n",
    "                answer.append([a,b])\n",
    "            a = b\n",
    "    return len(answer)"
   ]
  },
  {
   "cell_type": "code",
   "execution_count": null,
   "metadata": {},
   "outputs": [],
   "source": [
    "def solution(m, n, board):\n",
    "    at = []\n",
    "    for i in board:\n",
    "        re = []\n",
    "        for j in i:\n",
    "            re.append(j)\n",
    "        at.append(re)\n",
    "    board = at\n",
    "    pre = 0\n",
    "    post = 0\n",
    "    cnt = 0\n",
    "    \n",
    "    while True:\n",
    "        pre = post\n",
    "        tmp = []\n",
    "        for i in range(1,m):\n",
    "            for j in range(0,n-1):\n",
    "                if board[i][j].isalpha() and board[i][j] == board[i][j+1] and board[i][j] == board[i-1][j] and board[i][j] == board[i-1][j+1]:\n",
    "                    tmp.append([i,j])\n",
    "        post += len(tmp)\n",
    "        for i in tmp:\n",
    "            board[i[0]][i[1]] = '0'\n",
    "            board[i[0]][i[1]+1] = '0' \n",
    "            board[i[0]-1][i[1]] = '0'\n",
    "            board[i[0]-1][i[1]+1] = '0'\n",
    "        for i in range(n):\n",
    "            arr1 = []\n",
    "            arr2 = []\n",
    "            for j in range(m):\n",
    "                if board[j][i] == '0':\n",
    "                    arr1.append('0')\n",
    "                else:\n",
    "                    arr2.append(board[j][i])\n",
    "            arr3 = arr1 + arr2\n",
    "            for k in range(m):\n",
    "                board[k][i] = arr3[k]\n",
    "        if pre == post:\n",
    "            break\n",
    "    for i in board:\n",
    "        cnt += i.count('0')\n",
    "    return cnt"
   ]
  }
 ],
 "metadata": {
  "language_info": {
   "name": "python"
  },
  "orig_nbformat": 4
 },
 "nbformat": 4,
 "nbformat_minor": 2
}
