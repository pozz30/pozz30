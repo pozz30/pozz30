{
 "cells": [
  {
   "cell_type": "code",
   "execution_count": null,
   "metadata": {},
   "outputs": [],
   "source": [
    "import heapq\n",
    "\n",
    "def solution(jobs):\n",
    "    n_jobs = len(jobs)\n",
    "    h = []\n",
    "    result, current_time, i = 0, 0, 0\n",
    "    # 이전 작업의 시작시간\n",
    "    start = -1\n",
    "\n",
    "    while i < n_jobs :\n",
    "        for job in jobs:\n",
    "            # 수행할 수 있는 작업의 판별조건\n",
    "            # 요청 시간이 이전작업의 시작시간 보다 크고, 현재 시간보다 작거나 같은 작업을 최소 힙에 삽입\n",
    "            if start < job[0] <= current_time:\n",
    "                # 처리 시간이 작은 작업이 우선적으로 처리되어야 함\n",
    "                heapq.heappush(h, [job[1], job[0]])\n",
    "        if len(h) > 0:\n",
    "            et, st = heapq.heappop(h)\n",
    "            # 시작 시간을 현재 시간으로 갱신\n",
    "            start = current_time\n",
    "            # 현재 시간에 작업 소요 시간을 더해 현재 시간 갱신\n",
    "            current_time += et\n",
    "            #대기 시간 및 처리시간 누적\n",
    "            result += (current_time - st)\n",
    "            i += 1\n",
    "        else:\n",
    "            # 힙이 비어있는 상태라면 작업을 받기 위해 현재 시간 1증가\n",
    "            current_time += 1\n",
    "    return int(result/n_jobs)"
   ]
  }
 ],
 "metadata": {
  "language_info": {
   "name": "python"
  },
  "orig_nbformat": 4
 },
 "nbformat": 4,
 "nbformat_minor": 2
}
