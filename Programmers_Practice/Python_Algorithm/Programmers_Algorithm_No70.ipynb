{
 "cells": [
  {
   "cell_type": "code",
   "execution_count": 12,
   "metadata": {},
   "outputs": [],
   "source": [
    "import heapq\n",
    "\n",
    "def solution(n, works):\n",
    "    if sum(works) <= n:\n",
    "        return 0\n",
    "    \n",
    "    answer = 0\n",
    "    works = [-w for w in works]\n",
    "    heapq.heapify(works)\n",
    "    print(works)\n",
    "    print()\n",
    "    while n > 0:\n",
    "        max_val = heapq.heappop(works)\n",
    "        print(n, max_val, works)\n",
    "        heapq.heappush(works, max_val+1)\n",
    "        n -= 1\n",
    "\n",
    "    for w in works:\n",
    "        answer += w ** 2\n",
    "    return answer"
   ]
  }
 ],
 "metadata": {
  "kernelspec": {
   "display_name": "Python 3.10.2 64-bit",
   "language": "python",
   "name": "python3"
  },
  "language_info": {
   "codemirror_mode": {
    "name": "ipython",
    "version": 3
   },
   "file_extension": ".py",
   "mimetype": "text/x-python",
   "name": "python",
   "nbconvert_exporter": "python",
   "pygments_lexer": "ipython3",
   "version": "3.10.2"
  },
  "orig_nbformat": 4,
  "vscode": {
   "interpreter": {
    "hash": "c2397ebbcede9ef22e8cbfc88c22cf40f693f7334f209f1e17c60208fcd5767a"
   }
  }
 },
 "nbformat": 4,
 "nbformat_minor": 2
}
