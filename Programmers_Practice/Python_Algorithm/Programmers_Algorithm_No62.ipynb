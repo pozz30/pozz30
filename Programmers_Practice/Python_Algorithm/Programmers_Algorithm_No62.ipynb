{
 "cells": [
  {
   "cell_type": "code",
   "execution_count": 11,
   "metadata": {},
   "outputs": [],
   "source": [
    "from collections import deque\n",
    "\n",
    "def solution(places):\n",
    "    answer = []\n",
    "    search1 = [[1,0],[0,1],[-1,0],[0,-1]]\n",
    "    search2 = [[1,1],[1,-1],[-1,1],[-1,-1]]\n",
    "    search3 = [[2,0],[0,2],[-2,0],[0,-2]]\n",
    "    \n",
    "    def check(a):\n",
    "        a = deque(a)\n",
    "        re_a = deque()\n",
    "        for i in a:\n",
    "            tmp = 'OO' + i + 'OO'\n",
    "            re_a.append(tmp)\n",
    "        a = re_a\n",
    "        a.append('000000000')\n",
    "        a.append('000000000')\n",
    "        a.appendleft('000000000')\n",
    "        a.appendleft('000000000')\n",
    "        #print(a)\n",
    "        for i in range(2,7):\n",
    "            for j in range(2,7):\n",
    "                if a[i][j] == 'P':\n",
    "                    for k in search1:\n",
    "                        if a[i+k[0]][j+k[1]] == 'P':\n",
    "                            return 0\n",
    "                    for l in search2:\n",
    "                        if a[i+l[0]][j+l[1]] == 'P' and a[i+l[0]][j] != 'X' and a[i][j+l[1]] != 'X':\n",
    "                            return 0\n",
    "                    for m in search3:\n",
    "                        if a[i+m[0]][j+m[1]] == 'P' and a[i+(int(m[0]/2))][j+int((m[1]/2))] != 'X':\n",
    "                            return 0\n",
    "        return 1\n",
    "    \n",
    "    for i in places:\n",
    "        answer.append(check(i))\n",
    "    \n",
    "    return answer"
   ]
  },
  {
   "cell_type": "code",
   "execution_count": 12,
   "metadata": {},
   "outputs": [
    {
     "data": {
      "text/plain": [
       "[1, 0, 1, 1, 1]"
      ]
     },
     "execution_count": 12,
     "metadata": {},
     "output_type": "execute_result"
    }
   ],
   "source": [
    "solution([[\"POOOP\", \"OXXOX\", \"OPXPX\", \"OOXOX\", \"POXXP\"], [\"POOPX\", \"OXPXP\", \"PXXXO\", \"OXXXO\", \"OOOPP\"], [\"PXOPX\", \"OXOXP\", \"OXPOX\", \"OXXOP\", \"PXPOX\"], [\"OOOXX\", \"XOOOX\", \"OOOXX\", \"OXOOX\", \"OOOOO\"], [\"PXPXP\", \"XPXPX\", \"PXPXP\", \"XPXPX\", \"PXPXP\"]])"
   ]
  },
  {
   "cell_type": "code",
   "execution_count": null,
   "metadata": {},
   "outputs": [],
   "source": [
    "[1,0,1,1,1]"
   ]
  }
 ],
 "metadata": {
  "kernelspec": {
   "display_name": "Python 3.10.2 64-bit",
   "language": "python",
   "name": "python3"
  },
  "language_info": {
   "codemirror_mode": {
    "name": "ipython",
    "version": 3
   },
   "file_extension": ".py",
   "mimetype": "text/x-python",
   "name": "python",
   "nbconvert_exporter": "python",
   "pygments_lexer": "ipython3",
   "version": "3.10.2"
  },
  "orig_nbformat": 4,
  "vscode": {
   "interpreter": {
    "hash": "c2397ebbcede9ef22e8cbfc88c22cf40f693f7334f209f1e17c60208fcd5767a"
   }
  }
 },
 "nbformat": 4,
 "nbformat_minor": 2
}
