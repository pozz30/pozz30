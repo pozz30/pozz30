{
 "cells": [
  {
   "cell_type": "code",
   "execution_count": 4,
   "metadata": {},
   "outputs": [],
   "source": [
    "def solution(numbers):\n",
    "    answer = []\n",
    "    def skew(a,b):\n",
    "        cnt = 0\n",
    "        for i,j in zip(a,b):\n",
    "            if i != j:\n",
    "                cnt +=1\n",
    "        return cnt\n",
    "    for i in numbers:\n",
    "        k = i+1\n",
    "        while True:\n",
    "            org = bin(i)[2:]\n",
    "            new = bin(k)[2:]\n",
    "            org = (len(new)-len(org)) * '0' + org\n",
    "            print(org,new)\n",
    "            print(skew(org,new))\n",
    "            print()\n",
    "            if skew(org,new) <= 2:\n",
    "                answer.append(k)\n",
    "                break\n",
    "            k += 1\n",
    "    return answer"
   ]
  },
  {
   "cell_type": "code",
   "execution_count": 42,
   "metadata": {},
   "outputs": [],
   "source": [
    "def solution(numbers):\n",
    "    answer = []\n",
    "    for i in numbers:\n",
    "        tmp = 0\n",
    "        if i == 1:\n",
    "            answer.append(2)\n",
    "        elif bin(i)[-2:] == '11':\n",
    "            for j in bin(i)[::-1]:\n",
    "                if j != '1':\n",
    "                    break\n",
    "                tmp += 1\n",
    "            y = '0b' + ('1' * (tmp-1))\n",
    "            answer.append(i + int(y, 2)+1)\n",
    "        else:\n",
    "            answer.append(i+1)\n",
    "    return answer"
   ]
  },
  {
   "cell_type": "code",
   "execution_count": 43,
   "metadata": {},
   "outputs": [
    {
     "name": "stdout",
     "output_type": "stream",
     "text": [
      "1 0\n",
      "1 1\n",
      "1 2\n",
      "3\n",
      "0b11 3\n"
     ]
    },
    {
     "data": {
      "text/plain": [
       "[3, 11]"
      ]
     },
     "execution_count": 43,
     "metadata": {},
     "output_type": "execute_result"
    }
   ],
   "source": [
    "solution([2,7])"
   ]
  },
  {
   "cell_type": "code",
   "execution_count": 37,
   "metadata": {},
   "outputs": [
    {
     "name": "stdout",
     "output_type": "stream",
     "text": [
      "1 <class 'str'>\n",
      "1 <class 'str'>\n",
      "1 <class 'str'>\n",
      "b <class 'str'>\n",
      "0 <class 'str'>\n"
     ]
    }
   ],
   "source": [
    "a = 7 \n",
    "b = bin(7)[::-1]\n",
    "for i in b:\n",
    "    print(i, type(i))"
   ]
  }
 ],
 "metadata": {
  "kernelspec": {
   "display_name": "Python 3.10.2 64-bit",
   "language": "python",
   "name": "python3"
  },
  "language_info": {
   "codemirror_mode": {
    "name": "ipython",
    "version": 3
   },
   "file_extension": ".py",
   "mimetype": "text/x-python",
   "name": "python",
   "nbconvert_exporter": "python",
   "pygments_lexer": "ipython3",
   "version": "3.10.2"
  },
  "orig_nbformat": 4,
  "vscode": {
   "interpreter": {
    "hash": "c2397ebbcede9ef22e8cbfc88c22cf40f693f7334f209f1e17c60208fcd5767a"
   }
  }
 },
 "nbformat": 4,
 "nbformat_minor": 2
}
