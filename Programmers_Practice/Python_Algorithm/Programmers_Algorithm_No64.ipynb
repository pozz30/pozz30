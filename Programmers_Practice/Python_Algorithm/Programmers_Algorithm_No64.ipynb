{
 "cells": [
  {
   "cell_type": "code",
   "execution_count": null,
   "metadata": {},
   "outputs": [],
   "source": [
    "def solution(elements):\n",
    "    answer = []\n",
    "    \n",
    "    for i in range(1,len(elements)):\n",
    "        tmp = elements\n",
    "        tmp = tmp + elements[:i]\n",
    "        for j in range(len(elements)):\n",
    "            answer.append(sum(tmp[j:j+i]))\n",
    "        \n",
    "    answer.append(sum(elements))\n",
    "    return len(set(answer))"
   ]
  }
 ],
 "metadata": {
  "kernelspec": {
   "display_name": "Python 3.6.2 32-bit",
   "language": "python",
   "name": "python3"
  },
  "language_info": {
   "name": "python",
   "version": "3.6.2"
  },
  "orig_nbformat": 4,
  "vscode": {
   "interpreter": {
    "hash": "d7ac90b7e5c2fc739b3c29a05bfe1baf7557b1e72b3c808d2c79ddca2bdc924b"
   }
  }
 },
 "nbformat": 4,
 "nbformat_minor": 2
}
