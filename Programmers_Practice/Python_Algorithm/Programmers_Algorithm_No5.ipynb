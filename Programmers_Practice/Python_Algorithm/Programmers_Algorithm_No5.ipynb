{
 "cells": [
  {
   "cell_type": "code",
   "execution_count": 1,
   "id": "10ac1067",
   "metadata": {},
   "outputs": [],
   "source": [
    "def solution(survey, choices):\n",
    "    tmp = {'R':0, 'T':0, 'C':0, 'F':0, 'J':0, 'M':0, 'A':0, 'N':0}\n",
    "    \n",
    "    for i in range(len(survey)):\n",
    "        if 4-choices[i] > 0:\n",
    "            tmp[survey[i][0]] += abs(4-choices[i])\n",
    "        if 4-choices[i] < 0:\n",
    "            tmp[survey[i][1]] += abs(4-choices[i])\n",
    "\n",
    "    a = []\n",
    "    b = []\n",
    "    answer =''\n",
    "\n",
    "    for x,y in tmp.items():\n",
    "        a.append(x)\n",
    "        b.append(y)\n",
    "\n",
    "    for i in range(4):\n",
    "        if b[2*i] >= b[2*i+1]:\n",
    "            answer += a[2*i]\n",
    "        else:\n",
    "            answer += a[2*i+1]\n",
    "\n",
    "    return answer"
   ]
  },
  {
   "cell_type": "code",
   "execution_count": 2,
   "id": "b050bae0",
   "metadata": {},
   "outputs": [
    {
     "data": {
      "text/plain": [
       "'TCMA'"
      ]
     },
     "execution_count": 2,
     "metadata": {},
     "output_type": "execute_result"
    }
   ],
   "source": [
    "solution([\"AN\", \"CF\", \"MJ\", \"RT\", \"NA\"],[5, 3, 2, 7, 5])"
   ]
  }
 ],
 "metadata": {
  "kernelspec": {
   "display_name": "Python 3",
   "language": "python",
   "name": "python3"
  },
  "language_info": {
   "codemirror_mode": {
    "name": "ipython",
    "version": 3
   },
   "file_extension": ".py",
   "mimetype": "text/x-python",
   "name": "python",
   "nbconvert_exporter": "python",
   "pygments_lexer": "ipython3",
   "version": "3.8.8"
  }
 },
 "nbformat": 4,
 "nbformat_minor": 5
}
