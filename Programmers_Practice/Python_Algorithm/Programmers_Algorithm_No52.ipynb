{
 "cells": [
  {
   "cell_type": "code",
   "execution_count": 1,
   "metadata": {},
   "outputs": [
    {
     "name": "stdout",
     "output_type": "stream",
     "text": [
      "1\n"
     ]
    }
   ],
   "source": [
    "print(1)"
   ]
  },
  {
   "cell_type": "code",
   "execution_count": 65,
   "metadata": {},
   "outputs": [],
   "source": [
    "import itertools\n",
    "\n",
    "def solution(orders, course):\n",
    "    orders = [''.join(sorted(i)) for i in orders]\n",
    "    c = []\n",
    "    answers = []\n",
    "    \n",
    "    for i in course:\n",
    "        d = {}\n",
    "        for j in orders:\n",
    "            tmp = [x for x in j]\n",
    "            c = list(itertools.combinations(tmp, i))\n",
    "            c = [''.join(y) for y in c]\n",
    "            for z in c:\n",
    "                if z in d:\n",
    "                    d[z] += 1\n",
    "                else:\n",
    "                    d[z] = 1\n",
    "        answer = [m for m,v in d.items() if max(d.values()) == v and max(d.values()) > 1]\n",
    "        answers += answer\n",
    "        \n",
    "    return sorted(answers)"
   ]
  },
  {
   "cell_type": "code",
   "execution_count": 64,
   "metadata": {},
   "outputs": [
    {
     "data": {
      "text/plain": [
       "['AC', 'ACDE', 'BCFG', 'CDE']"
      ]
     },
     "execution_count": 64,
     "metadata": {},
     "output_type": "execute_result"
    }
   ],
   "source": [
    "solution([\"ABCFG\", \"AC\", \"CDE\", \"ACDE\", \"BCFG\", \"ACDEH\"], [2,3,4])"
   ]
  },
  {
   "cell_type": "code",
   "execution_count": 38,
   "metadata": {},
   "outputs": [
    {
     "name": "stdout",
     "output_type": "stream",
     "text": [
      "[('a', 'b'), ('a', 'c'), ('a', 'd'), ('b', 'c'), ('b', 'd'), ('c', 'd')]\n"
     ]
    }
   ],
   "source": [
    "b = list(itertools.combinations(['a','b','c','d'],2))\n",
    "print(b)"
   ]
  }
 ],
 "metadata": {
  "kernelspec": {
   "display_name": "Python 3.6.2 32-bit",
   "language": "python",
   "name": "python3"
  },
  "language_info": {
   "codemirror_mode": {
    "name": "ipython",
    "version": 3
   },
   "file_extension": ".py",
   "mimetype": "text/x-python",
   "name": "python",
   "nbconvert_exporter": "python",
   "pygments_lexer": "ipython3",
   "version": "3.6.2"
  },
  "orig_nbformat": 4,
  "vscode": {
   "interpreter": {
    "hash": "d7ac90b7e5c2fc739b3c29a05bfe1baf7557b1e72b3c808d2c79ddca2bdc924b"
   }
  }
 },
 "nbformat": 4,
 "nbformat_minor": 2
}
