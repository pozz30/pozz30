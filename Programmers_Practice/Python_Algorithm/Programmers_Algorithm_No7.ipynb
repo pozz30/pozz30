{
 "cells": [
  {
   "cell_type": "code",
   "execution_count": 4,
   "id": "8e25d2d3",
   "metadata": {},
   "outputs": [],
   "source": [
    "def solution(s):\n",
    "    words = ['zero', 'one', 'two', 'three', 'four', 'five', 'six', 'seven', 'eight', 'nine']\n",
    "\n",
    "    for i in range(len(words)):\n",
    "        s = s.replace(words[i], str(i))\n",
    "\n",
    "    return int(s)"
   ]
  },
  {
   "cell_type": "code",
   "execution_count": 5,
   "id": "c30e1d3a",
   "metadata": {},
   "outputs": [],
   "source": [
    "import re\n",
    "\n",
    "def solutions(s):\n",
    "    \n",
    "    if 'one' in s:\n",
    "        s = re.sub('one', '1', s)\n",
    "    if 'two' in s:\n",
    "        s = re.sub('two', '2', s)\n",
    "    if 'three' in s:\n",
    "        s = re.sub('three', '3', s)\n",
    "    if 'four' in s:\n",
    "        s = re.sub('four', '4', s)\n",
    "    if 'five' in s:\n",
    "        s = re.sub('five', '5', s)\n",
    "    if 'six' in s:\n",
    "        s = re.sub('six', '6', s)\n",
    "    if 'seven' in s:\n",
    "        s = re.sub('seven', '7', s)\n",
    "    if 'eight' in s:\n",
    "        s = re.sub('eight', '8', s)\n",
    "    if 'nine' in s:\n",
    "        s = re.sub('nine', '9', s)\n",
    "    if 'zero' in s:\n",
    "        s = re.sub('zero', '0', s)\n",
    "    \n",
    "    answer = int(s)\n",
    "    return answer"
   ]
  },
  {
   "cell_type": "code",
   "execution_count": 6,
   "id": "7c7ececa",
   "metadata": {},
   "outputs": [
    {
     "data": {
      "text/plain": [
       "19821"
      ]
     },
     "execution_count": 6,
     "metadata": {},
     "output_type": "execute_result"
    }
   ],
   "source": [
    "solution(\"one98two1\")"
   ]
  },
  {
   "cell_type": "code",
   "execution_count": 7,
   "id": "94facf3e",
   "metadata": {},
   "outputs": [
    {
     "data": {
      "text/plain": [
       "19821"
      ]
     },
     "execution_count": 7,
     "metadata": {},
     "output_type": "execute_result"
    }
   ],
   "source": [
    "solutions(\"one98two1\")"
   ]
  }
 ],
 "metadata": {
  "kernelspec": {
   "display_name": "Python 3",
   "language": "python",
   "name": "python3"
  },
  "language_info": {
   "codemirror_mode": {
    "name": "ipython",
    "version": 3
   },
   "file_extension": ".py",
   "mimetype": "text/x-python",
   "name": "python",
   "nbconvert_exporter": "python",
   "pygments_lexer": "ipython3",
   "version": "3.8.8"
  }
 },
 "nbformat": 4,
 "nbformat_minor": 5
}
