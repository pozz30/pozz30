{
 "cells": [
  {
   "cell_type": "code",
   "execution_count": 11,
   "metadata": {},
   "outputs": [],
   "source": [
    "from itertools import permutations\n",
    "\n",
    "def solution(k, dungeons):\n",
    "    arr = list(permutations(dungeons, len(dungeons)))\n",
    "    tmp =[]\n",
    "    for i in arr:\n",
    "        answer = [k, k, 0]\n",
    "        for j in i:\n",
    "            if answer[0] >= j[0]:\n",
    "                answer[0] -= j[1]\n",
    "                answer[1] -= j[1]\n",
    "                answer[2] += 1\n",
    "        tmp.append(answer[2])\n",
    "    return max(tmp)"
   ]
  },
  {
   "cell_type": "code",
   "execution_count": 12,
   "metadata": {},
   "outputs": [
    {
     "data": {
      "text/plain": [
       "3"
      ]
     },
     "execution_count": 12,
     "metadata": {},
     "output_type": "execute_result"
    }
   ],
   "source": [
    "solution(80, [[80,20],[50,40],[30,10]])"
   ]
  }
 ],
 "metadata": {
  "kernelspec": {
   "display_name": "Python 3.8.8 ('base')",
   "language": "python",
   "name": "python3"
  },
  "language_info": {
   "codemirror_mode": {
    "name": "ipython",
    "version": 3
   },
   "file_extension": ".py",
   "mimetype": "text/x-python",
   "name": "python",
   "nbconvert_exporter": "python",
   "pygments_lexer": "ipython3",
   "version": "3.8.8"
  },
  "orig_nbformat": 4,
  "vscode": {
   "interpreter": {
    "hash": "e4c1db8c6ea0e149829512a1748005132e26db1a5923308ba64ff7b5a67e5e09"
   }
  }
 },
 "nbformat": 4,
 "nbformat_minor": 2
}
