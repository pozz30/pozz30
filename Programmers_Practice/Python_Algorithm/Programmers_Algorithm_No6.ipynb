{
 "cells": [
  {
   "cell_type": "code",
   "execution_count": 1,
   "id": "bcee43cb",
   "metadata": {},
   "outputs": [],
   "source": [
    "def solution(new_id):\n",
    "    tmp = []\n",
    "    answer = list(new_id.lower())\n",
    "    #print(\"1단계 : {0}\" .format(answer))\n",
    "    \n",
    "    for i in range(len(answer)):\n",
    "        if answer[i] == '-' or answer[i] == '_' or answer[i] == '.' or answer[i].isalnum():\n",
    "            tmp.append(answer[i])\n",
    "\n",
    "    answer = tmp\n",
    "    tmp = []\n",
    "    #print(\"2단계 : {0}\" .format(str(answer)))\n",
    "\n",
    "    for i in range(0,len(answer)):\n",
    "        if i == 0:\n",
    "            tmp.append(answer[i])\n",
    "        else:\n",
    "            if answer[i] == '.':\n",
    "                if tmp[-1] == answer[i]:\n",
    "                    continue\n",
    "                else:\n",
    "                    tmp.append(answer[i])\n",
    "            else:\n",
    "                tmp.append(answer[i])\n",
    "    answer = tmp\n",
    "    #print(\"3단계 : {0}\" .format(answer))\n",
    "\n",
    "    if not answer:\n",
    "        pass\n",
    "    else:\n",
    "        if answer[0] == '.':\n",
    "            del answer[0]\n",
    "    \n",
    "    if not answer:\n",
    "        pass\n",
    "    else:\n",
    "        if answer[-1] == '.':\n",
    "            del answer[-1]\n",
    "    \n",
    "    #print(\"4단계 : {0}\" .format(answer))\n",
    "        \n",
    "    if not answer:\n",
    "        answer.append('a')\n",
    "    #print(\"5단계 : {0}\" .format(answer))\n",
    "    \n",
    "    if len(answer) >= 16:\n",
    "        answer = answer[0:15]\n",
    "        if answer[-1] == '.':\n",
    "            del answer[-1]\n",
    "    #print(\"6단계 : {0}\" .format(answer))\n",
    "\n",
    "    if len(answer) <= 2:\n",
    "        while True:\n",
    "            answer.append(answer[-1])\n",
    "            if len(answer) == 3:\n",
    "                break\n",
    "    #print(\"7단계 : {0}\" .format(answer))\n",
    "    \n",
    "    answer = ''.join(answer)\n",
    "    return answer"
   ]
  },
  {
   "cell_type": "code",
   "execution_count": 2,
   "id": "31740363",
   "metadata": {},
   "outputs": [
    {
     "data": {
      "text/plain": [
       "'bat.y.abcdefghi'"
      ]
     },
     "execution_count": 2,
     "metadata": {},
     "output_type": "execute_result"
    }
   ],
   "source": [
    "solution(\"...!@BaT#*..y.abcdefghijklm\")"
   ]
  }
 ],
 "metadata": {
  "kernelspec": {
   "display_name": "Python 3",
   "language": "python",
   "name": "python3"
  },
  "language_info": {
   "codemirror_mode": {
    "name": "ipython",
    "version": 3
   },
   "file_extension": ".py",
   "mimetype": "text/x-python",
   "name": "python",
   "nbconvert_exporter": "python",
   "pygments_lexer": "ipython3",
   "version": "3.8.8"
  }
 },
 "nbformat": 4,
 "nbformat_minor": 5
}
