{
 "cells": [
  {
   "cell_type": "code",
   "execution_count": null,
   "metadata": {},
   "outputs": [],
   "source": [
    "import itertools\n",
    "\n",
    "def solution(expression):\n",
    "    symbols = [\"-\", \"+\", \"*\"]\n",
    "    answer = []\n",
    "    for i in itertools.permutations(symbols):\n",
    "        first, second = i[0], i[1]\n",
    "        lst = []\n",
    "        for e in expression.split(first):\n",
    "            temp = [f\"({i})\" for i in e.split(second)]\n",
    "            lst.append(f'({second.join(temp)})')\n",
    "        answer.append(abs(eval(first.join(lst))))\n",
    "    return max(answer)"
   ]
  }
 ],
 "metadata": {
  "language_info": {
   "name": "python"
  },
  "orig_nbformat": 4
 },
 "nbformat": 4,
 "nbformat_minor": 2
}
