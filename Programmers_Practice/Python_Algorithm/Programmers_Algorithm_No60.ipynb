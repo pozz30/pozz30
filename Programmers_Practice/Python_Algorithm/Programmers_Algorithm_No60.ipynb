{
 "cells": [
  {
   "cell_type": "code",
   "execution_count": null,
   "metadata": {},
   "outputs": [],
   "source": [
    "def solution(n):\n",
    "    def hanoi(n, From, Toward, Sub):\n",
    "        if n == 1:\n",
    "            answer.append([From, Toward])\n",
    "            return\n",
    "        hanoi(n - 1, From, Sub, Toward)\n",
    "        answer.append([From, Toward])\n",
    "        print()\n",
    "        hanoi(n - 1, Sub, Toward, From) \n",
    "        \n",
    "    answer = []\n",
    "    hanoi(n, 1, 3, 2)\n",
    "    return answer"
   ]
  }
 ],
 "metadata": {
  "language_info": {
   "name": "python"
  },
  "orig_nbformat": 4
 },
 "nbformat": 4,
 "nbformat_minor": 2
}
