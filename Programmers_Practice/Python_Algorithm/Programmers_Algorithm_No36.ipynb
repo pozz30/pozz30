{
 "cells": [
  {
   "cell_type": "code",
   "execution_count": null,
   "metadata": {},
   "outputs": [],
   "source": [
    "import re\n",
    "\n",
    "def solution(files):\n",
    "    a = sorted(files, key=lambda x : int(re.findall('\\d', x)[0]))\n",
    "    b = sorted(a, key=lambda file : re.split('\\d+', file.lower())[0])\n",
    "    return b"
   ]
  },
  {
   "cell_type": "code",
   "execution_count": null,
   "metadata": {},
   "outputs": [],
   "source": [
    "def solution(word):\n",
    "    res = []\n",
    "    cnt = 0\n",
    "\n",
    "    def dfs(s, w_list):\n",
    "        nonlocal cnt\n",
    "\n",
    "        if len(s) == 5:\n",
    "            return\n",
    "\n",
    "        for i in w_list:\n",
    "            p = s + i\n",
    "            cnt += 1\n",
    "            if p == word:\n",
    "                res.append(cnt)\n",
    "                break\n",
    "            dfs(p, w_list)\n",
    "\n",
    "\n",
    "    dfs('', [\"A\", \"E\", \"I\", \"O\", \"U\"])\n",
    "\n",
    "    return res[0]"
   ]
  }
 ],
 "metadata": {
  "language_info": {
   "name": "python"
  },
  "orig_nbformat": 4
 },
 "nbformat": 4,
 "nbformat_minor": 2
}
