{
 "cells": [
  {
   "cell_type": "code",
   "execution_count": null,
   "metadata": {},
   "outputs": [],
   "source": [
    "def solution(n):\n",
    "    a = 1\n",
    "    b = 2\n",
    "    for i in range(n-2):\n",
    "        c = a + b\n",
    "        a = b\n",
    "        b = c\n",
    "            \n",
    "    return c%1000000007 if n > 2 else n"
   ]
  },
  {
   "cell_type": "code",
   "execution_count": null,
   "metadata": {},
   "outputs": [],
   "source": [
    "def solution(numbers):\n",
    "    answer = []\n",
    "    for i in numbers:\n",
    "        tmp = 0\n",
    "        if i == 1:\n",
    "            answer.append(2)\n",
    "        elif bin(i)[-2:] == '11':\n",
    "            for j in bin(i)[::-1]:\n",
    "                if j != '1':\n",
    "                    break\n",
    "                tmp += 1\n",
    "            y = '0b' + ('1' * (tmp-1))\n",
    "            answer.append(i + int(y, 2)+1)\n",
    "        else:\n",
    "            answer.append(i+1)\n",
    "    return answer"
   ]
  },
  {
   "cell_type": "code",
   "execution_count": null,
   "metadata": {},
   "outputs": [],
   "source": [
    "from collections import deque                  \n",
    "\n",
    "def solution(maps) :\n",
    "    x = 0\n",
    "    y = 0\n",
    "    q = deque()\n",
    "    dx = [0,1,0,-1]\n",
    "    dy = [1,0,-1,0]\n",
    "    q.append((x,y))\n",
    "    \n",
    "    while q:\n",
    "        cx, cy = q.popleft()\n",
    "        for i in range(4):\n",
    "            x = cx + dx[i]\n",
    "            y = cy + dy[i]\n",
    "            if (0 <= x < len(maps)) and (0 <= y < len(maps[0])):\n",
    "                if maps[x][y] == 1:\n",
    "                    maps[x][y] = maps[cx][cy] +1\n",
    "                    q.append((x,y))\n",
    "    return maps[-1][-1] if maps[-1][-1] != 1 else -1"
   ]
  }
 ],
 "metadata": {
  "kernelspec": {
   "display_name": "Python 3.6.2 32-bit",
   "language": "python",
   "name": "python3"
  },
  "language_info": {
   "name": "python",
   "version": "3.6.2"
  },
  "orig_nbformat": 4,
  "vscode": {
   "interpreter": {
    "hash": "d7ac90b7e5c2fc739b3c29a05bfe1baf7557b1e72b3c808d2c79ddca2bdc924b"
   }
  }
 },
 "nbformat": 4,
 "nbformat_minor": 2
}
