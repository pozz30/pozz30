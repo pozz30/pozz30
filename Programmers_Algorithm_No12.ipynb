{
 "cells": [
  {
   "cell_type": "code",
   "execution_count": null,
   "id": "5377d636",
   "metadata": {},
   "outputs": [],
   "source": [
    "def solution(s):\n",
    "    import math\n",
    "    return s[int(math.ceil(len(s)/2)-1):int(len(s)//2+1)]"
   ]
  },
  {
   "cell_type": "code",
   "execution_count": null,
   "id": "d99eb487",
   "metadata": {},
   "outputs": [],
   "source": [
    "def solution(dartResult):\n",
    "    one = two = three = ''\n",
    "    for i in range(len(dartResult)):\n",
    "        if i >= 2:\n",
    "            if dartResult[i].isdigit() == True:\n",
    "                dartResult = dartResult[i:]\n",
    "                break\n",
    "            else:\n",
    "                one += dartResult[i]\n",
    "        else:\n",
    "            one += dartResult[i]\n",
    "    for i in range(len(dartResult)):\n",
    "        if i >= 2:\n",
    "            if dartResult[i].isdigit() == True:\n",
    "                three = dartResult[i:]\n",
    "                break\n",
    "            else:\n",
    "                two += dartResult[i]\n",
    "        else:\n",
    "            two += dartResult[i]\n",
    "    \n",
    "    one_d = two_d = three_d = 0\n",
    "    tmp = ''\n",
    "    for i in one:\n",
    "        if i.isdigit() == True:\n",
    "            tmp += i\n",
    "        elif i == 'S':\n",
    "            one_d = int(tmp)\n",
    "        elif i == 'D':\n",
    "            one_d = int(tmp) * int(tmp)\n",
    "        elif i == 'T':\n",
    "            one_d = int(tmp) * int(tmp) * int(tmp)\n",
    "        elif i == '*':\n",
    "            one_d = one_d * 2\n",
    "        else:\n",
    "            one_d = one_d * (-1)\n",
    "    if '*' in two:\n",
    "        one_d = one_d * 2\n",
    "    \n",
    "    tmp = ''\n",
    "    for i in two:\n",
    "        if i.isdigit() == True:\n",
    "            tmp += i\n",
    "        elif i == 'S':\n",
    "            two_d = int(tmp)\n",
    "        elif i == 'D':\n",
    "            two_d = int(tmp) * int(tmp)\n",
    "        elif i == 'T':\n",
    "            two_d = int(tmp) * int(tmp) * int(tmp)\n",
    "        elif i == '#':\n",
    "            two_d = two_d * (-1)\n",
    "        else:\n",
    "            two_d = two_d * 2\n",
    "    if '*' in three:\n",
    "        two_d = two_d * 2\n",
    "    \n",
    "    tmp = ''\n",
    "    for i in three:\n",
    "        if i.isdigit() == True:\n",
    "            tmp += i\n",
    "        elif i == 'S':\n",
    "            three_d = int(tmp)\n",
    "        elif i == 'D':\n",
    "            three_d = int(tmp) * int(tmp)\n",
    "        elif i == 'T':\n",
    "            three_d = int(tmp) * int(tmp) * int(tmp)\n",
    "        elif i == '#':\n",
    "            three_d = three_d * (-1)\n",
    "        else:\n",
    "            three_d = three_d * 2           \n",
    "\n",
    "    return one_d + two_d + three_d"
   ]
  },
  {
   "cell_type": "code",
   "execution_count": null,
   "id": "98c097f8",
   "metadata": {},
   "outputs": [],
   "source": [
    "def solution(arr, divisor):\n",
    "    answer = []\n",
    "    for i in arr:\n",
    "        if i%divisor == 0:\n",
    "            answer.append(i)\n",
    "    return sorted(answer) if len(answer) > 0 else [-1]"
   ]
  },
  {
   "cell_type": "code",
   "execution_count": null,
   "id": "65da6c8a",
   "metadata": {},
   "outputs": [],
   "source": [
    "def solution(a, b):\n",
    "    return sum(i for i in range(min(a,b),max(a,b)+1))"
   ]
  },
  {
   "cell_type": "code",
   "execution_count": null,
   "id": "c5c4b2f6",
   "metadata": {},
   "outputs": [],
   "source": [
    "def solution(strings, n):\n",
    "    return sorted(sorted(strings), key=lambda x: x[n])"
   ]
  }
 ],
 "metadata": {
  "kernelspec": {
   "display_name": "Python 3",
   "language": "python",
   "name": "python3"
  },
  "language_info": {
   "codemirror_mode": {
    "name": "ipython",
    "version": 3
   },
   "file_extension": ".py",
   "mimetype": "text/x-python",
   "name": "python",
   "nbconvert_exporter": "python",
   "pygments_lexer": "ipython3",
   "version": "3.8.8"
  }
 },
 "nbformat": 4,
 "nbformat_minor": 5
}
