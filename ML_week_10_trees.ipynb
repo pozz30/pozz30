{
  "nbformat": 4,
  "nbformat_minor": 0,
  "metadata": {
    "colab": {
      "provenance": [],
      "collapsed_sections": []
    },
    "kernelspec": {
      "name": "python3",
      "display_name": "Python 3"
    },
    "language_info": {
      "name": "python"
    }
  },
  "cells": [
    {
      "cell_type": "markdown",
      "source": [
        "# 실습 - 트리 기반 방법(Tree-Based Method)\n",
        "\n"
      ],
      "metadata": {
        "id": "G3ibI9ZY-WS5"
      }
    },
    {
      "cell_type": "markdown",
      "source": [
        "# **1. 필요한 라이브러리 불러오기**"
      ],
      "metadata": {
        "id": "kEfjEw9xQApi"
      }
    },
    {
      "cell_type": "code",
      "source": [
        "# 데이터 라이브러리\n",
        "import pandas as pd\n",
        "\n",
        "# tree와 regression 관련 라이브러리\n",
        "from sklearn import tree\n",
        "from sklearn.tree import export_text\n",
        "from sklearn.ensemble import GradientBoostingClassifier\n",
        "from sklearn.ensemble import RandomForestRegressor\n",
        "from sklearn.metrics import mean_squared_error \n",
        "\n",
        "# K-fold cross validation 관련 라이브러리\n",
        "from sklearn.model_selection import KFold\n",
        "\n",
        "# 임의로 데이터를 섞기위한 라이브러리(random shuffling)\n",
        "from sklearn.utils import shuffle\n",
        "\n",
        "# Iris data를 불러오기 위한 라이브러리\n",
        "from sklearn.datasets import load_iris"
      ],
      "metadata": {
        "id": "wKhzbm3tQJ5Z"
      },
      "execution_count": 1,
      "outputs": []
    },
    {
      "cell_type": "markdown",
      "source": [
        "# **2. Decision tree 간단한 회귀 예제**"
      ],
      "metadata": {
        "id": "8GA20e5WbN9x"
      }
    },
    {
      "cell_type": "code",
      "source": [
        "X = [[0, 0], [2, 2]]\n",
        "y = [0.5, 2.5]\n",
        "\n",
        "# Decision tree object 생성\n",
        "clf = tree.DecisionTreeRegressor()\n",
        "\n",
        "# training\n",
        "clf = clf.fit(X, y)\n",
        "\n",
        "# test data 예측\n",
        "clf.predict([[1, 1]])"
      ],
      "metadata": {
        "id": "6Tw2DQdsbKmG"
      },
      "execution_count": null,
      "outputs": []
    },
    {
      "cell_type": "markdown",
      "source": [
        "# **3. Decision tree 분류 예제(Iris data)**"
      ],
      "metadata": {
        "id": "IeB7K8p5o92X"
      }
    },
    {
      "cell_type": "code",
      "source": [
        "# Iris data 불러오기\n",
        "iris = load_iris()\n",
        "\n",
        "# 데이터를 feature와 response로 분리\n",
        "X_iris, y_iris = iris.data, iris.target"
      ],
      "metadata": {
        "id": "4Wzl7NxuYn9b"
      },
      "execution_count": 3,
      "outputs": []
    },
    {
      "cell_type": "code",
      "source": [
        "y_iris"
      ],
      "metadata": {
        "id": "sHgcSve3YxP3"
      },
      "execution_count": null,
      "outputs": []
    },
    {
      "cell_type": "code",
      "source": [
        "# Decision tree object 생성\n",
        "\n",
        "# tree의 depth를 미리 조정\n",
        "# clf = tree.DecisionTreeClassifier(max_depth=1)\n",
        "\n",
        "# pruning 방법으로 depth 조정\n",
        "clf = tree.DecisionTreeClassifier(ccp_alpha=0.01)\n",
        "\n",
        "# training\n",
        "clf = clf.fit(X_iris, y_iris)"
      ],
      "metadata": {
        "id": "boh23nAeo2Z0"
      },
      "execution_count": 5,
      "outputs": []
    },
    {
      "cell_type": "code",
      "source": [
        "# test data 예측\n",
        "clf.predict([[5.6, 2.4, 4.1, 1.1]])"
      ],
      "metadata": {
        "id": "WvRoLJ0kalyf"
      },
      "execution_count": null,
      "outputs": []
    },
    {
      "cell_type": "code",
      "source": [
        "# tree 시각화 \n",
        "tree.plot_tree(clf)"
      ],
      "metadata": {
        "id": "WoRxlCQHpiHn"
      },
      "execution_count": null,
      "outputs": []
    },
    {
      "cell_type": "code",
      "source": [
        "# tree 시각화\n",
        "r = export_text(clf, feature_names=iris['feature_names'])\n",
        "print(r)"
      ],
      "metadata": {
        "id": "WKkaysl1aNoL"
      },
      "execution_count": null,
      "outputs": []
    },
    {
      "cell_type": "markdown",
      "source": [
        "# **4. Boosting 예제(Iris data)**"
      ],
      "metadata": {
        "id": "OH_p682hCAlI"
      }
    },
    {
      "cell_type": "code",
      "source": [
        "# 데이터 임의로 섞기(random shuffling)\n",
        "X_iris, y_iris = shuffle(X_iris, y_iris, random_state=0)"
      ],
      "metadata": {
        "id": "hgzgIkCTB-HB"
      },
      "execution_count": 9,
      "outputs": []
    },
    {
      "cell_type": "code",
      "source": [
        "y_iris"
      ],
      "metadata": {
        "id": "8KL1YpukfuJQ"
      },
      "execution_count": null,
      "outputs": []
    },
    {
      "cell_type": "code",
      "source": [
        "# training set, test set 구분\n",
        "X_train, X_test = X_iris[:120], X_iris[120:]\n",
        "y_train, y_test = y_iris[:120], y_iris[120:]"
      ],
      "metadata": {
        "id": "gMh0NJWvfyN6"
      },
      "execution_count": 11,
      "outputs": []
    },
    {
      "cell_type": "code",
      "source": [
        "for n_trees in [1, 10, 50, 100]: \n",
        "  # boosting object 생성 및 training\n",
        "  clf = GradientBoostingClassifier(n_estimators=n_trees, learning_rate=1.0, max_depth=1, random_state=0).fit(X_train, y_train) \n",
        "\n",
        "  # test data 예측값\n",
        "  print(clf.score(X_test, y_test))"
      ],
      "metadata": {
        "id": "tXflYjG_f0k_"
      },
      "execution_count": null,
      "outputs": []
    },
    {
      "cell_type": "markdown",
      "source": [
        "# **5. Hitters 데이터 불러오기**\n",
        "\n"
      ],
      "metadata": {
        "id": "boA6au-PQi8k"
      }
    },
    {
      "cell_type": "code",
      "source": [
        "# 데이터 loading\n",
        "from google.colab import drive\n",
        "drive.mount('/content/drive')\n",
        "\n",
        "hitters = pd.read_csv(\"/content/drive/MyDrive/Colab Notebooks/data/Hitters.csv\", index_col=0)\n",
        "\n",
        "# 데이터 임의로 섞기(random shuffling)\n",
        "hitters = shuffle(hitters, random_state=0)"
      ],
      "metadata": {
        "id": "-5tdfic8RECD"
      },
      "execution_count": null,
      "outputs": []
    },
    {
      "cell_type": "code",
      "source": [
        "hitters"
      ],
      "metadata": {
        "id": "EjrxZ2O6gSk5"
      },
      "execution_count": null,
      "outputs": []
    },
    {
      "cell_type": "code",
      "source": [
        "# NaN이 포함된 행을 제거\n",
        "hitters = hitters.dropna()"
      ],
      "metadata": {
        "id": "9Ugo5QIrjkKZ"
      },
      "execution_count": 15,
      "outputs": []
    },
    {
      "cell_type": "markdown",
      "source": [
        "# **6. Random forests 예제(Hitters data)**"
      ],
      "metadata": {
        "id": "cMH0KRV_mfyh"
      }
    },
    {
      "cell_type": "code",
      "source": [
        "# k-fold CV의 fold 수 지정\n",
        "n_fold = 5\n",
        "\n",
        "for t_param in (\"sqrt\", 5):\n",
        "  print(\"Number of features: \", t_param)\n",
        "  kf = KFold(n_splits=n_fold) \n",
        "  idx = 1\n",
        "\n",
        "  sum_val_mse = 0\n",
        "  for train, val in kf.split(hitters):\n",
        "    print(\"Fold: #\", idx)\n",
        "\n",
        "    # training set의 feature와 response 분리\n",
        "    train_X = hitters.iloc[train][[\"Hits\", \"HmRun\", \"Runs\", \"Walks\", \"Years\"]]\n",
        "    train_y = hitters.iloc[train][\"Salary\"]\n",
        "\n",
        "    # validation set의 feature와 response 분리\n",
        "    val_X = hitters.iloc[val][[\"Hits\", \"HmRun\", \"Runs\", \"Walks\", \"Years\"]]\n",
        "    val_y = hitters.iloc[val][\"Salary\"]\n",
        "\n",
        "    # Random forests object 생성\n",
        "    regr = RandomForestRegressor(max_depth=3, max_features=t_param, random_state=0)\n",
        "\n",
        "    # training set을 이용하여 적합\n",
        "    regr.fit(train_X, train_y)\n",
        "\n",
        "    # validation set을 이용하여 예측\n",
        "    val_y_pred = regr.predict(val_X)\n",
        "    \n",
        "    # validation MSE\n",
        "    val_mse = mean_squared_error(val_y, val_y_pred)\n",
        "    print(\"Validation MSE: %.3f\" % val_mse)\n",
        "\n",
        "    # validation MSE 합계\n",
        "    sum_val_mse += val_mse\n",
        "\n",
        "    print(\"------------------------------\")\n",
        "    idx+=1\n",
        "  print(\"Average Validation MSE: %.3f\" % (sum_val_mse / n_fold))\n",
        "  print(\"******************************\")"
      ],
      "metadata": {
        "id": "wFlnaG8ByhTJ"
      },
      "execution_count": null,
      "outputs": []
    }
  ]
}