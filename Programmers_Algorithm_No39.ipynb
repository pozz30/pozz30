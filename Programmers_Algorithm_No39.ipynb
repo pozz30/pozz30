{
 "cells": [
  {
   "cell_type": "code",
   "execution_count": null,
   "metadata": {},
   "outputs": [],
   "source": [
    "from itertools import permutations\n",
    "\n",
    "def solution(numbers):\n",
    "    cnt = 0\n",
    "    answer=[]\n",
    "    real = []\n",
    "    tmp = [i for i in numbers]\n",
    "    \n",
    "    for i in range(len(numbers)):\n",
    "        answer += (list(permutations(tmp, i+1)))\n",
    "    answer = [list(i) for i in answer]\n",
    "\n",
    "    def prime(a):\n",
    "        if a == 0 or a == 1:\n",
    "            return False\n",
    "        k = 0\n",
    "        for i in range(2,a):\n",
    "            if a%i == 0:\n",
    "                return False\n",
    "        return True\n",
    "    \n",
    "    for i in answer:\n",
    "        num = ''\n",
    "        for j in i:\n",
    "            num += j\n",
    "        if int(num) not in real:\n",
    "            real.append(int(num))\n",
    "            if prime(int(num)):\n",
    "                cnt += 1\n",
    "    \n",
    "    return cnt"
   ]
  }
 ],
 "metadata": {
  "language_info": {
   "name": "python"
  },
  "orig_nbformat": 4
 },
 "nbformat": 4,
 "nbformat_minor": 2
}
