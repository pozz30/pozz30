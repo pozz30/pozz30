{
 "cells": [
  {
   "cell_type": "code",
   "execution_count": null,
   "id": "c35c72d0",
   "metadata": {},
   "outputs": [],
   "source": [
    "'''\n",
    "def solution(n, arr1, arr2):\n",
    "    answer = []\n",
    "    map1 = map2 = map3 = []\n",
    "    \n",
    "    def binary(x):\n",
    "        tmp = [0]*n\n",
    "        for i in range(n):\n",
    "            tmp[-1-i] = x%2\n",
    "            x = x//2\n",
    "        return tmp\n",
    "    \n",
    "    for i,j in zip(arr1,arr2):\n",
    "        this = ''\n",
    "        map1 = binary(i)\n",
    "        map2 = binary(j)\n",
    "        for k in range(n):\n",
    "            this += ' ' if map1[k]+map2[k] == 0 else '#'\n",
    "        answer.append(this)\n",
    "    \n",
    "    return answer\n",
    "'''\n",
    "\n",
    "def solution(n, arr1, arr2):\n",
    "    answer = []\n",
    "    for i in range(n):\n",
    "        result = bin(arr1[i] | arr2[i])[2:]\n",
    "        if len(result) < n:\n",
    "            result = '0' * (n - len(result)) + result\n",
    "        str = ''\n",
    "        for x in result:\n",
    "            if x == '1':\n",
    "                str += '#'\n",
    "            else:\n",
    "                str += ' '\n",
    "        answer.append(str)\n",
    "    return answer"
   ]
  },
  {
   "cell_type": "code",
   "execution_count": null,
   "id": "7a9c044f",
   "metadata": {},
   "outputs": [],
   "source": [
    "def solution(n):\n",
    "    t = ''\n",
    "    \n",
    "    while True:\n",
    "        if n == 1 or n == 2:\n",
    "            t += str(n)\n",
    "            break\n",
    "        else:\n",
    "            t += str(n%3)\n",
    "            n = n//3\n",
    "    \n",
    "    \n",
    "    return int(t, 3)"
   ]
  },
  {
   "cell_type": "code",
   "execution_count": null,
   "id": "06ad64d4",
   "metadata": {},
   "outputs": [],
   "source": [
    "def solution(numbers):\n",
    "    answer = []\n",
    "    for i in range(len(numbers)-1):\n",
    "        for j in range(i+1,len(numbers)):\n",
    "            answer.append(numbers[i]+numbers[j])\n",
    "    answer = list(set(answer))\n",
    "    return sorted(answer)"
   ]
  },
  {
   "cell_type": "code",
   "execution_count": null,
   "id": "d86e727f",
   "metadata": {},
   "outputs": [],
   "source": [
    "def solution(a, b):\n",
    "    day = [0,31,29,31,30,31,30,31,31,30,31,30]\n",
    "    tmp = b-1\n",
    "    for i in range(a):\n",
    "        tmp += day[i]\n",
    "    tmp = tmp%7\n",
    "    if tmp == 0:\n",
    "        answer = 'FRI'\n",
    "    elif tmp == 1:\n",
    "        answer = 'SAT'\n",
    "    elif tmp == 2:\n",
    "        answer = 'SUN'\n",
    "    elif tmp == 3:\n",
    "        answer = 'MON'\n",
    "    elif tmp == 4:\n",
    "        answer = 'TUE'\n",
    "    elif tmp == 5:\n",
    "        answer = 'WED'\n",
    "    else:\n",
    "        answer = 'THU'\n",
    "\n",
    "    return answer"
   ]
  },
  {
   "cell_type": "code",
   "execution_count": null,
   "id": "87c0c899",
   "metadata": {},
   "outputs": [],
   "source": [
    "def solution(d, budget):\n",
    "\n",
    "    for i in sorted(d):\n",
    "        tmp += i\n",
    "        if tmp > budget:\n",
    "            break\n",
    "        answer += 1\n",
    "    \n",
    "    return answer"
   ]
  },
  {
   "cell_type": "code",
   "execution_count": null,
   "id": "2880bed3",
   "metadata": {},
   "outputs": [],
   "source": [
    "def solution(n):\n",
    "    for i in range(2,n):\n",
    "        if n % i ==1:\n",
    "            return i"
   ]
  },
  {
   "cell_type": "code",
   "execution_count": null,
   "id": "3ce95476",
   "metadata": {},
   "outputs": [],
   "source": [
    "def solution(price, money, count):\n",
    "\n",
    "    return max(0, price*(count*(count+1)/2)-money)"
   ]
  }
 ],
 "metadata": {
  "kernelspec": {
   "display_name": "Python 3",
   "language": "python",
   "name": "python3"
  },
  "language_info": {
   "codemirror_mode": {
    "name": "ipython",
    "version": 3
   },
   "file_extension": ".py",
   "mimetype": "text/x-python",
   "name": "python",
   "nbconvert_exporter": "python",
   "pygments_lexer": "ipython3",
   "version": "3.8.8"
  }
 },
 "nbformat": 4,
 "nbformat_minor": 5
}
