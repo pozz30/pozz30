{
 "cells": [
  {
   "cell_type": "code",
   "execution_count": null,
   "id": "d0cf9a70",
   "metadata": {},
   "outputs": [],
   "source": [
    "# 문제 : 크래인 인형 뽑기\n",
    "def solution(board, moves):\n",
    "    answer = 0\n",
    "    tmp = []\n",
    "    \n",
    "    for i in moves:\n",
    "        for j in range(len(board)):\n",
    "            if board[j][i-1] == 0:\n",
    "                #print(\"0일때 :\", i-1, j, board[j][i-1])\n",
    "                continue\n",
    "            else:\n",
    "                #print(\"0 아닐 때 :\", i-1, j, board[j][i-1])\n",
    "                if tmp[-1:] == [board[j][i-1]]:\n",
    "                    del tmp[-1]\n",
    "                    answer += 2\n",
    "                else:\n",
    "                    tmp.append(board[j][i-1])\n",
    "                board[j][i-1] = 0\n",
    "                #print(\"0 아닐 때 추가 후 :\", tmp, answer)\n",
    "                break\n",
    "        \n",
    "    return answer"
   ]
  },
  {
   "cell_type": "code",
   "execution_count": null,
   "id": "bed0d106",
   "metadata": {},
   "outputs": [],
   "source": [
    "# 문제 : 없는 숫자 더하기\n",
    "def solution(numbers):\n",
    "    answer = 0\n",
    "    for i in range(1,10):\n",
    "        if i not in numbers:\n",
    "            answer += i\n",
    "    \n",
    "    return answer"
   ]
  },
  {
   "cell_type": "code",
   "execution_count": null,
   "id": "7f1e3eed",
   "metadata": {},
   "outputs": [],
   "source": [
    "# 문제 : 내적\n",
    "def solution(a, b):\n",
    "    return sum(x*y for x,y in zip(a,b))"
   ]
  },
  {
   "cell_type": "code",
   "execution_count": null,
   "id": "74da7508",
   "metadata": {},
   "outputs": [],
   "source": [
    "# 문제 : 음양 더하기\n",
    "def solution(absolutes, signs):\n",
    "    for i in range(len(signs)):\n",
    "        if signs[i] == True:\n",
    "            signs[i] = 1\n",
    "        else:\n",
    "            signs[i] = -1\n",
    "    return sum(x*y for x,y in zip(absolutes, signs))"
   ]
  },
  {
   "cell_type": "code",
   "execution_count": null,
   "id": "e7c378f6",
   "metadata": {},
   "outputs": [],
   "source": [
    "# 문제 : 소수 구하기\n",
    "def solution(nums):\n",
    "    answer = 0\n",
    "    tmp = []\n",
    "    for i in range (len(nums)-2):\n",
    "        for j in range(i+1,len(nums)-1):\n",
    "            for k in range(j+1,len(nums)):\n",
    "                tmp.append(nums[i]+nums[j]+nums[k])\n",
    "    for i in tmp:\n",
    "        cnt = 0\n",
    "        for j in range (2,i):\n",
    "            if i%j == 0:\n",
    "                cnt +=1\n",
    "        if cnt == 0:\n",
    "            answer += 1\n",
    "        \n",
    "    return answer"
   ]
  },
  {
   "cell_type": "code",
   "execution_count": 185,
   "id": "bf9817bd",
   "metadata": {},
   "outputs": [],
   "source": [
    "# 문제 : 실패율\n",
    "def solutionss(N, stages):\n",
    "    mydic = {}\n",
    "    answer = []\n",
    "    for i in stages:\n",
    "        if i > N:\n",
    "            continue\n",
    "        if i in mydic:\n",
    "            mydic[i] += 1\n",
    "        else:\n",
    "            mydic[i] = 1\n",
    "    for i in range(1,N+1):\n",
    "        if i in mydic:\n",
    "            continue\n",
    "        else:\n",
    "            mydic[i] = 0\n",
    "\n",
    "    tmp = len(stages)\n",
    "    for i in range(1,N+1):\n",
    "        if i in mydic:\n",
    "            minus = mydic[i]\n",
    "            mydic[i] = mydic[i]/tmp\n",
    "            tmp -= minus\n",
    "        else:\n",
    "            continue\n",
    "    print(mydic)\n",
    "    sorted_dict = sorted(mydic.items(), key = lambda item: item[0])\n",
    "    print(sorted_dict)\n",
    "\n",
    "    for item in sorted(sorted_dict, key=lambda x: x[1], reverse=True):\n",
    "        answer.append(item[0])\n",
    "\n",
    "    return answer\n"
   ]
  },
  {
   "cell_type": "code",
   "execution_count": 186,
   "id": "4ac8ec65",
   "metadata": {},
   "outputs": [
    {
     "name": "stdout",
     "output_type": "stream",
     "text": [
      "{2: 0.42857142857142855, 1: 0.125, 4: 0.5, 3: 0.5, 5: 0.0}\n",
      "[(1, 0.125), (2, 0.42857142857142855), (3, 0.5), (4, 0.5), (5, 0.0)]\n"
     ]
    },
    {
     "data": {
      "text/plain": [
       "[3, 4, 2, 1, 5]"
      ]
     },
     "execution_count": 186,
     "metadata": {},
     "output_type": "execute_result"
    }
   ],
   "source": [
    "solutionss(5, [2, 1, 2, 6, 2, 4, 3, 3])"
   ]
  },
  {
   "cell_type": "code",
   "execution_count": 138,
   "id": "25a81c37",
   "metadata": {},
   "outputs": [],
   "source": [
    "# 문제 : 실패율\n",
    "def solution(N, stages):\n",
    "    answer = []\n",
    "    tmp = [0]*(N+2)\n",
    "    \n",
    "    for i in stages:\n",
    "        tmp[i] += 1\n",
    "    cnt = len(stages)\n",
    "\n",
    "    for i in range(len(tmp)):\n",
    "        if cnt == 0:\n",
    "            break\n",
    "        else:\n",
    "            m = tmp[i]\n",
    "            tmp[i] = tmp[i]/cnt\n",
    "            cnt -= m\n",
    "    \n",
    "    tmp = tmp[1:N+1]\n",
    "    rtmp = sorted(tmp)\n",
    "    rtmp.reverse()\n",
    "    for i in rtmp:\n",
    "        answer.append(tmp.index(i)+1)\n",
    "        tmp[tmp.index(i)] = -1\n",
    "    \n",
    "    return answer"
   ]
  },
  {
   "cell_type": "code",
   "execution_count": 139,
   "id": "6f19ae16",
   "metadata": {},
   "outputs": [
    {
     "data": {
      "text/plain": [
       "[3, 4, 2, 1, 5]"
      ]
     },
     "execution_count": 139,
     "metadata": {},
     "output_type": "execute_result"
    }
   ],
   "source": [
    "solution(5, [2, 1, 2, 6, 2, 4, 3, 3])"
   ]
  },
  {
   "cell_type": "code",
   "execution_count": 93,
   "id": "d11389ec",
   "metadata": {},
   "outputs": [
    {
     "name": "stdout",
     "output_type": "stream",
     "text": [
      "[33, 2, 81, -77, 44, 1, 10, 99, 5, 0, -2]\n",
      "[-77, -2, 0, 1, 2, 5, 10, 33, 44, 81, 99]\n"
     ]
    }
   ],
   "source": [
    "list_num = [33, 2, 81, -77, 44, 1, 10, 99, 5, 0, -2]\n",
    "b = sorted(list_num)\n",
    "print(list_num)\n",
    "print(b)"
   ]
  },
  {
   "cell_type": "code",
   "execution_count": 187,
   "id": "2d5c6348",
   "metadata": {},
   "outputs": [],
   "source": [
    "def solutions(N, stages):\n",
    "    answer = []\n",
    "    fail = []\n",
    "    info = [0] * (N + 2)\n",
    "    for stage in stages:\n",
    "        info[stage] += 1\n",
    "    for i in range(N):\n",
    "        be = sum(info[(i + 1):])\n",
    "        yet = info[i + 1]\n",
    "        if be == 0:\n",
    "            fail.append(((i + 1), 0))\n",
    "        else:\n",
    "            fail.append(((i + 1), yet / be))\n",
    "    print(fail)\n",
    "    for item in sorted(fail, key=lambda x: x[1], reverse=True):\n",
    "        answer.append(item[0])\n",
    "    return answer"
   ]
  },
  {
   "cell_type": "code",
   "execution_count": 188,
   "id": "92d283cd",
   "metadata": {},
   "outputs": [
    {
     "name": "stdout",
     "output_type": "stream",
     "text": [
      "[(1, 0.125), (2, 0.42857142857142855), (3, 0.5), (4, 0.5), (5, 0.0)]\n"
     ]
    },
    {
     "data": {
      "text/plain": [
       "[3, 4, 2, 1, 5]"
      ]
     },
     "execution_count": 188,
     "metadata": {},
     "output_type": "execute_result"
    }
   ],
   "source": [
    "solutions(5, [2, 1, 2, 6, 2, 4, 3, 3])"
   ]
  }
 ],
 "metadata": {
  "kernelspec": {
   "display_name": "Python 3",
   "language": "python",
   "name": "python3"
  },
  "language_info": {
   "codemirror_mode": {
    "name": "ipython",
    "version": 3
   },
   "file_extension": ".py",
   "mimetype": "text/x-python",
   "name": "python",
   "nbconvert_exporter": "python",
   "pygments_lexer": "ipython3",
   "version": "3.8.8"
  }
 },
 "nbformat": 4,
 "nbformat_minor": 5
}
