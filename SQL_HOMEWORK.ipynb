{
 "cells": [
  {
   "cell_type": "code",
   "execution_count": null,
   "metadata": {},
   "outputs": [],
   "source": [
    "#[ 1번 문제 ]\n",
    "WITH\n",
    "\taction_log_with_mst_users AS ( SELECT u.user_id\n",
    "\t\t\t\t\t\t\t\t\t\t, u.register_date\n",
    "                                        , CAST(a.stamp AS DATE) AS action_date\n",
    "                                        , MAX(CAST(a.stamp AS DATE)) OVER() AS latest_date\n",
    "                                        , CAST(DATEADD(DD, 7, u.register_date) AS DATE) AS next_day_7\n",
    "                                        FROM mst_users AS u\n",
    "                                        LEFT OUTER JOIN action_log AS a\n",
    "\t\t\t\t\t\t\t\t\t\t\tON u.user.id = a.user_id ),\n",
    "\tuser_action_flag AS (SELECT uesr_id\n",
    "\t\t\t\t\t\t\t\t, register_date\n",
    "                                , SIGN(SUM(CASE WHEN next_day_7 <= latest_date THEN\n",
    "\t\t\t\t\t\t\t\t\t\t\t\tCASE WHEN next_day_7 = action_date THEN 1 ELSE 0 END\n",
    "                                                END)) AS next_7_day_action\n",
    "\t\t\t\t\t\t\tFROM action_log_with_mst_users\n",
    "                            GROUP BY user_id, register_date)\n",
    "SELECT *\n",
    "FROM user_action_flag\n",
    "ORDER BY register_date, user_id;\n",
    "\n",
    "\n",
    "\n",
    "#[ 2번 문제 ]\n",
    "SELECT dt\n",
    "\t\t, year_month\n",
    "        , amount AS total_amount\n",
    "        , (SELECT SUM(amount) FROM purchase_log_with_month AS s WHERE s.dt <= m.dt) AS agg_amount\n",
    "FROM (SELECT dt\n",
    "\t\t\t, SUBSTRING(dt, 1, 7) AS year_month\n",
    "            , SUM(purchase_amount) AS amount\n",
    "\t\tFROM purchase_log\n",
    "        GROUP BY dt) b\n",
    "ORDER BY dt;\n",
    "\n",
    "\n",
    "\n",
    "#[ 3번 문제 ]\n",
    "SELECT 반, COUNT(DISTINCT(이름)) AS 결과 FROM sss.bn GROUP BY 반;"
   ]
  }
 ],
 "metadata": {
  "kernelspec": {
   "display_name": "Python 3.10.2 64-bit",
   "language": "python",
   "name": "python3"
  },
  "language_info": {
   "name": "python",
   "version": "3.10.2"
  },
  "orig_nbformat": 4,
  "vscode": {
   "interpreter": {
    "hash": "c2397ebbcede9ef22e8cbfc88c22cf40f693f7334f209f1e17c60208fcd5767a"
   }
  }
 },
 "nbformat": 4,
 "nbformat_minor": 2
}
