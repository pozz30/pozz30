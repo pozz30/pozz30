{
 "cells": [
  {
   "cell_type": "code",
   "execution_count": null,
   "metadata": {},
   "outputs": [],
   "source": [
    "def solution(bridge_length, weight, truck_weights):\n",
    "    time = 0\n",
    "    q = [0] * bridge_length\n",
    "    \n",
    "    while q:\n",
    "        time += 1\n",
    "        q.pop(0)\n",
    "        if truck_weights:\n",
    "            if sum(q) + truck_weights[0] <= weight:\n",
    "                q.append(truck_weights.pop(0))\n",
    "            else:\n",
    "                q.append(0)\n",
    "    \n",
    "    return time"
   ]
  }
 ],
 "metadata": {
  "kernelspec": {
   "display_name": "Python 3.10.8 64-bit",
   "language": "python",
   "name": "python3"
  },
  "language_info": {
   "name": "python",
   "version": "3.10.8"
  },
  "orig_nbformat": 4,
  "vscode": {
   "interpreter": {
    "hash": "2a74536cd186548abdc649e21843788074c84a9313d53ddc5e465f7c7a000750"
   }
  }
 },
 "nbformat": 4,
 "nbformat_minor": 2
}
