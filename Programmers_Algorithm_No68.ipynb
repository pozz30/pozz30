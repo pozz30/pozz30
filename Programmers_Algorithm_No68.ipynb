{
 "cells": [
  {
   "cell_type": "code",
   "execution_count": null,
   "metadata": {},
   "outputs": [],
   "source": [
    "import heapq\n",
    "\n",
    "def solution(operations):\n",
    "    answer = []\n",
    "    heap = []   # 힙 생성\n",
    "\n",
    "    for data in operations:\n",
    "        # 연산이 \"I\"일 경우 공백 뒤의 숫자를 heap에 넣음\n",
    "        if data[0] == \"I\":\n",
    "            heapq.heappush(heap, int(data[2:]))\n",
    "        # 연산이 \"D\"일 경우\n",
    "        else:\n",
    "            if len(heap) == 0:\n",
    "                pass\n",
    "            # 공백 뒤가 \"-\"일 경우 최소힙을 제거\n",
    "            elif data[2] == \"-\":\n",
    "                heapq.heappop(heap)\n",
    "            # 공백 뒤가 아무것도 아닌 경우\n",
    "            else:\n",
    "                # 힙에서 가장 큰 수를 제외하고 다시 힙에 넣음\n",
    "                heap = heapq.nlargest(len(heap), heap)[1:]\n",
    "                heapq.heapify(heap)\n",
    "\n",
    "    if heap:\n",
    "        answer.append(max(heap))\n",
    "        answer.append(min(heap))\n",
    "    else:\n",
    "        answer.append(0)\n",
    "        answer.append(0)\n",
    "    \n",
    "    return answer"
   ]
  }
 ],
 "metadata": {
  "language_info": {
   "name": "python"
  },
  "orig_nbformat": 4
 },
 "nbformat": 4,
 "nbformat_minor": 2
}
