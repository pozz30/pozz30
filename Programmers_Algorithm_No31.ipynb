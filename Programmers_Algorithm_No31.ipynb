{
 "cells": [
  {
   "cell_type": "code",
   "execution_count": null,
   "metadata": {},
   "outputs": [],
   "source": [
    "def solution(skill, skill_trees):\n",
    "    real = ['']\n",
    "    for i in range(len(skill)):\n",
    "        real.append(skill[0:i+1])\n",
    "    answer = 0\n",
    "    for i in skill_trees:\n",
    "        tmp = ''\n",
    "        for j in i:\n",
    "            if j in skill:\n",
    "                tmp += j\n",
    "        else:\n",
    "            if tmp in real:\n",
    "                print(i, tmp)\n",
    "                answer += 1\n",
    "    return answer"
   ]
  }
 ],
 "metadata": {
  "language_info": {
   "name": "python"
  },
  "orig_nbformat": 4
 },
 "nbformat": 4,
 "nbformat_minor": 2
}
