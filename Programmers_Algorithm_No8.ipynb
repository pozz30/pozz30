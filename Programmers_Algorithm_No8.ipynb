{
 "cells": [
  {
   "cell_type": "code",
   "execution_count": 132,
   "id": "679aa9c9",
   "metadata": {},
   "outputs": [],
   "source": [
    "def solution(numbers, hand):\n",
    "    a = ''\n",
    "    pad = {1:[0,0], 2:[0,1], 3:[0,2], 4:[1,0], 5:[1,1], 6:[1,2], 7:[2,0], 8:[2,1], 9:[2,2], 0:[3,1]}\n",
    "    left = [3,0]\n",
    "    right = [3,2]\n",
    "    \n",
    "    for i in numbers:\n",
    "        if i in [1,4,7]:\n",
    "            a += 'L'\n",
    "            left = pad[i]\n",
    "        if i in [3,6,9]:\n",
    "            a += 'R'\n",
    "            right = pad[i]\n",
    "        if i in [2,5,8,0]:\n",
    "            lh = abs(left[0] - pad[i][0]) + abs(left[1] - pad[i][1])\n",
    "            rh = abs(right[0] - pad[i][0]) + abs(right[1] - pad[i][1])\n",
    "            if lh < rh:\n",
    "                a += 'L'\n",
    "                left = pad[i]\n",
    "            if lh > rh:\n",
    "                a += 'R'\n",
    "                right = pad[i]\n",
    "            if lh == rh:\n",
    "                if hand == \"left\":\n",
    "                    a += 'L'\n",
    "                    left = pad[i]\n",
    "                else:\n",
    "                    a += 'R'\n",
    "                    right = pad[i]\n",
    "    answer = a\n",
    "    return answer"
   ]
  },
  {
   "cell_type": "code",
   "execution_count": 133,
   "id": "f9ebfb43",
   "metadata": {},
   "outputs": [
    {
     "data": {
      "text/plain": [
       "'LLRLLRLLRL'"
      ]
     },
     "execution_count": 133,
     "metadata": {},
     "output_type": "execute_result"
    }
   ],
   "source": [
    "solution([1, 2, 3, 4, 5, 6, 7, 8, 9, 0], \"right\")"
   ]
  },
  {
   "cell_type": "code",
   "execution_count": 135,
   "id": "f6e54a98",
   "metadata": {},
   "outputs": [
    {
     "data": {
      "text/plain": [
       "'LLRL'"
      ]
     },
     "execution_count": 135,
     "metadata": {},
     "output_type": "execute_result"
    }
   ],
   "source": [
    "solution([0,1,3,1], \"left\")"
   ]
  },
  {
   "cell_type": "code",
   "execution_count": 125,
   "id": "5d633240",
   "metadata": {},
   "outputs": [
    {
     "name": "stdout",
     "output_type": "stream",
     "text": [
      "이번 수는 1 입니다.\n",
      "이번 수는 2 입니다.\n",
      "이번 수는 3 입니다.\n",
      "아쉽게도 수는 4 입니다.\n",
      "아쉽게도 수는 5 입니다.\n",
      "아쉽게도 수는 6 입니다.\n",
      "결국 이번 수는 7 입니다.\n",
      "결국 이번 수는 8 입니다.\n",
      "결국 이번 수는 9 입니다.\n",
      "결국 이번 수는 0 입니다.\n"
     ]
    }
   ],
   "source": [
    "a = [1,2,3,4,5,6,7,8,9,0]\n",
    "for i in a:\n",
    "    if i in [1,2,3]:\n",
    "        print(\"이번 수는 {0} 입니다.\" .format(i))\n",
    "    elif i in [4,5,6]:\n",
    "        print(\"아쉽게도 수는 {0} 입니다.\" .format(i))\n",
    "    else:\n",
    "        print(\"결국 이번 수는 {0} 입니다.\" .format(i))"
   ]
  }
 ],
 "metadata": {
  "kernelspec": {
   "display_name": "Python 3",
   "language": "python",
   "name": "python3"
  },
  "language_info": {
   "codemirror_mode": {
    "name": "ipython",
    "version": 3
   },
   "file_extension": ".py",
   "mimetype": "text/x-python",
   "name": "python",
   "nbconvert_exporter": "python",
   "pygments_lexer": "ipython3",
   "version": "3.8.8"
  }
 },
 "nbformat": 4,
 "nbformat_minor": 5
}
