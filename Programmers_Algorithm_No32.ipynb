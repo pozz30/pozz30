{
  "nbformat": 4,
  "nbformat_minor": 0,
  "metadata": {
    "colab": {
      "provenance": [],
      "collapsed_sections": []
    },
    "kernelspec": {
      "name": "python3",
      "display_name": "Python 3"
    },
    "language_info": {
      "name": "python"
    }
  },
  "cells": [
    {
      "cell_type": "code",
      "execution_count": null,
      "metadata": {
        "id": "yyPvBuoqH6HG"
      },
      "outputs": [],
      "source": [
        "#BFS 풀이\n",
        "def solution(numbers, target):\n",
        "    answer = 0\n",
        "    leaves = [0]\n",
        "    for num in numbers:\n",
        "        tmp = []\n",
        "        for parent in leaves:\n",
        "            tmp.append(parent + num)\n",
        "            tmp.append(parent - num)\n",
        "        leaves = tmp\n",
        "    for leaf in leaves:\n",
        "        if leaf == target:\n",
        "            answer += 1\n",
        "    return answer"
      ]
    },
    {
      "cell_type": "code",
      "source": [
        "#DFS 풀이\n",
        "def solution(numbers, target):\n",
        "    answer = DFS(numbers, target, 0)\n",
        "    return answer\n",
        "\n",
        "def DFS(numbers, target, depth):\n",
        "    answer = 0\n",
        "    if depth == len(numbers):\n",
        "        print(numbers)\n",
        "        if sum(numbers) == target:\n",
        "            return 1\n",
        "        else: return 0\n",
        "    else:\n",
        "        answer += DFS(numbers, target, depth+1)\n",
        "        numbers[depth] *= -1\n",
        "        answer += DFS(numbers, target, depth+1)\n",
        "        return answer"
      ],
      "metadata": {
        "colab": {
          "base_uri": "https://localhost:8080/"
        },
        "id": "CmPmARTCH7Pd",
        "outputId": "a8ed4fa9-7551-4d51-cc8f-e4d7933601f1"
      },
      "execution_count": null,
      "outputs": [
        {
          "output_type": "stream",
          "name": "stdout",
          "text": [
            "['', 'CBD', 'BD', 'D']\n",
            "CBADF CBD\n",
            "BDA BD\n",
            "EV \n"
          ]
        },
        {
          "output_type": "execute_result",
          "data": {
            "text/plain": [
              "3"
            ]
          },
          "metadata": {},
          "execution_count": 29
        }
      ]
    }
  ]
}