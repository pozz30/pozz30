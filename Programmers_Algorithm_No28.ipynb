{
 "cells": [
  {
   "cell_type": "code",
   "execution_count": 61,
   "metadata": {},
   "outputs": [],
   "source": [
    "import math\n",
    "\n",
    "def solution(fees, records):\n",
    "    a = []\n",
    "    pay = {}\n",
    "    for i in records:\n",
    "        a.append(i.split(' '))\n",
    "    a = sorted(a, key = lambda x:int(x[1]))\n",
    "    \n",
    "    for i in a:\n",
    "        if i[1] not in pay:\n",
    "            pay[i[1]] = 0\n",
    "\n",
    "    for i in range(len(a)-1):\n",
    "        hh = 0\n",
    "        mm = 0\n",
    "        if a[i][1] == a[i+1][1] and a[i][2] == 'IN':\n",
    "            hh = int(a[i+1][0][:2]) - int(a[i][0][:2])\n",
    "            mm = int(a[i+1][0][-2:]) - int(a[i][0][-2:])\n",
    "            pay[a[i][1]] += hh*60 + mm\n",
    "        elif a[i][2] == 'IN':\n",
    "            hh = 23 - int(a[i][0][:2])\n",
    "            mm = 59 - int(a[i][0][-2:])\n",
    "            pay[a[i][1]] += hh*60 + mm\n",
    "    if a[-1][2] == 'IN':\n",
    "        hh = 23 - int(a[-1][0][:2])\n",
    "        mm = 59 - int(a[-1][0][-2:])\n",
    "        pay[a[-1][1]] += hh*60 + mm\n",
    "\n",
    "    for i in pay:\n",
    "        pay[i] = fees[1] if pay[i] <= fees[0] else fees[1] + fees[3]*math.ceil((pay[i]-fees[0])/fees[2])\n",
    "\n",
    "    return [pay[i] for i in pay]"
   ]
  },
  {
   "cell_type": "code",
   "execution_count": 62,
   "metadata": {},
   "outputs": [
    {
     "name": "stdout",
     "output_type": "stream",
     "text": [
      "[['16:00', '0202', 'IN'], ['18:00', '0202', 'OUT'], ['16:00', '3961', 'IN'], ['18:00', '3961', 'OUT'], ['23:58', '3961', 'IN']]\n",
      "{'0202': 0, '3961': 0}\n",
      "0 번째 :  0202 IN 120\n",
      "2 번째 :  3961 IN 120\n",
      "{'0202': 120, '3961': 121}\n"
     ]
    },
    {
     "data": {
      "text/plain": [
       "[0, 591]"
      ]
     },
     "execution_count": 62,
     "metadata": {},
     "output_type": "execute_result"
    }
   ],
   "source": [
    "solution([120, 0, 60, 591], [\"16:00 3961 IN\",\"16:00 0202 IN\",\"18:00 3961 OUT\",\"18:00 0202 OUT\",\"23:58 3961 IN\"])"
   ]
  },
  {
   "cell_type": "code",
   "execution_count": null,
   "metadata": {},
   "outputs": [],
   "source": [
    "import math\n",
    "\n",
    "def solution(str1, str2):\n",
    "    a = []\n",
    "    b = []\n",
    "    for i in range(len(str1)-1):\n",
    "        tmp = str1[i] + str1[i+1]\n",
    "        if tmp.isalpha():\n",
    "            a.append(tmp.lower())\n",
    "    for i in range(len(str2)-1):\n",
    "        tmp = str2[i] + str2[i+1]\n",
    "        if tmp.isalpha():\n",
    "            b.append(tmp.lower())\n",
    "    x = a+b # 합집합\n",
    "    y = [] # 교집합\n",
    "    tmp = b\n",
    "    for i in a:\n",
    "        if i in tmp:\n",
    "            y.append(i)\n",
    "            tmp.remove(i)\n",
    "            \n",
    "    for i in y:\n",
    "        if i in x:\n",
    "            x.remove(i)\n",
    "    if len(x) == 0:\n",
    "        return 65536\n",
    "    return math.trunc((len(y)/len(x))*65536)"
   ]
  },
  {
   "cell_type": "code",
   "execution_count": null,
   "metadata": {},
   "outputs": [],
   "source": [
    "import math\n",
    "def solution(n, k):\n",
    "    b = ''\n",
    "    answer = 0\n",
    "    \n",
    "    while n != 0:\n",
    "        b += str(n%k)\n",
    "        n = n//k\n",
    "    b = b[::-1]\n",
    "    a = b.split('0')\n",
    "    \n",
    "    \n",
    "    def judge(c):\n",
    "        for i in range(2,int(int(c)**0.5)+1):\n",
    "            if int(c)%i == 0: return 0\n",
    "        else:\n",
    "            return 1\n",
    "                \n",
    "    for i in a:\n",
    "        if i != '1':\n",
    "            if i != '':\n",
    "                answer += judge(i)\n",
    "    \n",
    "    return answer"
   ]
  },
  {
   "cell_type": "code",
   "execution_count": null,
   "metadata": {},
   "outputs": [],
   "source": [
    "def solution(n, left, right):\n",
    "    tmp = []\n",
    "    a = left\n",
    "    b = right\n",
    "    \n",
    "    for i in range(a,b+1):\n",
    "        if i//n >= i%n:\n",
    "            tmp.append(i//n+1)\n",
    "        else:\n",
    "            tmp.append(i%n+1)\n",
    "    return tmp"
   ]
  }
 ],
 "metadata": {
  "kernelspec": {
   "display_name": "Python 3.10.2 64-bit",
   "language": "python",
   "name": "python3"
  },
  "language_info": {
   "codemirror_mode": {
    "name": "ipython",
    "version": 3
   },
   "file_extension": ".py",
   "mimetype": "text/x-python",
   "name": "python",
   "nbconvert_exporter": "python",
   "pygments_lexer": "ipython3",
   "version": "3.10.2"
  },
  "orig_nbformat": 4,
  "vscode": {
   "interpreter": {
    "hash": "c2397ebbcede9ef22e8cbfc88c22cf40f693f7334f209f1e17c60208fcd5767a"
   }
  }
 },
 "nbformat": 4,
 "nbformat_minor": 2
}
