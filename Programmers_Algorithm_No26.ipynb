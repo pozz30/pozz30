{
 "cells": [
  {
   "cell_type": "code",
   "execution_count": null,
   "metadata": {},
   "outputs": [],
   "source": [
    "def solution(n):\n",
    "    if n > 2:\n",
    "        a = 1\n",
    "        b = 2\n",
    "        for i in range(n-2):\n",
    "            answer = a + b\n",
    "            a = b\n",
    "            b = answer\n",
    "        return answer%1234567\n",
    "    else:\n",
    "        return n"
   ]
  },
  {
   "cell_type": "code",
   "execution_count": null,
   "metadata": {},
   "outputs": [],
   "source": [
    "import math\n",
    "\n",
    "def solution(n,a,b):\n",
    "    answer = 0\n",
    "    while a!=b:\n",
    "        a = a//2 if a % 2 == 0 else a//2 +1\n",
    "        b = b//2 if b % 2 == 0 else b//2 +1\n",
    "        answer += 1\n",
    "    return answer"
   ]
  },
  {
   "cell_type": "code",
   "execution_count": null,
   "metadata": {},
   "outputs": [],
   "source": [
    "def solution(cacheSize, cities):\n",
    "    time = 0\n",
    "    tmp = []\n",
    "    if cacheSize == 0:\n",
    "        return len(cities) * 5\n",
    "    for i in cities:\n",
    "        if i.lower() in tmp:\n",
    "            tmp.remove(i.lower())\n",
    "            tmp.append(i.lower())\n",
    "            time += 1\n",
    "        else:\n",
    "            if len(tmp) == cacheSize: tmp.pop(0)\n",
    "            tmp.append(i.lower())\n",
    "            time += 5\n",
    "    return time"
   ]
  }
 ],
 "metadata": {
  "language_info": {
   "name": "python"
  },
  "orig_nbformat": 4
 },
 "nbformat": 4,
 "nbformat_minor": 2
}
