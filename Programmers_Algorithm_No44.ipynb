{
 "cells": [
  {
   "cell_type": "markdown",
   "metadata": {},
   "source": [
    "참 값이  p1=1,p2=0  입니다.\n",
    "예측값이  q1=0.9,q2=0.1  인 경우와,  q1=1,q2=0  인 경우의 각각에 대해\n",
    "cross entropy의 차이와 mse의 차이를 비교해봅시다."
   ]
  },
  {
   "cell_type": "code",
   "execution_count": null,
   "metadata": {},
   "outputs": [],
   "source": [
    "def cross_entropy(p, q):\n",
    "      p2 = p[p!=0] # p_i가 0일 경우에는 log(0)계산을 피하기 위해 제거하고 계산함.\n",
    "  q2 = q[p!=0]\n",
    "  return (-p2*np.log(q2)).sum()\n",
    "\n",
    "def mse(p, q):\n",
    "  return ((p-q)**2).sum()/len(p)\n",
    "\n",
    "p = np.array([1., 0.])\n",
    "q = np.array([0.9, 0.1])\n",
    "\n",
    "h_a = cross_entropy(p, q)\n",
    "h_b = cross_entropy(p, p)\n",
    "print('cross entropy difference = ', h_a-h_b)\n",
    "l_a = mse(p, q)\n",
    "l_b = mse(p, p)\n",
    "print('mse difference = ', l_a-l_b)"
   ]
  },
  {
   "cell_type": "markdown",
   "metadata": {},
   "source": [
    "cross entropy와 mse의 손실함수 비교"
   ]
  },
  {
   "cell_type": "code",
   "execution_count": null,
   "metadata": {},
   "outputs": [],
   "source": [
    "from matplotlib import pyplot as plt\n",
    "\n",
    "q1 = np.linspace(0.2,1,50)\n",
    "q2 = 1 - q1\n",
    "q = np.vstack((q1.flatten(), q2.flatten())).T\n",
    "h = [cross_entropy(p, q[i]) for i in range(0,50)]\n",
    "l = [mse(p, q[i]) for i in range(0, 50)]\n",
    "\n",
    "fig, ax = plt.subplots(figsize=(8,8))\n",
    "ax.set_aspect('equal')\n",
    "ax.grid(True, which='both')\n",
    "ax.axhline(y=0, color='k')\n",
    "ax.axvline(x=0, color='k')\n",
    "\n",
    "ax.plot(q1, h, label='cross entropy', color='red')\n",
    "ax.plot(q1, l, label='mse')\n",
    "ax.legend()\n",
    "plt.show()"
   ]
  }
 ],
 "metadata": {
  "language_info": {
   "name": "python"
  },
  "orig_nbformat": 4
 },
 "nbformat": 4,
 "nbformat_minor": 2
}
