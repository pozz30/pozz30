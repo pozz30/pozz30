{
  "cells": [
    {
      "cell_type": "markdown",
      "metadata": {
        "id": "G3ibI9ZY-WS5"
      },
      "source": [
        "# 실습 - 다중선형회귀\n"
      ]
    },
    {
      "cell_type": "markdown",
      "metadata": {
        "id": "kEfjEw9xQApi"
      },
      "source": [
        "# **1. 필요한 라이브러리 불러오기**"
      ]
    },
    {
      "cell_type": "code",
      "execution_count": 1,
      "metadata": {
        "id": "wKhzbm3tQJ5Z"
      },
      "outputs": [],
      "source": [
        "# 데이터, 시각화 관련 라이브러리\n",
        "import pandas as pd\n",
        "import numpy as np\n",
        "import matplotlib.pyplot as plt\n",
        "\n",
        "# 선형회귀 관련 scikit-learn 라이브러리\n",
        "from sklearn import datasets, linear_model\n",
        "from sklearn.metrics import mean_squared_error, r2_score\n",
        "\n",
        "# 선형회귀 관련 statsmodels 라이브러리\n",
        "import statsmodels.api as sm"
      ]
    },
    {
      "cell_type": "markdown",
      "metadata": {
        "id": "IeB7K8p5o92X"
      },
      "source": [
        "# **2. 간단한 예제**"
      ]
    },
    {
      "cell_type": "code",
      "execution_count": 2,
      "metadata": {
        "id": "boh23nAeo2Z0"
      },
      "outputs": [],
      "source": [
        "# 데이터 \n",
        "X = np.array([[0, 1], [1, 2], [2, 2.5]])  # 2차원 데이터\n",
        "y = np.array([0, 1.2, 1.6])\n",
        "\n",
        "# 선형회귀 object 생성\n",
        "reg = linear_model.LinearRegression()\n",
        "\n",
        "# training\n",
        "reg.fit(X, y)\n",
        "\n",
        "# training data 예측\n",
        "pred_train = reg.predict(X) \n",
        "\n",
        "# test\n",
        "pred_test = reg.predict([[1.5, 2]])"
      ]
    },
    {
      "cell_type": "code",
      "execution_count": null,
      "metadata": {
        "id": "WoRxlCQHpiHn"
      },
      "outputs": [],
      "source": [
        "# test data 예측값\n",
        "pred_test"
      ]
    },
    {
      "cell_type": "code",
      "execution_count": null,
      "metadata": {
        "id": "_JKzw1DZqL4m"
      },
      "outputs": [],
      "source": [
        "# coefficient\n",
        "reg.coef_"
      ]
    },
    {
      "cell_type": "markdown",
      "metadata": {
        "id": "boA6au-PQi8k"
      },
      "source": [
        "# **3. Advertising 데이터 불러오기**\n",
        "\n"
      ]
    },
    {
      "cell_type": "code",
      "execution_count": null,
      "metadata": {
        "id": "-5tdfic8RECD"
      },
      "outputs": [],
      "source": [
        "# 데이터 loading\n",
        "from google.colab import drive\n",
        "drive.mount('/content/drive')\n",
        "\n",
        "ad = pd.read_csv(\"/content/drive/MyDrive/Colab Notebooks/data/Advertising.csv\", index_col=0)"
      ]
    },
    {
      "cell_type": "code",
      "execution_count": null,
      "metadata": {
        "id": "EjrxZ2O6gSk5"
      },
      "outputs": [],
      "source": [
        "ad"
      ]
    },
    {
      "cell_type": "markdown",
      "metadata": {
        "id": "cMH0KRV_mfyh"
      },
      "source": [
        "# **4. Advertising data 선형회귀(scikit-learn)**"
      ]
    },
    {
      "cell_type": "code",
      "execution_count": 7,
      "metadata": {
        "id": "wFlnaG8ByhTJ"
      },
      "outputs": [],
      "source": [
        "# training/test data 분리\n",
        "train = ad[:-20]\n",
        "test = ad[-20:]\n",
        "\n",
        "# training data의 feature와 response 분리\n",
        "train_X = train[[\"TV\", \"Radio\", \"Newspaper\"]]\n",
        "train_y = train[[\"Sales\"]]\n",
        "\n",
        "# test data의 feature와 response 분리\n",
        "test_X = test[[\"TV\", \"Radio\", \"Newspaper\"]]\n",
        "test_y = test[[\"Sales\"]]"
      ]
    },
    {
      "cell_type": "code",
      "execution_count": 8,
      "metadata": {
        "id": "RVGfLyD6mlUH"
      },
      "outputs": [],
      "source": [
        "# 선형회귀 object 생성\n",
        "regr = linear_model.LinearRegression()\n",
        "\n",
        "# training data를 이용하여 적합\n",
        "regr.fit(train_X[[\"TV\", \"Radio\", \"Newspaper\"]], train_y)\n",
        "\n",
        "# training data를 이용하여 예측\n",
        "train_y_pred = regr.predict(train_X[[\"TV\", \"Radio\", \"Newspaper\"]])\n",
        "\n",
        "# test data를 이용하여 예측\n",
        "test_y_pred = regr.predict(test_X[[\"TV\", \"Radio\", \"Newspaper\"]])"
      ]
    },
    {
      "cell_type": "code",
      "execution_count": null,
      "metadata": {
        "id": "GVZLpGWs0ID2"
      },
      "outputs": [],
      "source": [
        "# coefficients\n",
        "print(\"Coefficients: \\n\", regr.coef_)\n",
        "\n",
        "# training MSE\n",
        "print(\"Training MSE: %.3f\" % mean_squared_error(train_y, train_y_pred))\n",
        "\n",
        "# test MSE\n",
        "print(\"Test MSE: %.3f\" % mean_squared_error(test_y, test_y_pred))\n",
        "\n",
        "# training R^2\n",
        "print(\"R^2: %.3f\" % r2_score(train_y, train_y_pred))"
      ]
    },
    {
      "cell_type": "markdown",
      "metadata": {
        "id": "Eyq6zgmg0IEc"
      },
      "source": [
        "# **5. Advertising data 선형회귀(statsmodels)**"
      ]
    },
    {
      "cell_type": "code",
      "execution_count": 10,
      "metadata": {
        "id": "opyQFIvNqG2-"
      },
      "outputs": [],
      "source": [
        "# statsmodels 사용을 위한 X0 feature 추가\n",
        "# statsmodels의 OLS 함수는 데이터 내에 intercept에 해당하는 feature 필요\n",
        "sm_train_X = train_X\n",
        "sm_train_X[\"X0\"] = 1 \n",
        "\n",
        "sm_test_X = test_X\n",
        "sm_test_X[\"X0\"] = 1 "
      ]
    },
    {
      "cell_type": "code",
      "execution_count": null,
      "metadata": {
        "id": "3MZ2wPNLqXuR"
      },
      "outputs": [],
      "source": [
        "sm_train_X"
      ]
    },
    {
      "cell_type": "code",
      "execution_count": null,
      "metadata": {
        "id": "et_LwMYv2w95"
      },
      "outputs": [],
      "source": [
        "# training\n",
        "results = sm.OLS(train_y, sm_train_X[[\"X0\", \"TV\", \"Radio\", \"Newspaper\"]]).fit()\n",
        "\n",
        "# training 결과 확인\n",
        "results.summary()"
      ]
    },
    {
      "cell_type": "markdown",
      "metadata": {
        "id": "3TLfFPwS4aP2"
      },
      "source": [
        "# **6. PolynomialFeatures() 간단한 예제**"
      ]
    },
    {
      "cell_type": "code",
      "execution_count": 13,
      "metadata": {
        "id": "crec5kNn4vxl"
      },
      "outputs": [],
      "source": [
        "from sklearn.preprocessing import PolynomialFeatures\n",
        "\n",
        "X = np.arange(6).reshape(3, 2)"
      ]
    },
    {
      "cell_type": "code",
      "execution_count": null,
      "metadata": {
        "id": "vCCFCx6641TH"
      },
      "outputs": [],
      "source": [
        "X"
      ]
    },
    {
      "cell_type": "code",
      "execution_count": null,
      "metadata": {
        "id": "1NWNcJQH5SDT"
      },
      "outputs": [],
      "source": [
        "# [1, a, b, a^2, ab, b^2] feature 생성\n",
        "poly = PolynomialFeatures(2)\n",
        "poly.fit_transform(X)"
      ]
    },
    {
      "cell_type": "code",
      "execution_count": null,
      "metadata": {
        "id": "671jItNz41iv"
      },
      "outputs": [],
      "source": [
        "# [1, a, b, a^2, ab, b^2, a^3, a^2b, b^2a, b^3] feature 생성\n",
        "poly = PolynomialFeatures(3)\n",
        "poly.fit_transform(X)"
      ]
    },
    {
      "cell_type": "code",
      "execution_count": null,
      "metadata": {
        "id": "WMJSCS4p43QY"
      },
      "outputs": [],
      "source": [
        "# interaction feature만 생성\n",
        "poly = PolynomialFeatures(interaction_only=True)\n",
        "poly.fit_transform(X)"
      ]
    },
    {
      "cell_type": "markdown",
      "metadata": {
        "id": "MOD5vhiu51RX"
      },
      "source": [
        "# **7. Auto 데이터 불러오기**\n",
        "\n"
      ]
    },
    {
      "cell_type": "code",
      "execution_count": null,
      "metadata": {
        "id": "5CJWaQ3B5wlt"
      },
      "outputs": [],
      "source": [
        "# 데이터 loading\n",
        "from google.colab import drive\n",
        "drive.mount('/content/drive')\n",
        "\n",
        "auto = pd.read_csv(\"/content/drive/MyDrive/Colab Notebooks/data/Auto.csv\")"
      ]
    },
    {
      "cell_type": "code",
      "execution_count": 19,
      "metadata": {
        "id": "xjho-KoI6028"
      },
      "outputs": [],
      "source": [
        "# horsepower의 ? 값을 0 으로 대체\n",
        "auto[\"horsepower\"] = auto[\"horsepower\"].replace(to_replace=\"?\",value=0)\n",
        "\n",
        "# horserpower의 데이터 타입을 object에서 numeric으로 변경\n",
        "auto[\"horsepower\"] = pd.to_numeric(auto[\"horsepower\"])"
      ]
    },
    {
      "cell_type": "code",
      "execution_count": null,
      "metadata": {
        "id": "vFhbekHf8KFs"
      },
      "outputs": [],
      "source": [
        "auto"
      ]
    },
    {
      "cell_type": "markdown",
      "metadata": {
        "id": "wJwcs9iL8LSB"
      },
      "source": [
        "# **8. Auto data 다중선형회귀(scikit-learn)**"
      ]
    },
    {
      "cell_type": "code",
      "execution_count": 21,
      "metadata": {
        "id": "F15BAqjG7RJT"
      },
      "outputs": [],
      "source": [
        "# horsepower의 다양한 feature 생성\n",
        "auto[\"horsepower_2\"] = auto[\"horsepower\"]**2\n",
        "auto[\"horsepower_3\"] = auto[\"horsepower\"]**3\n",
        "auto[\"horsepower_4\"] = auto[\"horsepower\"]**4\n",
        "auto[\"horsepower_5\"] = auto[\"horsepower\"]**5"
      ]
    },
    {
      "cell_type": "code",
      "execution_count": null,
      "metadata": {
        "id": "NmH3tGXeEhWa"
      },
      "outputs": [],
      "source": [
        "auto"
      ]
    },
    {
      "cell_type": "code",
      "execution_count": 23,
      "metadata": {
        "id": "LuEtXoNm8aE4"
      },
      "outputs": [],
      "source": [
        "# training/test data 분리\n",
        "train = auto[:-40]\n",
        "test = auto[-40:]\n",
        "\n",
        "# training data의 feature와 response 분리\n",
        "train_X = train[[\"horsepower\", \"horsepower_2\", \"horsepower_3\", \"horsepower_4\", \"horsepower_5\"]]\n",
        "train_y = train[[\"mpg\"]]\n",
        "\n",
        "# test data의 feature와 response 분리\n",
        "test_X = test[[\"horsepower\", \"horsepower_2\", \"horsepower_3\", \"horsepower_4\", \"horsepower_5\"]]\n",
        "test_y = test[[\"mpg\"]]"
      ]
    },
    {
      "cell_type": "code",
      "execution_count": 24,
      "metadata": {
        "id": "jK0whQks_Fu6"
      },
      "outputs": [],
      "source": [
        "# 선형회귀 object 생성\n",
        "regr = linear_model.LinearRegression()\n",
        "\n",
        "# training data를 이용하여 적합\n",
        "regr.fit(train_X[[\"horsepower\"]], train_y)\n",
        "# regr.fit(train_X[[\"horsepower\", \"horsepower_2\"]], train_y)\n",
        "\n",
        "# training data를 이용하여 예측\n",
        "train_y_pred = regr.predict(train_X[[\"horsepower\"]])\n",
        "# train_y_pred = regr.predict(train_X[[\"horsepower\", \"horsepower_2\"]])\n",
        "\n",
        "# test data를 이용하여 예측\n",
        "test_y_pred = regr.predict(test_X[[\"horsepower\"]])\n",
        "# test_y_pred = regr.predict(test_X[[\"horsepower\", \"horsepower_2\"]])"
      ]
    },
    {
      "cell_type": "code",
      "execution_count": null,
      "metadata": {
        "id": "APYOByMd_SJB"
      },
      "outputs": [],
      "source": [
        "# coefficients\n",
        "print(\"Coefficients: \\n\", regr.coef_)\n",
        "\n",
        "# training MSE\n",
        "print(\"Training MSE: %.3f\" % mean_squared_error(train_y, train_y_pred))\n",
        "\n",
        "# test MSE\n",
        "print(\"Test MSE: %.3f\" % mean_squared_error(test_y, test_y_pred))\n",
        "\n",
        "# training R^2\n",
        "print(\"R^2: %.3f\" % r2_score(train_y, train_y_pred))"
      ]
    }
  ],
  "metadata": {
    "colab": {
      "collapsed_sections": [],
      "provenance": []
    },
    "kernelspec": {
      "display_name": "Python 3.10.2 64-bit",
      "language": "python",
      "name": "python3"
    },
    "language_info": {
      "name": "python",
      "version": "3.10.2"
    },
    "vscode": {
      "interpreter": {
        "hash": "c2397ebbcede9ef22e8cbfc88c22cf40f693f7334f209f1e17c60208fcd5767a"
      }
    }
  },
  "nbformat": 4,
  "nbformat_minor": 0
}
