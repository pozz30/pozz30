{
  "cells": [
    {
      "cell_type": "markdown",
      "metadata": {
        "id": "G3ibI9ZY-WS5"
      },
      "source": [
        "# 실습 - SVM(Support Vector Machine)\n",
        "\n"
      ]
    },
    {
      "cell_type": "markdown",
      "metadata": {
        "id": "kEfjEw9xQApi"
      },
      "source": [
        "# **1. 필요한 라이브러리 불러오기**"
      ]
    },
    {
      "cell_type": "code",
      "execution_count": 1,
      "metadata": {
        "id": "wKhzbm3tQJ5Z"
      },
      "outputs": [],
      "source": [
        "# 데이터, 시각화 관련 라이브러리\n",
        "import pandas as pd\n",
        "import numpy as np\n",
        "import matplotlib.pyplot as plt\n",
        "\n",
        "# SVM, Iris 데이터 불러오기 관련 라이브러리\n",
        "from sklearn import svm, datasets "
      ]
    },
    {
      "cell_type": "markdown",
      "metadata": {
        "id": "8GA20e5WbN9x"
      },
      "source": [
        "# **2. SVM 간단한 분류 예제**"
      ]
    },
    {
      "cell_type": "code",
      "execution_count": 2,
      "metadata": {
        "id": "6Tw2DQdsbKmG"
      },
      "outputs": [
        {
          "data": {
            "text/html": [
              "<style>#sk-container-id-1 {color: black;background-color: white;}#sk-container-id-1 pre{padding: 0;}#sk-container-id-1 div.sk-toggleable {background-color: white;}#sk-container-id-1 label.sk-toggleable__label {cursor: pointer;display: block;width: 100%;margin-bottom: 0;padding: 0.3em;box-sizing: border-box;text-align: center;}#sk-container-id-1 label.sk-toggleable__label-arrow:before {content: \"▸\";float: left;margin-right: 0.25em;color: #696969;}#sk-container-id-1 label.sk-toggleable__label-arrow:hover:before {color: black;}#sk-container-id-1 div.sk-estimator:hover label.sk-toggleable__label-arrow:before {color: black;}#sk-container-id-1 div.sk-toggleable__content {max-height: 0;max-width: 0;overflow: hidden;text-align: left;background-color: #f0f8ff;}#sk-container-id-1 div.sk-toggleable__content pre {margin: 0.2em;color: black;border-radius: 0.25em;background-color: #f0f8ff;}#sk-container-id-1 input.sk-toggleable__control:checked~div.sk-toggleable__content {max-height: 200px;max-width: 100%;overflow: auto;}#sk-container-id-1 input.sk-toggleable__control:checked~label.sk-toggleable__label-arrow:before {content: \"▾\";}#sk-container-id-1 div.sk-estimator input.sk-toggleable__control:checked~label.sk-toggleable__label {background-color: #d4ebff;}#sk-container-id-1 div.sk-label input.sk-toggleable__control:checked~label.sk-toggleable__label {background-color: #d4ebff;}#sk-container-id-1 input.sk-hidden--visually {border: 0;clip: rect(1px 1px 1px 1px);clip: rect(1px, 1px, 1px, 1px);height: 1px;margin: -1px;overflow: hidden;padding: 0;position: absolute;width: 1px;}#sk-container-id-1 div.sk-estimator {font-family: monospace;background-color: #f0f8ff;border: 1px dotted black;border-radius: 0.25em;box-sizing: border-box;margin-bottom: 0.5em;}#sk-container-id-1 div.sk-estimator:hover {background-color: #d4ebff;}#sk-container-id-1 div.sk-parallel-item::after {content: \"\";width: 100%;border-bottom: 1px solid gray;flex-grow: 1;}#sk-container-id-1 div.sk-label:hover label.sk-toggleable__label {background-color: #d4ebff;}#sk-container-id-1 div.sk-serial::before {content: \"\";position: absolute;border-left: 1px solid gray;box-sizing: border-box;top: 0;bottom: 0;left: 50%;z-index: 0;}#sk-container-id-1 div.sk-serial {display: flex;flex-direction: column;align-items: center;background-color: white;padding-right: 0.2em;padding-left: 0.2em;position: relative;}#sk-container-id-1 div.sk-item {position: relative;z-index: 1;}#sk-container-id-1 div.sk-parallel {display: flex;align-items: stretch;justify-content: center;background-color: white;position: relative;}#sk-container-id-1 div.sk-item::before, #sk-container-id-1 div.sk-parallel-item::before {content: \"\";position: absolute;border-left: 1px solid gray;box-sizing: border-box;top: 0;bottom: 0;left: 50%;z-index: -1;}#sk-container-id-1 div.sk-parallel-item {display: flex;flex-direction: column;z-index: 1;position: relative;background-color: white;}#sk-container-id-1 div.sk-parallel-item:first-child::after {align-self: flex-end;width: 50%;}#sk-container-id-1 div.sk-parallel-item:last-child::after {align-self: flex-start;width: 50%;}#sk-container-id-1 div.sk-parallel-item:only-child::after {width: 0;}#sk-container-id-1 div.sk-dashed-wrapped {border: 1px dashed gray;margin: 0 0.4em 0.5em 0.4em;box-sizing: border-box;padding-bottom: 0.4em;background-color: white;}#sk-container-id-1 div.sk-label label {font-family: monospace;font-weight: bold;display: inline-block;line-height: 1.2em;}#sk-container-id-1 div.sk-label-container {text-align: center;}#sk-container-id-1 div.sk-container {/* jupyter's `normalize.less` sets `[hidden] { display: none; }` but bootstrap.min.css set `[hidden] { display: none !important; }` so we also need the `!important` here to be able to override the default hidden behavior on the sphinx rendered scikit-learn.org. See: https://github.com/scikit-learn/scikit-learn/issues/21755 */display: inline-block !important;position: relative;}#sk-container-id-1 div.sk-text-repr-fallback {display: none;}</style><div id=\"sk-container-id-1\" class=\"sk-top-container\"><div class=\"sk-text-repr-fallback\"><pre>SVC()</pre><b>In a Jupyter environment, please rerun this cell to show the HTML representation or trust the notebook. <br />On GitHub, the HTML representation is unable to render, please try loading this page with nbviewer.org.</b></div><div class=\"sk-container\" hidden><div class=\"sk-item\"><div class=\"sk-estimator sk-toggleable\"><input class=\"sk-toggleable__control sk-hidden--visually\" id=\"sk-estimator-id-1\" type=\"checkbox\" checked><label for=\"sk-estimator-id-1\" class=\"sk-toggleable__label sk-toggleable__label-arrow\">SVC</label><div class=\"sk-toggleable__content\"><pre>SVC()</pre></div></div></div></div></div>"
            ],
            "text/plain": [
              "SVC()"
            ]
          },
          "execution_count": 2,
          "metadata": {},
          "output_type": "execute_result"
        }
      ],
      "source": [
        "X = [[0, 0], [1, 1]]\n",
        "y = [0, 1]\n",
        "clf = svm.SVC()\n",
        "clf.fit(X, y)"
      ]
    },
    {
      "cell_type": "code",
      "execution_count": 3,
      "metadata": {
        "id": "lvLyiOb4LS4z"
      },
      "outputs": [
        {
          "data": {
            "image/png": "[encoded data removed]",
            "text/plain": [
              "<Figure size 432x288 with 1 Axes>"
            ]
          },
          "metadata": {
            "needs_background": "light"
          },
          "output_type": "display_data"
        }
      ],
      "source": [
        "# 데이터 시각화\n",
        "plt.scatter([0], [0], c='red')\n",
        "plt.scatter([1], [1], c='blue')\n",
        "# plt.scatter([-1], [-1], c='red', marker='^')\n",
        "# plt.scatter([2], [2], c='blue', marker='^')\n",
        "plt.xlim(-2, 3)\n",
        "plt.ylim(-2, 3)\n",
        "plt.xlabel('X[0]')\n",
        "plt.ylabel('X[1]')\n",
        "plt.grid()\n",
        "plt.show()"
      ]
    },
    {
      "cell_type": "code",
      "execution_count": null,
      "metadata": {
        "id": "76EDtzk_LESg"
      },
      "outputs": [],
      "source": [
        "# test data 예측\n",
        "clf.predict([[-1, -1]])"
      ]
    },
    {
      "cell_type": "code",
      "execution_count": null,
      "metadata": {
        "id": "alWPBwsjXqPu"
      },
      "outputs": [],
      "source": [
        "# # test data 예측\n",
        "clf.predict([[2, 2]])"
      ]
    },
    {
      "cell_type": "code",
      "execution_count": 4,
      "metadata": {
        "id": "MGUWNgncLFZr"
      },
      "outputs": [
        {
          "data": {
            "text/plain": [
              "array([[0., 0.],\n",
              "       [1., 1.]])"
            ]
          },
          "execution_count": 4,
          "metadata": {},
          "output_type": "execute_result"
        }
      ],
      "source": [
        "# support vectors\n",
        "clf.support_vectors_"
      ]
    },
    {
      "cell_type": "code",
      "execution_count": null,
      "metadata": {
        "id": "J8-U0ULZLFu-"
      },
      "outputs": [],
      "source": [
        "# support vectors의 data index\n",
        "clf.support_"
      ]
    },
    {
      "cell_type": "code",
      "execution_count": null,
      "metadata": {
        "id": "LCDgPxaRLE8q"
      },
      "outputs": [],
      "source": [
        "# 클래스별 support vectors의 개수\n",
        "clf.n_support_"
      ]
    },
    {
      "cell_type": "markdown",
      "metadata": {
        "id": "IeB7K8p5o92X"
      },
      "source": [
        "# **3. SVC 분류 예제(Iris data)**"
      ]
    },
    {
      "cell_type": "code",
      "execution_count": 9,
      "metadata": {
        "id": "BHI7X87hHtJE"
      },
      "outputs": [],
      "source": [
        "# Iris 데이터 불러오기\n",
        "iris = datasets.load_iris()\n",
        "\n",
        "# 0, 1번 꽃의 꽃받침(sepal)의 길이(length)와 너비(width)만 저장\n",
        "X_iris = iris.data[:100, :2]  \n",
        "y_iris = iris.target[:100]"
      ]
    },
    {
      "cell_type": "code",
      "execution_count": null,
      "metadata": {
        "id": "fyy-_CvpNg-z"
      },
      "outputs": [],
      "source": [
        "y_iris"
      ]
    },
    {
      "cell_type": "code",
      "execution_count": 11,
      "metadata": {
        "id": "H2Gxu2pIT7pC"
      },
      "outputs": [],
      "source": [
        "# SVM regularization parameter\n",
        "# 여기서 C는 수업시간의 수식의 C와 반비례 관계\n",
        "C = 100.0  \n",
        "\n",
        "# training data 적합\n",
        "clf = svm.SVC(kernel='linear', C=C).fit(X_iris, y_iris)"
      ]
    },
    {
      "cell_type": "code",
      "execution_count": null,
      "metadata": {
        "id": "swjohGo2Tts-"
      },
      "outputs": [],
      "source": [
        "# support vectors\n",
        "clf.support_vectors_"
      ]
    },
    {
      "cell_type": "code",
      "execution_count": null,
      "metadata": {
        "id": "lEV_KdXGT2FI"
      },
      "outputs": [],
      "source": [
        "# support vectors의 data index\n",
        "clf.support_"
      ]
    },
    {
      "cell_type": "code",
      "execution_count": null,
      "metadata": {
        "id": "f-r4e84nUw5-"
      },
      "outputs": [],
      "source": [
        "X_iris[clf.support_[0]]"
      ]
    },
    {
      "cell_type": "code",
      "execution_count": null,
      "metadata": {
        "id": "sye-500JT4KA"
      },
      "outputs": [],
      "source": [
        "# 클래스별 support vectors의 개수\n",
        "clf.n_support_"
      ]
    },
    {
      "cell_type": "code",
      "execution_count": null,
      "metadata": {
        "id": "aJ3M1NksUB0c"
      },
      "outputs": [],
      "source": [
        "# SVC 시각화\n",
        "\n",
        "# 그림의 크기 설정\n",
        "plt.figure(figsize=(8,6))\n",
        "\n",
        "# 분류의 경계선과 배경 만들기\n",
        "h = .02  # step size in the mesh\n",
        "\n",
        "# create a mesh to plot in\n",
        "x_min, x_max = X_iris[:, 0].min() - 1, X_iris[:, 0].max() + 1\n",
        "y_min, y_max = X_iris[:, 1].min() - 1, X_iris[:, 1].max() + 1\n",
        "xx, yy = np.meshgrid(np.arange(x_min, x_max, h),\n",
        "                     np.arange(y_min, y_max, h))\n",
        "\n",
        "Z = clf.predict(np.c_[xx.ravel(), yy.ravel()])\n",
        "\n",
        "# Put the result into a color plot\n",
        "Z = Z.reshape(xx.shape)\n",
        "plt.contourf(xx, yy, Z, cmap=plt.cm.coolwarm, alpha=0.8)\n",
        "\n",
        "# training data를 배경 위에 표시\n",
        "plt.scatter(X_iris[:, 0], X_iris[:, 1], c=y_iris, cmap=plt.cm.coolwarm)\n",
        "# support vectors를 배경 위에 표시\n",
        "for sv_idx in clf.support_:\n",
        "  plt.scatter(X_iris[sv_idx][0], X_iris[sv_idx][1], c='white', marker='s')\n",
        "plt.xlabel('Sepal length')\n",
        "plt.ylabel('Sepal width')\n",
        "plt.xlim(xx.min(), xx.max())\n",
        "plt.ylim(yy.min(), yy.max())\n",
        "plt.xticks(())\n",
        "plt.yticks(())\n",
        "plt.title('SVC with linear kernel')\n",
        "\n",
        "plt.show()"
      ]
    },
    {
      "cell_type": "markdown",
      "metadata": {
        "id": "Ef07GPLfTjYb"
      },
      "source": [
        "# **4. SVM kernel 비교 예제(Iris data)**"
      ]
    },
    {
      "cell_type": "code",
      "execution_count": 17,
      "metadata": {
        "id": "G61OyGG7KP82"
      },
      "outputs": [],
      "source": [
        "# SVM regularization parameter\n",
        "# 여기서 C는 수업시간의 수식의 C와 반비례 관계\n",
        "C = 1.0 \n",
        "\n",
        "# SVC\n",
        "svc = svm.SVC(kernel='linear', C=C).fit(X_iris, y_iris)\n",
        "\n",
        "# SVM(radial kernel)\n",
        "rbf_svc = svm.SVC(kernel='rbf', gamma=1.5, C=C).fit(X_iris, y_iris)\n",
        "\n",
        "# SVM(polynomial kernel)\n",
        "poly_svc = svm.SVC(kernel='poly', degree=3, C=C).fit(X_iris, y_iris)"
      ]
    },
    {
      "cell_type": "code",
      "execution_count": null,
      "metadata": {
        "id": "AQe0ryuqJok5"
      },
      "outputs": [],
      "source": [
        "# SVC 시각화\n",
        "\n",
        "# 그림의 크기 설정\n",
        "plt.figure(figsize=(12,3))\n",
        "\n",
        "# 분류의 경계선과 배경 만들기\n",
        "h = .02  # step size in the mesh\n",
        "\n",
        "# create a mesh to plot in\n",
        "x_min, x_max = X_iris[:, 0].min() - 1, X_iris[:, 0].max() + 1\n",
        "y_min, y_max = X_iris[:, 1].min() - 1, X_iris[:, 1].max() + 1\n",
        "xx, yy = np.meshgrid(np.arange(x_min, x_max, h),\n",
        "                     np.arange(y_min, y_max, h))\n",
        "\n",
        "# title for the plots\n",
        "titles = ['SVC with linear kernel',\n",
        "          'SVC with RBF kernel',\n",
        "          'SVC with polynomial (degree 3) kernel']\n",
        "\n",
        "for i, clf in enumerate((svc, rbf_svc, poly_svc)):\n",
        "    # Plot the decision boundary. For that, we will assign a color to each\n",
        "    # point in the mesh [x_min, x_max]x[y_min, y_max].\n",
        "    plt.subplot(1, 3, i + 1)\n",
        "    plt.subplots_adjust(wspace=0.4, hspace=0.4)\n",
        "\n",
        "    Z = clf.predict(np.c_[xx.ravel(), yy.ravel()])\n",
        "\n",
        "    # Put the result into a color plot\n",
        "    Z = Z.reshape(xx.shape)\n",
        "    plt.contourf(xx, yy, Z, cmap=plt.cm.coolwarm, alpha=0.8)\n",
        "\n",
        "    # training data를 배경 위에 표시\n",
        "    plt.scatter(X_iris[:, 0], X_iris[:, 1], c=y_iris, cmap=plt.cm.coolwarm)\n",
        "    plt.xlabel('Sepal length')\n",
        "    plt.ylabel('Sepal width')\n",
        "    plt.xlim(xx.min(), xx.max())\n",
        "    plt.ylim(yy.min(), yy.max())\n",
        "    plt.xticks(())\n",
        "    plt.yticks(())\n",
        "    plt.title(titles[i])\n",
        "\n",
        "plt.show()"
      ]
    }
  ],
  "metadata": {
    "colab": {
      "collapsed_sections": [],
      "provenance": []
    },
    "kernelspec": {
      "display_name": "Python 3.10.2 64-bit",
      "language": "python",
      "name": "python3"
    },
    "language_info": {
      "codemirror_mode": {
        "name": "ipython",
        "version": 3
      },
      "file_extension": ".py",
      "mimetype": "text/x-python",
      "name": "python",
      "nbconvert_exporter": "python",
      "pygments_lexer": "ipython3",
      "version": "3.10.2"
    },
    "vscode": {
      "interpreter": {
        "hash": "c2397ebbcede9ef22e8cbfc88c22cf40f693f7334f209f1e17c60208fcd5767a"
      }
    }
  },
  "nbformat": 4,
  "nbformat_minor": 0
}
