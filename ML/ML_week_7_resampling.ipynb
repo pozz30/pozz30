{
  "nbformat": 4,
  "nbformat_minor": 0,
  "metadata": {
    "colab": {
      "provenance": [],
      "collapsed_sections": []
    },
    "kernelspec": {
      "name": "python3",
      "display_name": "Python 3"
    },
    "language_info": {
      "name": "python"
    }
  },
  "cells": [
    {
      "cell_type": "markdown",
      "source": [
        "# 실습 - 재표본추출 방법(resampling methods)\n"
      ],
      "metadata": {
        "id": "G3ibI9ZY-WS5"
      }
    },
    {
      "cell_type": "markdown",
      "source": [
        "# **1. 필요한 라이브러리 불러오기**"
      ],
      "metadata": {
        "id": "kEfjEw9xQApi"
      }
    },
    {
      "cell_type": "code",
      "source": [
        "# 데이터 관련 라이브러리\n",
        "import numpy as np\n",
        "\n",
        "# classification 관련 라이브러리\n",
        "from sklearn.discriminant_analysis import LinearDiscriminantAnalysis\n",
        "\n",
        "# Resampling 관련 라이브러리\n",
        "from sklearn.model_selection import KFold  # K-fold cross validation\n",
        "from sklearn.utils import resample  # bootstrap\n",
        "\n",
        "# 임의로 데이터를 섞기위한 라이브러리(random shuffling)\n",
        "from sklearn.utils import shuffle\n",
        "\n",
        "# 붓꽃(Iris) 데이터 로딩\n",
        "from sklearn.datasets import load_iris"
      ],
      "metadata": {
        "id": "wKhzbm3tQJ5Z"
      },
      "execution_count": null,
      "outputs": []
    },
    {
      "cell_type": "markdown",
      "source": [
        "# **2. 간단한 예제(k-fold cross validation)**"
      ],
      "metadata": {
        "id": "F6JiVIGssMcG"
      }
    },
    {
      "cell_type": "code",
      "source": [
        "X = [\"a\", \"b\", \"c\", \"d\"] \n",
        "kf = KFold(n_splits=2) \n",
        "for train, test in kf.split(X): \n",
        "  print(\"%s %s\" % (train, test)) \n",
        "  print(X[train[0]], X[train[1]], X[test[0]], X[test[1]])"
      ],
      "metadata": {
        "id": "Mx2WEWo_kkzR"
      },
      "execution_count": null,
      "outputs": []
    },
    {
      "cell_type": "markdown",
      "source": [
        "# **3. 붓꽃(Iris) 데이터 예제(k-fold cross validation)**"
      ],
      "metadata": {
        "id": "PcPQ4GixpTom"
      }
    },
    {
      "cell_type": "code",
      "source": [
        "# 붓꽃 데이터 로딩\n",
        "X_iris, y_iris = load_iris(return_X_y=True)"
      ],
      "metadata": {
        "id": "2k5OTyYIkpC_"
      },
      "execution_count": null,
      "outputs": []
    },
    {
      "cell_type": "code",
      "source": [
        "# X_iris\n",
        "y_iris"
      ],
      "metadata": {
        "id": "P86O8rdvrx7e"
      },
      "execution_count": null,
      "outputs": []
    },
    {
      "cell_type": "code",
      "source": [
        "# 데이터 임의로 섞기(random shuffling)\n",
        "X_iris, y_iris = shuffle(X_iris, y_iris)"
      ],
      "metadata": {
        "id": "J2Cv5AuVplAF"
      },
      "execution_count": null,
      "outputs": []
    },
    {
      "cell_type": "code",
      "source": [
        "# X_iris\n",
        "y_iris"
      ],
      "metadata": {
        "id": "4awcjTKor9jx"
      },
      "execution_count": null,
      "outputs": []
    },
    {
      "cell_type": "code",
      "source": [
        "# 5-fold cross-validation\n",
        "kf = KFold(n_splits=5) \n",
        "idx = 1\n",
        "for train, val in kf.split(X_iris): \n",
        "  print(\"Fold: #\", idx)\n",
        "\n",
        "  # # k-fold 결과 확인\n",
        "  # print(\"%s %s\" % (train, val)) \n",
        "  # print(y_iris[train])\n",
        "  # print(y_iris[val])\n",
        "\n",
        "  # LDA \n",
        "  # training\n",
        "  clf = LinearDiscriminantAnalysis().fit(X_iris[train], y_iris[train])\n",
        "\n",
        "  # 클래스 예측\n",
        "  print(\"true label: \", y_iris[val])\n",
        "  print(\"pred label: \", clf.predict(X_iris[val]))\n",
        "\n",
        "  # accuracy\n",
        "  print(\"accuracy: \", clf.score(X_iris[val], y_iris[val]))\n",
        "  \n",
        "  print(\"------------------------------\")\n",
        "  idx+=1"
      ],
      "metadata": {
        "id": "3Jslg4CtpMUW"
      },
      "execution_count": null,
      "outputs": []
    },
    {
      "cell_type": "markdown",
      "source": [
        "# **4. 간단한 예제(bootstrap)**"
      ],
      "metadata": {
        "id": "0kgaqVKJuLb5"
      }
    },
    {
      "cell_type": "code",
      "source": [
        "X = np.array([[1., 0.], [2., 1.], [0., 0.]])\n",
        "y = np.array([0, 1, 2])\n",
        "X, y = resample(X, y)\n",
        "(X, y)"
      ],
      "metadata": {
        "id": "Z-Yx04nMpcrq"
      },
      "execution_count": null,
      "outputs": []
    },
    {
      "cell_type": "markdown",
      "source": [
        "# **5. 붓꽃(Iris) 데이터 예제(bootstrap)**"
      ],
      "metadata": {
        "id": "8lDzBvGYu3pc"
      }
    },
    {
      "cell_type": "code",
      "source": [
        "# 붓꽃 데이터 로딩\n",
        "X_iris, y_iris = load_iris(return_X_y=True)\n",
        "X, y = resample(X_iris, y_iris)\n",
        "y"
      ],
      "metadata": {
        "id": "BiTDiM-EvFTO"
      },
      "execution_count": null,
      "outputs": []
    },
    {
      "cell_type": "code",
      "source": [
        "# unique한 값 및 개수 출력\n",
        "unique, counts = np.unique(y, return_counts=True)"
      ],
      "metadata": {
        "id": "PaBrgyLeu3Cy"
      },
      "execution_count": null,
      "outputs": []
    },
    {
      "cell_type": "code",
      "source": [
        "unique"
      ],
      "metadata": {
        "id": "H7V_sM5Q74H7"
      },
      "execution_count": null,
      "outputs": []
    },
    {
      "cell_type": "code",
      "source": [
        "counts"
      ],
      "metadata": {
        "id": "9w9Vk7XfvdKZ"
      },
      "execution_count": null,
      "outputs": []
    }
  ]
}