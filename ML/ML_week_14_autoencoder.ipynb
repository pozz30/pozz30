{
  "nbformat": 4,
  "nbformat_minor": 0,
  "metadata": {
    "colab": {
      "provenance": []
    },
    "kernelspec": {
      "name": "python3",
      "display_name": "Python 3"
    },
    "language_info": {
      "name": "python"
    },
    "gpuClass": "standard",
    "accelerator": "GPU"
  },
  "cells": [
    {
      "cell_type": "markdown",
      "source": [
        "# 실습 - Autoencoder\n"
      ],
      "metadata": {
        "id": "G3ibI9ZY-WS5"
      }
    },
    {
      "cell_type": "markdown",
      "source": [
        "# **1. 필요한 라이브러리 불러오기**"
      ],
      "metadata": {
        "id": "kEfjEw9xQApi"
      }
    },
    {
      "cell_type": "code",
      "source": [
        "# 데이터, 시각화 관련 라이브러리\n",
        "import numpy as np\n",
        "import matplotlib.pyplot as plt\n",
        "\n",
        "# Keras 라이브러리 \n",
        "import keras\n",
        "from keras import layers\n",
        "\n",
        "# MNIST 데이터 관련 라이브러리\n",
        "from keras.datasets import mnist"
      ],
      "metadata": {
        "id": "wKhzbm3tQJ5Z"
      },
      "execution_count": null,
      "outputs": []
    },
    {
      "cell_type": "markdown",
      "source": [
        "# **2. MNIST 데이터 불러오기**"
      ],
      "metadata": {
        "id": "5dRicpjEODYC"
      }
    },
    {
      "cell_type": "code",
      "source": [
        "(x_train, _), (x_test, _) = mnist.load_data()\n",
        "\n",
        "x_train = x_train.astype('float32') / 255.\n",
        "x_test = x_test.astype('float32') / 255.\n",
        "x_train = x_train.reshape((len(x_train), np.prod(x_train.shape[1:])))\n",
        "x_test = x_test.reshape((len(x_test), np.prod(x_test.shape[1:])))\n",
        "print(x_train.shape)\n",
        "print(x_test.shape)"
      ],
      "metadata": {
        "id": "lDDlrsY8OLuf"
      },
      "execution_count": null,
      "outputs": []
    },
    {
      "cell_type": "markdown",
      "source": [
        "# **3. autoencoder 모델 생성**"
      ],
      "metadata": {
        "id": "8GA20e5WbN9x"
      }
    },
    {
      "cell_type": "code",
      "source": [
        "# encoding 되는 차원의 수\n",
        "encoding_dim = 32  \n",
        "\n",
        "# input layer\n",
        "input_img = keras.Input(shape=(784,))\n",
        "\n",
        "# hidden layer\n",
        "encoded = layers.Dense(encoding_dim, activation='relu')(input_img)\n",
        "\n",
        "# output layer\n",
        "decoded = layers.Dense(784, activation='sigmoid')(encoded)\n",
        "\n",
        "# autoencoder 모델 \n",
        "autoencoder = keras.Model(input_img, decoded)"
      ],
      "metadata": {
        "id": "UxcHUDNUMYPI"
      },
      "execution_count": null,
      "outputs": []
    },
    {
      "cell_type": "markdown",
      "source": [
        "# **4. autoencoder 학습**"
      ],
      "metadata": {
        "id": "lpDFXrVZOiXG"
      }
    },
    {
      "cell_type": "code",
      "source": [
        "# optimizer와 loss function 지정\n",
        "autoencoder.compile(optimizer='adam', loss='binary_crossentropy')\n",
        "\n",
        "# 적합(training, fitting)\n",
        "autoencoder.fit(x_train, x_train,\n",
        "                epochs=20,\n",
        "                batch_size=256,\n",
        "                shuffle=True,\n",
        "                validation_data=(x_test, x_test))"
      ],
      "metadata": {
        "id": "InP4P3OQ4Rty"
      },
      "execution_count": null,
      "outputs": []
    },
    {
      "cell_type": "markdown",
      "source": [
        "# **5. autoencoder 학습결과 확인**"
      ],
      "metadata": {
        "id": "IviJvMnaPDnr"
      }
    },
    {
      "cell_type": "code",
      "source": [
        "decoded_imgs = autoencoder.predict(x_test)"
      ],
      "metadata": {
        "id": "EbeqADij4rdo"
      },
      "execution_count": null,
      "outputs": []
    },
    {
      "cell_type": "code",
      "source": [
        "n = 10  # How many digits we will display\n",
        "plt.figure(figsize=(20, 4))\n",
        "for i in range(n):\n",
        "    # Display original\n",
        "    ax = plt.subplot(2, n, i + 1)\n",
        "    plt.imshow(x_test[i].reshape(28, 28))\n",
        "    plt.gray()\n",
        "    ax.get_xaxis().set_visible(False)\n",
        "    ax.get_yaxis().set_visible(False)\n",
        "\n",
        "    # Display reconstruction\n",
        "    ax = plt.subplot(2, n, i + 1 + n)\n",
        "    plt.imshow(decoded_imgs[i].reshape(28, 28))\n",
        "    plt.gray()\n",
        "    ax.get_xaxis().set_visible(False)\n",
        "    ax.get_yaxis().set_visible(False)\n",
        "plt.show()"
      ],
      "metadata": {
        "id": "oWXOySYs5q3k"
      },
      "execution_count": null,
      "outputs": []
    }
  ]
}