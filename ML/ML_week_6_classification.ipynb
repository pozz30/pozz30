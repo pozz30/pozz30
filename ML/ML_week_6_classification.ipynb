{
  "nbformat": 4,
  "nbformat_minor": 0,
  "metadata": {
    "colab": {
      "provenance": [],
      "collapsed_sections": []
    },
    "kernelspec": {
      "name": "python3",
      "display_name": "Python 3"
    },
    "language_info": {
      "name": "python"
    }
  },
  "cells": [
    {
      "cell_type": "markdown",
      "source": [
        "# 실습 - 분류(classification)\n"
      ],
      "metadata": {
        "id": "G3ibI9ZY-WS5"
      }
    },
    {
      "cell_type": "markdown",
      "source": [
        "# **1. 필요한 라이브러리 불러오기**"
      ],
      "metadata": {
        "id": "kEfjEw9xQApi"
      }
    },
    {
      "cell_type": "code",
      "source": [
        "# 데이터, 시각화 관련 라이브러리\n",
        "import pandas as pd\n",
        "import numpy as np\n",
        "import matplotlib.pyplot as plt\n",
        "\n",
        "# classification 관련 라이브러리\n",
        "from sklearn.linear_model import LogisticRegression\n",
        "from sklearn.discriminant_analysis import LinearDiscriminantAnalysis\n",
        "\n",
        "# training set, test set 분리를 위한 라이브러리\n",
        "from sklearn.model_selection import train_test_split \n",
        "\n",
        "# classification 평가를 위한 라이브러리\n",
        "from sklearn.metrics import confusion_matrix\n",
        "from sklearn.metrics import precision_score\n",
        "from sklearn.metrics import recall_score\n",
        "from sklearn.metrics import accuracy_score\n",
        "\n",
        "# 붓꽃(Iris) 데이터 로딩\n",
        "from sklearn.datasets import load_iris"
      ],
      "metadata": {
        "id": "wKhzbm3tQJ5Z"
      },
      "execution_count": 1,
      "outputs": []
    },
    {
      "cell_type": "markdown",
      "source": [
        "# **2. 간단한 예제(로지스틱회귀)**"
      ],
      "metadata": {
        "id": "F6JiVIGssMcG"
      }
    },
    {
      "cell_type": "code",
      "source": [
        "# training data 정의\n",
        "X = np.array([[-1, -1], [-2, -1], [-3, -2], [1, 1], [2, 1], [3, 2]])\n",
        "y = np.array([0, 0, 0, 1, 1, 1])\n",
        "\n",
        "# test data 정의\n",
        "test_X = [[-2, 2]]"
      ],
      "metadata": {
        "id": "_azxudIgrUyB"
      },
      "execution_count": 2,
      "outputs": []
    },
    {
      "cell_type": "code",
      "source": [
        "fig = plt.figure()\n",
        "ax = fig.gca(projection='3d')\n",
        "\n",
        "ax.scatter([-1, -2, -3], [-1, -1, -2], [0, 0, 0], color='blue')\n",
        "ax.scatter([1, 2, 3], [1, 1, 2], [1, 1, 1], color='red')\n",
        "\n",
        "ax.set_xlabel('X1')\n",
        "ax.set_ylabel('X2')\n",
        "ax.set_zlabel('Y')\n",
        "\n",
        "plt.show()"
      ],
      "metadata": {
        "id": "Ro0ci4rTuWH0"
      },
      "execution_count": null,
      "outputs": []
    },
    {
      "cell_type": "code",
      "source": [
        "# training\n",
        "clf_lr = LogisticRegression()\n",
        "clf_lr.fit(X, y)"
      ],
      "metadata": {
        "id": "BsMIKzgctOdP"
      },
      "execution_count": null,
      "outputs": []
    },
    {
      "cell_type": "code",
      "source": [
        "# 클래스 확률 예측\n",
        "clf_lr.predict_proba(test_X)"
      ],
      "metadata": {
        "id": "0sXFt3PIteGo"
      },
      "execution_count": null,
      "outputs": []
    },
    {
      "cell_type": "code",
      "source": [
        "# 클래스 예측\n",
        "clf_lr.predict(test_X)"
      ],
      "metadata": {
        "id": "2GS1EdH-tgJ7"
      },
      "execution_count": null,
      "outputs": []
    },
    {
      "cell_type": "markdown",
      "source": [
        "# **3. 간단한 예제(LDA)**"
      ],
      "metadata": {
        "id": "LHSHfezus63d"
      }
    },
    {
      "cell_type": "code",
      "source": [
        "# training\n",
        "clf_lda = LinearDiscriminantAnalysis()\n",
        "clf_lda.fit(X, y)"
      ],
      "metadata": {
        "id": "Ck5ADKyhsS4_"
      },
      "execution_count": null,
      "outputs": []
    },
    {
      "cell_type": "code",
      "source": [
        "# 클래스 확률 예측\n",
        "clf_lda.predict_proba(test_X)"
      ],
      "metadata": {
        "id": "2pqUc1MZr18w"
      },
      "execution_count": null,
      "outputs": []
    },
    {
      "cell_type": "code",
      "source": [
        "# 클래스 예측\n",
        "clf_lda.predict(test_X)"
      ],
      "metadata": {
        "id": "f1rLBLrLrd1y"
      },
      "execution_count": null,
      "outputs": []
    },
    {
      "cell_type": "markdown",
      "source": [
        "# **4. Heart 데이터 예제**"
      ],
      "metadata": {
        "id": "zNxrHmJswjG-"
      }
    },
    {
      "cell_type": "code",
      "source": [
        "# 데이터 loading\n",
        "from google.colab import drive\n",
        "drive.mount('/content/drive')\n",
        "\n",
        "heart = pd.read_csv(\"/content/drive/MyDrive/Colab Notebooks/data/Heart.csv\")"
      ],
      "metadata": {
        "id": "Z5RNQ0ovzbgr"
      },
      "execution_count": null,
      "outputs": []
    },
    {
      "cell_type": "code",
      "source": [
        "heart"
      ],
      "metadata": {
        "id": "ihMP4UXqzzp-"
      },
      "execution_count": null,
      "outputs": []
    },
    {
      "cell_type": "code",
      "source": [
        "# predictor와 response 정의\n",
        "X = heart[[\"Age\", \"Sex\", \"Chol\"]]\n",
        "y = heart[\"AHD\"]\n",
        " \n",
        "# training set, test set 구분\n",
        "X_train, X_test, y_train, y_test = train_test_split(X, y, test_size=0.1, random_state=0, stratify=y)\n",
        " \n",
        "# training\n",
        "clf_heart = LinearDiscriminantAnalysis()\n",
        "clf_heart.fit(X_train, y_train)\n",
        "y_pred = clf_heart.predict(X_test)"
      ],
      "metadata": {
        "id": "0KC_CKzsxu0w"
      },
      "execution_count": 12,
      "outputs": []
    },
    {
      "cell_type": "code",
      "source": [
        "y_test"
      ],
      "metadata": {
        "id": "xZeXRjyA-Jl1"
      },
      "execution_count": null,
      "outputs": []
    },
    {
      "cell_type": "markdown",
      "source": [
        "![image.png](data:image/png;base64,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)"
      ],
      "metadata": {
        "id": "mVHPGHp-6C5y"
      }
    },
    {
      "cell_type": "code",
      "source": [
        "# confusion matrix 생성 \n",
        "cm = confusion_matrix(y_test, y_pred)\n",
        "cm"
      ],
      "metadata": {
        "id": "r85-GBYMx0kt"
      },
      "execution_count": null,
      "outputs": []
    },
    {
      "cell_type": "code",
      "source": [
        "# classification 결과  평가\n",
        "\n",
        "# Precision: TP/(TP+FP)\n",
        "print(precision_score(y_test, y_pred, average=\"macro\"))\n",
        "\n",
        "# Recall: TP/(TP+FN)\n",
        "print(recall_score(y_test, y_pred, average=\"macro\"))\n",
        "\n",
        "# Accuracy: (TP+TN)/all\n",
        "print(accuracy_score(y_test, y_pred))"
      ],
      "metadata": {
        "id": "iU7kIF-9yCqN"
      },
      "execution_count": null,
      "outputs": []
    },
    {
      "cell_type": "markdown",
      "source": [
        "# **5. 붓꽃(Iris) 데이터 예제**"
      ],
      "metadata": {
        "id": "IeB7K8p5o92X"
      }
    },
    {
      "cell_type": "code",
      "source": [
        "X_iris, y_iris = load_iris(return_X_y=True)"
      ],
      "metadata": {
        "id": "boh23nAeo2Z0"
      },
      "execution_count": 16,
      "outputs": []
    },
    {
      "cell_type": "code",
      "source": [
        "y_iris"
      ],
      "metadata": {
        "id": "8B0Xk5fSwOce"
      },
      "execution_count": null,
      "outputs": []
    },
    {
      "cell_type": "code",
      "source": [
        "# training\n",
        "clf = LogisticRegression(random_state=0).fit(X_iris, y_iris)\n",
        "\n",
        "# 클래스 예측\n",
        "clf.predict(X_iris)"
      ],
      "metadata": {
        "id": "ufPYa6RlwMA8"
      },
      "execution_count": null,
      "outputs": []
    },
    {
      "cell_type": "code",
      "source": [
        "# 클래스 확률 예측\n",
        "clf.predict_proba(X_iris)"
      ],
      "metadata": {
        "id": "WoRxlCQHpiHn"
      },
      "execution_count": null,
      "outputs": []
    },
    {
      "cell_type": "code",
      "source": [
        "# accuracy\n",
        "clf.score(X_iris, y_iris)"
      ],
      "metadata": {
        "id": "_JKzw1DZqL4m"
      },
      "execution_count": null,
      "outputs": []
    }
  ]
}