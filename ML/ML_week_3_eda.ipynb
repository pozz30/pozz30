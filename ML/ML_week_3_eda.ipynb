{
  "nbformat": 4,
  "nbformat_minor": 0,
  "metadata": {
    "colab": {
      "provenance": [],
      "collapsed_sections": []
    },
    "kernelspec": {
      "name": "python3",
      "display_name": "Python 3"
    },
    "language_info": {
      "name": "python"
    }
  },
  "cells": [
    {
      "cell_type": "markdown",
      "source": [
        "# 실습1 - Credit 데이터\n"
      ],
      "metadata": {
        "id": "G3ibI9ZY-WS5"
      }
    },
    {
      "cell_type": "markdown",
      "source": [
        "# **1-1. 필요한 라이브러리 불러오기**"
      ],
      "metadata": {
        "id": "kEfjEw9xQApi"
      }
    },
    {
      "cell_type": "code",
      "source": [
        "# 라이브러리 loading\n",
        "import pandas as pd\n",
        "import numpy as np\n",
        "import matplotlib.pyplot as plt\n",
        "import seaborn as sns"
      ],
      "metadata": {
        "id": "wKhzbm3tQJ5Z"
      },
      "execution_count": 75,
      "outputs": []
    },
    {
      "cell_type": "markdown",
      "source": [
        "# **1-2. Credit 데이터 불러오기**\n",
        "\n"
      ],
      "metadata": {
        "id": "boA6au-PQi8k"
      }
    },
    {
      "cell_type": "code",
      "source": [
        "# 데이터 loading\n",
        "from google.colab import drive\n",
        "drive.mount('/content/drive')\n",
        "\n",
        "credit = pd.read_csv(\"/content/drive/MyDrive/Colab Notebooks/data/Credit.csv\")"
      ],
      "metadata": {
        "id": "-5tdfic8RECD"
      },
      "execution_count": null,
      "outputs": []
    },
    {
      "cell_type": "code",
      "source": [
        "credit"
      ],
      "metadata": {
        "id": "EjrxZ2O6gSk5"
      },
      "execution_count": null,
      "outputs": []
    },
    {
      "cell_type": "markdown",
      "source": [
        "# **1-3. 데이터 type 확인하기**"
      ],
      "metadata": {
        "id": "cMH0KRV_mfyh"
      }
    },
    {
      "cell_type": "code",
      "source": [
        "credit.dtypes"
      ],
      "metadata": {
        "id": "RVGfLyD6mlUH"
      },
      "execution_count": null,
      "outputs": []
    },
    {
      "cell_type": "markdown",
      "source": [
        "# **1-4. 데이터 통계 확인하기**"
      ],
      "metadata": {
        "id": "pZfcRL1WRKaL"
      }
    },
    {
      "cell_type": "code",
      "source": [
        "# 데이터 통계치 확인\n",
        "credit.describe()\n",
        "# credit.describe(include='all')"
      ],
      "metadata": {
        "id": "rd41cuJURJ-E"
      },
      "execution_count": null,
      "outputs": []
    },
    {
      "cell_type": "code",
      "source": [
        "# scatter plot, histogram 확인하기\n",
        "g = sns.PairGrid(credit)\n",
        "g.map_diag(sns.histplot)\n",
        "g.map_offdiag(sns.scatterplot)"
      ],
      "metadata": {
        "id": "3NBpPLTfWOH4"
      },
      "execution_count": null,
      "outputs": []
    },
    {
      "cell_type": "markdown",
      "source": [
        "# **1-5. Dummy 변수 생성**"
      ],
      "metadata": {
        "id": "3zRLPVF8m6Ek"
      }
    },
    {
      "cell_type": "code",
      "source": [
        "# \"Student\" 컬럼을 문자(\"Yes\", \"No\")에서 숫자(0, 1)로 변경(\"Student_dummy\")\n",
        "credit[\"Student_dummy\"]=credit[\"Student\"].replace(to_replace=\"Yes\",value=0)\n",
        "credit[\"Student_dummy\"]=credit[\"Student_dummy\"].replace(to_replace=\"No\",value=1)"
      ],
      "metadata": {
        "id": "qWwiu73QlMjK"
      },
      "execution_count": 109,
      "outputs": []
    },
    {
      "cell_type": "code",
      "source": [
        "credit"
      ],
      "metadata": {
        "id": "F2XAArqvXutB"
      },
      "execution_count": null,
      "outputs": []
    },
    {
      "cell_type": "markdown",
      "source": [
        "# **1-6. Balance와 Income, Student의 관계성 알아보기**"
      ],
      "metadata": {
        "id": "PDQrb-DjTlII"
      }
    },
    {
      "cell_type": "code",
      "source": [
        "# Balance와 Income의 관계\n",
        "fig, ax = plt.subplots()\n",
        "\n",
        "income_student = credit[credit['Student'] == \"Yes\"]\n",
        "income_non_student = credit[credit['Student'] == \"No\"]\n",
        "\n",
        "ax.scatter(income_student[\"Income\"], income_student[\"Balance\"], s=10, marker=\"^\", c=\"orange\")\n",
        "ax.scatter(income_non_student[\"Income\"], income_non_student[\"Balance\"], s=10, marker=\"s\", c=\"blue\")\n",
        "\n",
        "ax.set(xlabel=(\"Income\"),\n",
        "       ylabel=(\"Balance\"))\n",
        "\n",
        "plt.grid()\n",
        "\n",
        "plt.show()"
      ],
      "metadata": {
        "id": "PHvdlXNhuJE6"
      },
      "execution_count": null,
      "outputs": []
    },
    {
      "cell_type": "code",
      "source": [
        "sns.boxplot(x=credit[\"Student\"], y=credit[\"Balance\"], data=credit)"
      ],
      "metadata": {
        "id": "WMYdcrQ5TX65"
      },
      "execution_count": null,
      "outputs": []
    },
    {
      "cell_type": "markdown",
      "source": [
        "# 실습2 - Auto 데이터"
      ],
      "metadata": {
        "id": "k3SRLv4r_agI"
      }
    },
    {
      "cell_type": "markdown",
      "source": [
        "# **2-1. Auto 데이터 불러오기**"
      ],
      "metadata": {
        "id": "XUPR88IN_7b9"
      }
    },
    {
      "cell_type": "code",
      "source": [
        "# 데이터 loading\n",
        "auto = pd.read_csv(\"/content/drive/MyDrive/Colab Notebooks/data/Auto.csv\")"
      ],
      "metadata": {
        "id": "Hxca0ZtkCQSo"
      },
      "execution_count": 84,
      "outputs": []
    },
    {
      "cell_type": "code",
      "source": [
        "auto"
      ],
      "metadata": {
        "id": "8y3iEQxOvmuT"
      },
      "execution_count": null,
      "outputs": []
    },
    {
      "cell_type": "markdown",
      "source": [
        "# **2-2. 데이터 type 확인하기**"
      ],
      "metadata": {
        "id": "2XzxHduMITCv"
      }
    },
    {
      "cell_type": "code",
      "source": [
        "auto.dtypes"
      ],
      "metadata": {
        "id": "BUtcSTUvHM6E"
      },
      "execution_count": null,
      "outputs": []
    },
    {
      "cell_type": "markdown",
      "source": [
        "# **2-3. 데이터 통계 확인하기**"
      ],
      "metadata": {
        "id": "T2PYXXk2I8Ga"
      }
    },
    {
      "cell_type": "code",
      "source": [
        "# 데이터 통계치 확인\n",
        "auto.describe(include='all')"
      ],
      "metadata": {
        "id": "emUSSBxaJDnf"
      },
      "execution_count": null,
      "outputs": []
    },
    {
      "cell_type": "code",
      "source": [
        "# scatter plot, histogram 확인하기\n",
        "g = sns.PairGrid(auto)\n",
        "g.map_diag(sns.histplot)\n",
        "g.map_offdiag(sns.scatterplot)"
      ],
      "metadata": {
        "id": "sRbUqbD8wfWD"
      },
      "execution_count": null,
      "outputs": []
    },
    {
      "cell_type": "markdown",
      "source": [
        "# **2-4. 데이터 타입 변경**"
      ],
      "metadata": {
        "id": "sB20xMjZJMbk"
      }
    },
    {
      "cell_type": "code",
      "source": [
        "# horserpower의 데이터 타입을 object에서 numeric으로 변경\n",
        "auto[\"horsepower\"] = pd.to_numeric(auto[\"horsepower\"])"
      ],
      "metadata": {
        "id": "9PnNMGb8JVXz"
      },
      "execution_count": 91,
      "outputs": []
    },
    {
      "cell_type": "code",
      "source": [
        "# horsepower의 ? 값을 0 으로 대체\n",
        "auto[\"horsepower\"]=auto[\"horsepower\"].replace(to_replace=\"?\",value=0)"
      ],
      "metadata": {
        "id": "5fzPTWwRze5n"
      },
      "execution_count": 90,
      "outputs": []
    },
    {
      "cell_type": "code",
      "source": [
        "auto.dtypes"
      ],
      "metadata": {
        "id": "mmbdpIiUyueN"
      },
      "execution_count": null,
      "outputs": []
    },
    {
      "cell_type": "markdown",
      "source": [
        "# **2-5. mpg와 horsepower의 관계성 알아보기**"
      ],
      "metadata": {
        "id": "-uTpDXkV0C8S"
      }
    },
    {
      "cell_type": "code",
      "source": [
        "g = sns.PairGrid(auto, y_vars=[\"mpg\"], x_vars=[\"horsepower\"], height=4)\n",
        "g.map(sns.regplot, color=\".3\")"
      ],
      "metadata": {
        "id": "SCmpXKEE0Jpe"
      },
      "execution_count": null,
      "outputs": []
    },
    {
      "cell_type": "markdown",
      "source": [
        "# 실습3 - Income 데이터\n"
      ],
      "metadata": {
        "id": "AWKlHhmQf5GN"
      }
    },
    {
      "cell_type": "markdown",
      "source": [
        "# **3-1. Income 데이터 불러오기**"
      ],
      "metadata": {
        "id": "nFedRj6lnMVi"
      }
    },
    {
      "cell_type": "code",
      "source": [
        "# 데이터 loading\n",
        "#income = pd.read_csv(\"/content/drive/MyDrive/Colab Notebooks/data/Income.csv\")\n",
        "income = pd.read_csv(\"/content/drive/MyDrive/Colab Notebooks/data/Income.csv\", index_col=0)"
      ],
      "metadata": {
        "id": "l5gaRMM9nM2M"
      },
      "execution_count": 94,
      "outputs": []
    },
    {
      "cell_type": "code",
      "source": [
        "income"
      ],
      "metadata": {
        "id": "omWRpQZmSVxK"
      },
      "execution_count": null,
      "outputs": []
    },
    {
      "cell_type": "markdown",
      "source": [
        "# **3-2. 데이터 type 확인하기**"
      ],
      "metadata": {
        "id": "bTiZcxb8gI9c"
      }
    },
    {
      "cell_type": "code",
      "source": [
        "income.dtypes"
      ],
      "metadata": {
        "id": "iODWAiwLna7h"
      },
      "execution_count": null,
      "outputs": []
    },
    {
      "cell_type": "markdown",
      "source": [
        "# **3-3. 데이터 통계 확인하기**"
      ],
      "metadata": {
        "id": "Bi-k-Bs7pB_v"
      }
    },
    {
      "cell_type": "code",
      "source": [
        "# 데이터 통계치 확인\n",
        "income.describe(include='all')"
      ],
      "metadata": {
        "id": "N6ecc6dwn42F"
      },
      "execution_count": null,
      "outputs": []
    },
    {
      "cell_type": "code",
      "source": [
        "# scatter plot, histogram 확인하기\n",
        "g = sns.PairGrid(income)\n",
        "g.map_diag(sns.histplot)\n",
        "g.map_offdiag(sns.scatterplot)"
      ],
      "metadata": {
        "id": "3mpAsmUdPYv-"
      },
      "execution_count": null,
      "outputs": []
    },
    {
      "cell_type": "markdown",
      "source": [
        "# **3-4. 이상치(outlier) 수정/삭제하기**"
      ],
      "metadata": {
        "id": "IkGzVKYeR9hS"
      }
    },
    {
      "cell_type": "code",
      "source": [
        "# 값 변경\n",
        "income.loc[10, \"Education\"] = 10"
      ],
      "metadata": {
        "id": "6bG6KBctSIiA"
      },
      "execution_count": 99,
      "outputs": []
    },
    {
      "cell_type": "code",
      "source": [
        "# row 삭제\n",
        "income = income.drop([10])"
      ],
      "metadata": {
        "id": "6az7qFfBZjoI"
      },
      "execution_count": null,
      "outputs": []
    },
    {
      "cell_type": "code",
      "source": [
        "income"
      ],
      "metadata": {
        "id": "AOtV8XA-T5RE"
      },
      "execution_count": null,
      "outputs": []
    },
    {
      "cell_type": "markdown",
      "source": [
        "# **3-5. Income과 education, seniority의 관계성 알아보기**"
      ],
      "metadata": {
        "id": "EyKnFMqOtdnE"
      }
    },
    {
      "cell_type": "code",
      "source": [
        "plt.figure(figsize=(6,5))\n",
        "\n",
        "axes = plt.axes(projection='3d')\n",
        "axes.scatter3D(income[\"Education\"], income[\"Seniority\"], income[\"Income\"])\n",
        "\n",
        "axes.set_xlabel('Education')\n",
        "axes.set_ylabel('Seniority')\n",
        "axes.set_zlabel('Income')\n",
        "plt.show()"
      ],
      "metadata": {
        "id": "oyRz5h9OsdmX"
      },
      "execution_count": null,
      "outputs": []
    }
  ]
}