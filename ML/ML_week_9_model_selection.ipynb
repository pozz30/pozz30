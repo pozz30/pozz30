{
  "nbformat": 4,
  "nbformat_minor": 0,
  "metadata": {
    "colab": {
      "provenance": [],
      "collapsed_sections": []
    },
    "kernelspec": {
      "name": "python3",
      "display_name": "Python 3"
    },
    "language_info": {
      "name": "python"
    }
  },
  "cells": [
    {
      "cell_type": "markdown",
      "source": [
        "# 실습 - 모델선택(Model Selection)\n",
        "\n"
      ],
      "metadata": {
        "id": "G3ibI9ZY-WS5"
      }
    },
    {
      "cell_type": "markdown",
      "source": [
        "# **1. 필요한 라이브러리 불러오기**"
      ],
      "metadata": {
        "id": "kEfjEw9xQApi"
      }
    },
    {
      "cell_type": "code",
      "source": [
        "# 데이터 라이브러리\n",
        "import pandas as pd\n",
        "\n",
        "# 선형회귀, ridge regression, lasso 관련 scikit-learn 라이브러리\n",
        "from sklearn import linear_model\n",
        "from sklearn.metrics import mean_squared_error \n",
        "\n",
        "# K-fold cross validation 관련 라이브러리\n",
        "from sklearn.model_selection import KFold"
      ],
      "metadata": {
        "id": "wKhzbm3tQJ5Z"
      },
      "execution_count": 1,
      "outputs": []
    },
    {
      "cell_type": "markdown",
      "source": [
        "# **2. Ridge regression 간단한 예제**"
      ],
      "metadata": {
        "id": "IeB7K8p5o92X"
      }
    },
    {
      "cell_type": "code",
      "source": [
        "# Ridge regression object 생성\n",
        "reg = linear_model.Ridge(alpha=0.1) \n",
        "\n",
        "# training\n",
        "reg.fit([[0, 0], [0, 0], [1, 1]], [0, .1, 1]) \n",
        "\n",
        "# test\n",
        "pred_test = reg.predict([[0, 1]])"
      ],
      "metadata": {
        "id": "boh23nAeo2Z0"
      },
      "execution_count": 2,
      "outputs": []
    },
    {
      "cell_type": "code",
      "source": [
        "# test data 예측값\n",
        "pred_test"
      ],
      "metadata": {
        "id": "WoRxlCQHpiHn"
      },
      "execution_count": null,
      "outputs": []
    },
    {
      "cell_type": "code",
      "source": [
        "# coefficient\n",
        "reg.coef_"
      ],
      "metadata": {
        "id": "_JKzw1DZqL4m"
      },
      "execution_count": null,
      "outputs": []
    },
    {
      "cell_type": "markdown",
      "source": [
        "# **3. Lasso 간단한 예제**"
      ],
      "metadata": {
        "id": "OH_p682hCAlI"
      }
    },
    {
      "cell_type": "code",
      "source": [
        "# Lasso object 생성\n",
        "reg = linear_model.Lasso(alpha=0.1) \n",
        "\n",
        "# training\n",
        "reg.fit([[0, 0], [0, 0], [1, 1]], [0, .1, 1]) \n",
        "\n",
        "# test\n",
        "pred_test = reg.predict([[0, 1]])"
      ],
      "metadata": {
        "id": "hgzgIkCTB-HB"
      },
      "execution_count": 5,
      "outputs": []
    },
    {
      "cell_type": "code",
      "source": [
        "# test data 예측값\n",
        "pred_test"
      ],
      "metadata": {
        "id": "-58wY-4CCP8G"
      },
      "execution_count": null,
      "outputs": []
    },
    {
      "cell_type": "code",
      "source": [
        "# coefficient\n",
        "reg.coef_"
      ],
      "metadata": {
        "id": "j08FnAxTCR0b"
      },
      "execution_count": null,
      "outputs": []
    },
    {
      "cell_type": "markdown",
      "source": [
        "# **4. Advertising 데이터 불러오기**\n",
        "\n"
      ],
      "metadata": {
        "id": "boA6au-PQi8k"
      }
    },
    {
      "cell_type": "code",
      "source": [
        "# 데이터 loading\n",
        "from google.colab import drive\n",
        "drive.mount('/content/drive')\n",
        "\n",
        "ad = pd.read_csv(\"/content/drive/MyDrive/Colab Notebooks/data/Advertising.csv\", index_col=0)"
      ],
      "metadata": {
        "id": "-5tdfic8RECD"
      },
      "execution_count": null,
      "outputs": []
    },
    {
      "cell_type": "code",
      "source": [
        "ad"
      ],
      "metadata": {
        "id": "EjrxZ2O6gSk5"
      },
      "execution_count": null,
      "outputs": []
    },
    {
      "cell_type": "markdown",
      "source": [
        "# **5. Advertising data Lasso 예제(최적의 lambda 선정)**"
      ],
      "metadata": {
        "id": "cMH0KRV_mfyh"
      }
    },
    {
      "cell_type": "code",
      "source": [
        "# k-fold CV의 fold 수 지정\n",
        "n_fold = 5\n",
        "\n",
        "for t_param in (0.001, 1, 1000):\n",
        "  print(\"Lambda: \", t_param)\n",
        "  kf = KFold(n_splits=n_fold) \n",
        "  idx = 1\n",
        "\n",
        "  sum_val_mse = 0\n",
        "  for train, val in kf.split(ad):\n",
        "    print(\"Fold: #\", idx)\n",
        "\n",
        "    # training set의 feature와 response 분리\n",
        "    train_X = ad.iloc[train][[\"TV\", \"Radio\", \"Newspaper\"]]\n",
        "    train_y = ad.iloc[train][[\"Sales\"]]\n",
        "\n",
        "    # validation set의 feature와 response 분리\n",
        "    val_X = ad.iloc[val][[\"TV\", \"Radio\", \"Newspaper\"]]\n",
        "    val_y = ad.iloc[val][[\"Sales\"]]\n",
        "\n",
        "    # Lasso object 생성\n",
        "    regr = linear_model.Lasso(alpha=t_param)\n",
        "\n",
        "    # training set을 이용하여 적합\n",
        "    regr.fit(train_X[[\"TV\", \"Radio\", \"Newspaper\"]], train_y)\n",
        "\n",
        "    # coefficients 출력\n",
        "    print(\"Coefficients: \\n\", regr.coef_)\n",
        "\n",
        "    # validation set을 이용하여 예측\n",
        "    val_y_pred = regr.predict(val_X[[\"TV\", \"Radio\", \"Newspaper\"]])\n",
        "    \n",
        "    # validation MSE\n",
        "    val_mse = mean_squared_error(val_y, val_y_pred)\n",
        "\n",
        "    # validation MSE 합계\n",
        "    sum_val_mse += val_mse\n",
        "\n",
        "    print(\"------------------------------\")\n",
        "    idx+=1\n",
        "  print(\"Average Validation MSE: %.3f\" % (sum_val_mse / n_fold))\n",
        "  print(\"******************************\")"
      ],
      "metadata": {
        "id": "wFlnaG8ByhTJ"
      },
      "execution_count": null,
      "outputs": []
    }
  ]
}