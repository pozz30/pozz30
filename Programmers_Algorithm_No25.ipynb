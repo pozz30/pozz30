{
 "cells": [
  {
   "cell_type": "code",
   "execution_count": null,
   "metadata": {},
   "outputs": [],
   "source": [
    "def solution(n):\n",
    "    cnt = 0\n",
    "    for i in range(1,n+1):\n",
    "        tmp = 0\n",
    "        for j in range(i,n+1):\n",
    "            tmp += j\n",
    "            if tmp == n:\n",
    "                cnt += 1\n",
    "                break\n",
    "            elif tmp > n:\n",
    "                break\n",
    "            \n",
    "    return cnt"
   ]
  },
  {
   "cell_type": "code",
   "execution_count": null,
   "metadata": {},
   "outputs": [],
   "source": [
    "def solution(n):\n",
    "    a = 0\n",
    "    b = c = 1\n",
    "    for i in range(n-1):\n",
    "        c = a + b\n",
    "        a = b\n",
    "        b = c\n",
    "        \n",
    "    return c % 1234567"
   ]
  },
  {
   "cell_type": "code",
   "execution_count": null,
   "metadata": {},
   "outputs": [],
   "source": [
    "def solution(brown, yellow):\n",
    "    a = brown + yellow\n",
    "    for i in range(1,a+1):\n",
    "        if a%i == 0:\n",
    "            if (i-2) * (a//i-2) == yellow:\n",
    "                return [i, a//i] if i > a//i else [a//i, i]"
   ]
  },
  {
   "cell_type": "code",
   "execution_count": null,
   "metadata": {},
   "outputs": [],
   "source": [
    "def solution(n, words):\n",
    "    tmp = []\n",
    "    if len(words) != len(set(words)):\n",
    "        for i in words:\n",
    "            if i not in tmp:\n",
    "                tmp.append(i)\n",
    "            else:\n",
    "                return [len(tmp)%n+1, len(tmp)//n+1]\n",
    "    \n",
    "    for i in range(len(words)):\n",
    "        if i != 0:\n",
    "            if words[i][0] != words[i-1][-1]:\n",
    "                return [i%n+1, i//n+1]\n",
    "    else:\n",
    "        return [0, 0]"
   ]
  },
  {
   "cell_type": "code",
   "execution_count": null,
   "metadata": {},
   "outputs": [],
   "source": [
    "def solution(s):\n",
    "    if len(s) %2 == 1:\n",
    "        return 0\n",
    "    tmp = []\n",
    "    for i in s:\n",
    "        if tmp[-1:] == [i]:\n",
    "            tmp.pop()\n",
    "        else:\n",
    "            tmp.append(i)\n",
    "    return 1 if len(tmp) == 0 else 0\n",
    "                "
   ]
  },
  {
   "cell_type": "code",
   "execution_count": null,
   "metadata": {},
   "outputs": [],
   "source": [
    "from collections import deque\n",
    "\n",
    "def solution(people, limit):\n",
    "    people = deque(sorted(people, reverse=True))\n",
    "    answer = 0\n",
    "    \n",
    "    while True:\n",
    "        cnt = people[0]\n",
    "        people.popleft()\n",
    "        if len(people) > 0:\n",
    "            if cnt + people[-1] <= limit:\n",
    "                people.pop()\n",
    "        answer += 1\n",
    "        if not people:\n",
    "            break\n",
    "\n",
    "    return answer"
   ]
  },
  {
   "cell_type": "code",
   "execution_count": null,
   "metadata": {},
   "outputs": [],
   "source": [
    "import math\n",
    "\n",
    "def solution(arr):\n",
    "    tmp = 1\n",
    "    for i in range(len(arr)):\n",
    "        tmp = arr[i] * tmp // math.gcd(arr[i],tmp)\n",
    "        \n",
    "    return tmp"
   ]
  }
 ],
 "metadata": {
  "language_info": {
   "name": "python"
  },
  "orig_nbformat": 4
 },
 "nbformat": 4,
 "nbformat_minor": 2
}
