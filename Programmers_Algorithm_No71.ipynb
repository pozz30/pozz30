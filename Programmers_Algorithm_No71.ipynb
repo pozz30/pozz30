{
 "cells": [
  {
   "cell_type": "code",
   "execution_count": null,
   "metadata": {},
   "outputs": [],
   "source": [
    "from collections import deque\n",
    "\n",
    "def solution(begin, target, words):\n",
    "    if target not in words:  # 애초에 words리스트에 target값이 없다면 return 0\n",
    "        return 0\n",
    "\n",
    "    q = deque()\n",
    "    q.append([begin, 0])\n",
    "\n",
    "    while q:\n",
    "        x, cnt = q.popleft()\n",
    "\n",
    "        if x == target:\n",
    "            return cnt # target값이 되면 cnt 출력\n",
    "\n",
    "        for i in range(0, len(words)):\n",
    "            diff = 0\n",
    "            word = words[i]\n",
    "            for j in range(len(x)):\n",
    "                if x[j] != word[j]:\n",
    "                    diff += 1\n",
    "            if diff == 1:\n",
    "                q.append([word, cnt + 1])\n",
    "    return 0 # target값이 있으나 변환될 수 없다면"
   ]
  }
 ],
 "metadata": {
  "kernelspec": {
   "display_name": "Python 3.10.2 64-bit",
   "language": "python",
   "name": "python3"
  },
  "language_info": {
   "name": "python",
   "version": "3.10.2"
  },
  "orig_nbformat": 4,
  "vscode": {
   "interpreter": {
    "hash": "c2397ebbcede9ef22e8cbfc88c22cf40f693f7334f209f1e17c60208fcd5767a"
   }
  }
 },
 "nbformat": 4,
 "nbformat_minor": 2
}
