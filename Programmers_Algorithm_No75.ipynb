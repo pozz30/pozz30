{
 "cells": [
  {
   "cell_type": "code",
   "execution_count": null,
   "metadata": {},
   "outputs": [],
   "source": [
    "def solution(m, n, puddles):\n",
    "    dp = [[0] * (m + 1) for _ in range(n + 1)] # dp 테이블 초기화\n",
    "    dp[1][1] = 1\n",
    "    \n",
    "    for i, j in puddles: # 웅덩이가 있는 곳은 -1로 표시\n",
    "        dp[j][i] = -1\n",
    "        \n",
    "    for i in range(1, n + 1):\n",
    "        for j in range(1, m + 1):\n",
    "            if dp[i][j] == -1: # 웅덩이이면\n",
    "                dp[i][j] = 0 # 이후 값에 영향을 주지 않게 하기 위해 0으로 바꾸고\n",
    "                continue # 건너뜀\n",
    "                \n",
    "            # 위에서 오는 경우와 왼쪽에서 오는 경우를 더해줌\n",
    "            dp[i][j] += (dp[i - 1][j] + dp[i][j - 1]) % 1000000007\n",
    "            \n",
    "    return(dp[n][m])"
   ]
  }
 ],
 "metadata": {
  "language_info": {
   "name": "python"
  },
  "orig_nbformat": 4
 },
 "nbformat": 4,
 "nbformat_minor": 2
}
