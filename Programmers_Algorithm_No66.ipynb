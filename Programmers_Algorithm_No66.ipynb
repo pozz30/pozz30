{
 "cells": [
  {
   "cell_type": "code",
   "execution_count": null,
   "metadata": {},
   "outputs": [],
   "source": [
    "'''\n",
    "SELECT A.MEMBER_NAME, B.REVIEW_TEXT, DATE_FORMAT(B.REVIEW_DATE, '%Y-%m-%d') AS REVIEW_DATE\n",
    "FROM MEMBER_PROFILE A\n",
    "INNER JOIN REST_REVIEW B\n",
    "ON A.MEMBER_ID = B.MEMBER_ID\n",
    "WHERE A.MEMBER_ID = (\n",
    "    SELECT MEMBER_ID\n",
    "    FROM REST_REVIEW\n",
    "    GROUP BY MEMBER_ID\n",
    "    ORDER BY COUNT(MEMBER_ID) DESC\n",
    "    LIMIT 1\n",
    ")\n",
    "ORDER BY REVIEW_DATE, REVIEW_TEXT\n",
    "'''"
   ]
  },
  {
   "cell_type": "code",
   "execution_count": null,
   "metadata": {},
   "outputs": [],
   "source": [
    "'''\n",
    "SELECT AP.APNT_NO, PA.PT_NAME, PA.PT_NO, AP.MCDP_CD, DC.DR_NAME, AP.APNT_YMD FROM APPOINTMENT AP LEFT JOIN PATIENT PA ON\n",
    "AP.PT_NO = PA.PT_NO\n",
    "LEFT JOIN DOCTOR DC ON\n",
    "AP.MDDR_ID = DC.DR_ID\n",
    "WHERE AP.APNT_CNCL_YN = 'N' AND DATE_FORMAT(AP.APNT_YMD, '%Y-%m-%d') = '2022-04-13'\n",
    "ORDER BY AP.APNT_YMD ASC;\n",
    "'''"
   ]
  },
  {
   "cell_type": "code",
   "execution_count": null,
   "metadata": {},
   "outputs": [],
   "source": [
    "'''\n",
    "SELECT DATE_FORMAT(B.SALES_DATE, '%Y') AS YEAR, DATE_FORMAT(B.SALES_DATE, '%m') AS MONTH, A.GENDER, COUNT(DISTINCT(A.USER_ID)) AS USERS FROM USER_INFO A\n",
    "JOIN ONLINE_SALE B ON\n",
    "A.USER_ID = B.USER_ID\n",
    "WHERE A.GENDER IS NOT NULL\n",
    "GROUP BY YEAR, MONTH, GENDER\n",
    "ORDER BY YEAR, MONTH, GENDER ASC;\n",
    "'''"
   ]
  }
 ],
 "metadata": {
  "kernelspec": {
   "display_name": "Python 3.10.2 64-bit",
   "language": "python",
   "name": "python3"
  },
  "language_info": {
   "name": "python",
   "version": "3.10.2"
  },
  "orig_nbformat": 4,
  "vscode": {
   "interpreter": {
    "hash": "c2397ebbcede9ef22e8cbfc88c22cf40f693f7334f209f1e17c60208fcd5767a"
   }
  }
 },
 "nbformat": 4,
 "nbformat_minor": 2
}
