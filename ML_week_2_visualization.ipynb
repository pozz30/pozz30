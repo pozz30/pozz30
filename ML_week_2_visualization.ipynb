{
  "nbformat": 4,
  "nbformat_minor": 0,
  "metadata": {
    "colab": {
      "name": "ML_week#2_visualization.ipynb",
      "provenance": [],
      "collapsed_sections": []
    },
    "kernelspec": {
      "name": "python3",
      "display_name": "Python 3"
    },
    "language_info": {
      "name": "python"
    }
  },
  "cells": [
    {
      "cell_type": "markdown",
      "source": [
        "# 실습1 - matplotlib 기본 plot"
      ],
      "metadata": {
        "id": "G3ibI9ZY-WS5"
      }
    },
    {
      "cell_type": "markdown",
      "source": [
        "# **matplotlib 시작하기(loading)**"
      ],
      "metadata": {
        "id": "kEfjEw9xQApi"
      }
    },
    {
      "cell_type": "code",
      "source": [
        "import matplotlib.pyplot as plt"
      ],
      "metadata": {
        "id": "wKhzbm3tQJ5Z"
      },
      "execution_count": null,
      "outputs": []
    },
    {
      "cell_type": "code",
      "source": [
        "# 데이터 라이브러리 loading\n",
        "import pandas as pd\n",
        "import numpy as np"
      ],
      "metadata": {
        "id": "29zRhi9lUyee"
      },
      "execution_count": null,
      "outputs": []
    },
    {
      "cell_type": "markdown",
      "source": [
        "# **1-1. plot() 기본 예제**\n",
        "\n",
        "![image.png](data:image/png;base64,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)"
      ],
      "metadata": {
        "id": "boA6au-PQi8k"
      }
    },
    {
      "cell_type": "code",
      "source": [
        "# 데이터 생성\n",
        "x = np.linspace(0, 10, 100)\n",
        "y = 4 + 2 * np.sin(2 * x)\n",
        "\n",
        "# plot 그리기\n",
        "fig, ax = plt.subplots()\n",
        "\n",
        "ax.plot(x, y, linewidth=2.0)\n",
        "\n",
        "ax.set(xlim=(0, 8), xticks=np.arange(1, 8),\n",
        "       ylim=(0, 8), yticks=np.arange(1, 8))\n",
        "\n",
        "plt.grid()\n",
        "\n",
        "plt.show()"
      ],
      "metadata": {
        "id": "-5tdfic8RECD"
      },
      "execution_count": null,
      "outputs": []
    },
    {
      "cell_type": "markdown",
      "source": [
        "# **1-2. Advertising data에 적용**"
      ],
      "metadata": {
        "id": "pZfcRL1WRKaL"
      }
    },
    {
      "cell_type": "code",
      "source": [
        "# 데이터 로딩\n",
        "from google.colab import drive\n",
        "drive.mount('/content/drive')\n",
        "\n",
        "ad = pd.read_csv(\"/content/drive/MyDrive/Colab Notebooks/data/Advertising.csv\")"
      ],
      "metadata": {
        "id": "rd41cuJURJ-E"
      },
      "execution_count": null,
      "outputs": []
    },
    {
      "cell_type": "code",
      "source": [
        "ad"
      ],
      "metadata": {
        "id": "3NBpPLTfWOH4"
      },
      "execution_count": null,
      "outputs": []
    },
    {
      "cell_type": "code",
      "source": [
        "# 데이터 생성\n",
        "tv = ad[\"TV\"]\n",
        "radio = ad[\"Radio\"]\n",
        "news = ad[\"Newspaper\"]\n",
        "sales = ad[\"Sales\"]\n",
        "\n",
        "# plot\n",
        "fig, ax = plt.subplots()\n",
        "\n",
        "ax.plot(tv, linewidth=1.0)\n",
        "ax.plot(radio, linewidth=1.0)\n",
        "ax.plot(news, linewidth=1.0)\n",
        "ax.plot(sales, linewidth=1.0)\n",
        "\n",
        "plt.grid()\n",
        "\n",
        "plt.show()"
      ],
      "metadata": {
        "id": "SIOB5hQxWqwA"
      },
      "execution_count": null,
      "outputs": []
    },
    {
      "cell_type": "markdown",
      "source": [
        "# **2-1. scatter() 기본 예제**\n",
        "\n",
        "![image.png](data:image/png;base64,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)"
      ],
      "metadata": {
        "id": "PDQrb-DjTlII"
      }
    },
    {
      "cell_type": "code",
      "source": [
        "# 데이터 생성\n",
        "np.random.seed(3)\n",
        "x = 4 + np.random.normal(0, 2, 24)\n",
        "y = 4 + np.random.normal(0, 2, len(x))\n",
        "# size and color:\n",
        "sizes = np.random.uniform(15, 80, len(x))\n",
        "colors = np.random.uniform(15, 80, len(x))\n",
        "\n",
        "# plot\n",
        "fig, ax = plt.subplots()\n",
        "\n",
        "ax.scatter(x, y, s=sizes, c=colors)\n",
        "\n",
        "ax.set(xlim=(0, 8), xticks=np.arange(1, 8),\n",
        "       ylim=(0, 8), yticks=np.arange(1, 8))\n",
        "\n",
        "plt.grid()\n",
        "\n",
        "plt.show()"
      ],
      "metadata": {
        "id": "WMYdcrQ5TX65"
      },
      "execution_count": null,
      "outputs": []
    },
    {
      "cell_type": "markdown",
      "source": [
        "# **2-2. Advertising data에 적용**"
      ],
      "metadata": {
        "id": "3kJT-eKxTuJQ"
      }
    },
    {
      "cell_type": "code",
      "source": [
        "# TV 광고예산과 판매량과의 관계\n",
        "fig, ax = plt.subplots()\n",
        "\n",
        "ax.scatter(tv, sales, s=5, c=\"blue\")\n",
        "\n",
        "ax.set(xlabel=(\"TV\"),\n",
        "       ylabel=(\"Sales\"))\n",
        "\n",
        "plt.grid()\n",
        "\n",
        "plt.show()"
      ],
      "metadata": {
        "id": "N_soKG1EUDus"
      },
      "execution_count": null,
      "outputs": []
    },
    {
      "cell_type": "code",
      "source": [
        "# Radio 광고예산과 판매량과의 관계\n",
        "fig, ax = plt.subplots()\n",
        "\n",
        "ax.scatter(radio, sales, s=5, c=\"blue\")\n",
        "\n",
        "ax.set(xlabel=(\"Radio\"),\n",
        "       ylabel=(\"Sales\"))\n",
        "\n",
        "plt.grid()\n",
        "\n",
        "plt.show()"
      ],
      "metadata": {
        "id": "_ukAEX0eZHHQ"
      },
      "execution_count": null,
      "outputs": []
    },
    {
      "cell_type": "code",
      "source": [
        "# Newspaper 광고예산과 판매량과의 관계\n",
        "fig, ax = plt.subplots()\n",
        "\n",
        "ax.scatter(news, sales, s=5, c=\"blue\")\n",
        "\n",
        "ax.set(xlabel=(\"Newspaper\"),\n",
        "       ylabel=(\"Sales\"))\n",
        "\n",
        "plt.grid()\n",
        "\n",
        "plt.show()"
      ],
      "metadata": {
        "id": "0NBbHHZ1Zge7"
      },
      "execution_count": null,
      "outputs": []
    },
    {
      "cell_type": "markdown",
      "source": [
        "# 실습2 - matplotlib 통계 관련 plot\n"
      ],
      "metadata": {
        "id": "k3SRLv4r_agI"
      }
    },
    {
      "cell_type": "markdown",
      "source": [
        "# **1-1. hist() 기본 예제**\n",
        "\n",
        "![image.png](data:image/png;base64,iVBORw0KGgoAAAANSUhEUgAAAMgAAADICAIAAAAiOjnJAAAFm0lEQVR4nO3dsU8bZxjH8eeQrSCTgwjUxRNIHSuGZmCKIhQZVSzd+QcyZsjfkaHd+g+wZ6miWCmKqirK0KV7RcVJ7oAK4g5cU5d7O1wDqYtCyPv+7Pfs72dypPDk1fFVjOx7cOKcMyC0hpmVZdnr9dI0TZJk0udBvTnniqJot9vmnMuybNLnwVTJsqxhZmmamtn+/n71wMdwONzb29vc3Gw2mzHM4UhjHlUUxdraWpqmDTOrngGXl5cXFxf9z9dqtVZWVvwvWZA5HGnMo6ovT5JkzvNAwLUICxKEBQnCggRhQYKwIEFYkCAsSDQmfYD6OSzO88HQa4Rzn3/xZaDjRIqwbi0fDB89e+055Pnj+0EOEy2eCiFBWJAgLEgQFiQICxKEBQnCggRhQYKwIEFYkCAsSFy9VzgcDodDv/dWzaoJ8cyRHCnQ7vgUXyUzS5xzeZ4vLS3t7u62Wi3fA86A1fWNr7/72XPI88f3f/vlbZDzRKXf7+/s7JycnFz9j7W1tRVkr7Db7XY6Hf+NuSBzFEf6/fTC80iVqbxKeZ5XD67Cajab/ucLOyrOI1lS+s+xKb1Kl1/OD++QICxIEBYkCAsSs3XPu9cehHOr6xsHx4MLfgXiR5itsILsQbx48iDIYaYbT4WQICxIEBYkCAsShAUJwoIEYUGCsCBBWJAgLEgQFiQICxKEBQnCgsSM7RXG9HGy8V4l7zn2flgvX74MtVfY7XajmnM5anV9w39U6cJs6UR7lXz0+/3qwWztFR4cDzynmdlcoM/ii/Yq+cyZ1b3C5DzItCDivUp+E6oH/PAOCcKCBGFBgrAgQViQICxIEBYkCAsShAUJwoIEYUGCsCBBWJAgLEgQFiRm6zf6xSNdaB0cD3zuD1ucb96bj/f/BcKajMHf5fa3P/lMePX04b35O6HOE1y8yaPWCAsShAUJwoIEC6u15RwLqxOeY1EurHo6PTvrvnlrLKxOZI5FvLDq6e7CQqfTYWF1knMsyoVVX0lSXZyovnEsrEKLsCBBWJAgLEgQFiQICxKEBYna3I/16R/n/O6znC05vyin6C2duNUmLD7OuV54KoQEYUGCsCBBWJAgLEgQFiQICxKEBQnCggRhQYKwIFGfvcJpWgkMgr3CIHPiWQlkr/AD6rdXGM9KIHuFH1DDvcJpWgkMgr1CzCDCggRhQYKwIEFYkCAsSBAWJAgLEoQFCcKCBGFBgrAgQViQICxIEBYkCAsShAUJwoIEYUGCsCBBWJBgYbW2WFgNMoeF1REsrIaZw8LqCBZWA81hYXUEC6uYQYQFCcKCBGFBgrAgQViQICxIEBYkCAsShAUJwoIEYUGCsCBBWJAgLEgQFiQICxKEBQnCggRhQYK9wtpirzDIHPYKR7BXGGYOe4Uj2CsMNIe9whHsFWIGERYkCAsShAUJwoIEYUGCsCBBWJAgLEgQFiQICxKNm/8KotSYSw6OB6vrGwfHg09+I3VxvvlZeifswSqEVVd//nXx1Tc/eg559fShKCyeCiFBWJAYx1PhYXGeD255z6tzIz89XJTcmlwn4wgrHwwfPXvtOeTFkwdBDoPx4KkQEoQFCcKCBGFBYiwLq+yaRuu/W681W1idsl3TSBZWgxzj9Ozs+zc/XP6xZgurU7ZrGsnCapBj3F1Y2N7etrourLJrGq13W6+VgAurN79AervXzf/3irnxonnEGnPJr4enZtd/4z7StbdI3ByW/+vmvGgeLd0tElH8uIDpQ1iQICxIEBYkCAsShAUJwoIEYUGCsCBBWJAgLEgQFiQICxKEBQnCggRhQYKwIEFYkGiYmXPOzI6Ojq5dKyvyQXne9/k3TovccwJDoj2GmRX5yR9z/94pXxSFVUU557Is8xwNvC/LssQ5V5Zlr9dL0zRJkkkfCfXmnCuKot1u/wPo0+RiwQ14BgAAAABJRU5ErkJggg==)"
      ],
      "metadata": {
        "id": "XUPR88IN_7b9"
      }
    },
    {
      "cell_type": "code",
      "source": [
        "# 데이터 생성\n",
        "np.random.seed(1)\n",
        "x = 4 + np.random.normal(0, 1.5, 200)\n",
        "\n",
        "# plot:\n",
        "fig, ax = plt.subplots()\n",
        "\n",
        "ax.hist(x, bins=8, linewidth=0.5, edgecolor=\"white\")\n",
        "\n",
        "ax.set(xlim=(0, 8), xticks=np.arange(1, 8),\n",
        "       ylim=(0, 56), yticks=np.linspace(0, 56, 9))\n",
        "\n",
        "plt.grid()\n",
        "\n",
        "plt.show()"
      ],
      "metadata": {
        "id": "Hxca0ZtkCQSo"
      },
      "execution_count": null,
      "outputs": []
    },
    {
      "cell_type": "markdown",
      "source": [
        "# **1-2. Advertising data에 적용**"
      ],
      "metadata": {
        "id": "2XzxHduMITCv"
      }
    },
    {
      "cell_type": "code",
      "source": [
        "# TV 광고예산의 분포\n",
        "fig, ax = plt.subplots()\n",
        "\n",
        "ax.hist(tv, bins=8, linewidth=0.5, edgecolor=\"white\")\n",
        "\n",
        "ax.set(xlabel=(\"TV\"),\n",
        "       ylabel=(\"Number of markets\"))\n",
        "\n",
        "plt.grid()\n",
        "\n",
        "plt.show()"
      ],
      "metadata": {
        "id": "BUtcSTUvHM6E"
      },
      "execution_count": null,
      "outputs": []
    },
    {
      "cell_type": "code",
      "source": [
        "# Newspaper 광고예산의 분포\n",
        "fig, ax = plt.subplots()\n",
        "\n",
        "ax.hist(news, bins=8, linewidth=0.5, edgecolor=\"white\")\n",
        "\n",
        "ax.set(xlabel=(\"Newspaper\"),\n",
        "       ylabel=(\"Number of markets\"))\n",
        "\n",
        "plt.grid()\n",
        "\n",
        "plt.show()"
      ],
      "metadata": {
        "id": "AYMnuogQIheg"
      },
      "execution_count": null,
      "outputs": []
    },
    {
      "cell_type": "markdown",
      "source": [
        "# **2-1. boxplot() 기본 예제**\n",
        "\n",
        "![image.png](data:image/png;base64,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)"
      ],
      "metadata": {
        "id": "T2PYXXk2I8Ga"
      }
    },
    {
      "cell_type": "code",
      "source": [
        "# 데이터 생성\n",
        "np.random.seed(10)\n",
        "D = np.random.normal((3, 5, 4), (1.25, 1.00, 1.25), (100, 3))\n",
        "\n",
        "# plot\n",
        "fig, ax = plt.subplots()\n",
        "ax.boxplot(D)\n",
        "\n",
        "plt.grid()\n",
        "\n",
        "plt.show()"
      ],
      "metadata": {
        "id": "emUSSBxaJDnf"
      },
      "execution_count": null,
      "outputs": []
    },
    {
      "cell_type": "markdown",
      "source": [
        "# **2-2. Advertising data에 적용**"
      ],
      "metadata": {
        "id": "sB20xMjZJMbk"
      }
    },
    {
      "cell_type": "code",
      "source": [
        "# 3가지 광고매체의 비교\n",
        "D = [tv, radio, news]\n",
        "\n",
        "# plot\n",
        "fig, ax = plt.subplots()\n",
        "ax.boxplot(D)\n",
        "\n",
        "ax.set(xlabel=(\"Media\"),\n",
        "       ylabel=(\"Budget\"))\n",
        "\n",
        "plt.xticks([1, 2, 3], ['TV', 'Radio', 'Newspaper'])\n",
        "\n",
        "plt.grid()\n",
        "\n",
        "plt.show()"
      ],
      "metadata": {
        "id": "9PnNMGb8JVXz"
      },
      "execution_count": null,
      "outputs": []
    },
    {
      "cell_type": "markdown",
      "source": [
        "# 실습3 - seaborn\n"
      ],
      "metadata": {
        "id": "AWKlHhmQf5GN"
      }
    },
    {
      "cell_type": "markdown",
      "source": [
        "# **seaborn 시작하기(loading)**"
      ],
      "metadata": {
        "id": "nFedRj6lnMVi"
      }
    },
    {
      "cell_type": "code",
      "source": [
        "import seaborn as sns"
      ],
      "metadata": {
        "id": "l5gaRMM9nM2M"
      },
      "execution_count": null,
      "outputs": []
    },
    {
      "cell_type": "markdown",
      "source": [
        "# **1. relplot() - Advertising data**"
      ],
      "metadata": {
        "id": "bTiZcxb8gI9c"
      }
    },
    {
      "cell_type": "code",
      "source": [
        "sns.relplot(x=tv, y=sales)"
      ],
      "metadata": {
        "id": "iODWAiwLna7h"
      },
      "execution_count": null,
      "outputs": []
    },
    {
      "cell_type": "markdown",
      "source": [
        "# **2. PairGrid() - Advertising data**"
      ],
      "metadata": {
        "id": "Bi-k-Bs7pB_v"
      }
    },
    {
      "cell_type": "code",
      "source": [
        "g = sns.PairGrid(ad)\n",
        "g.map_diag(sns.histplot)\n",
        "g.map_offdiag(sns.scatterplot)"
      ],
      "metadata": {
        "id": "N6ecc6dwn42F"
      },
      "execution_count": null,
      "outputs": []
    },
    {
      "cell_type": "markdown",
      "source": [
        "# **3. regression line - Advertising data**"
      ],
      "metadata": {
        "id": "EyKnFMqOtdnE"
      }
    },
    {
      "cell_type": "code",
      "source": [
        "g = sns.PairGrid(ad, y_vars=[\"Sales\"], x_vars=[\"TV\", \"Radio\", \"Newspaper\"], height=4)\n",
        "g.map(sns.regplot, color=\".3\")"
      ],
      "metadata": {
        "id": "oyRz5h9OsdmX"
      },
      "execution_count": null,
      "outputs": []
    }
  ]
}