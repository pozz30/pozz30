{
 "cells": [
  {
   "cell_type": "code",
   "execution_count": null,
   "metadata": {},
   "outputs": [
    {
     "name": "stdout",
     "output_type": "stream",
     "text": [
      "[[6 7 7]\n",
      " [6 5 2]\n",
      " [2 6 2]\n",
      " [8 6 3]\n",
      " [1 5 5]]\n"
     ]
    }
   ],
   "source": [
    "def solution(distance, rocks, n):\n",
    "    answer = 0\n",
    "    left, right = 0, distance\n",
    "    rocks.append(distance) # 마지막 도착지까지 거리를 계산하기 위해 추가\n",
    "    rocks.sort() # 오름차순 정렬\n",
    "    \n",
    "    # 이분 탐색 수행\n",
    "    while left <= right:\n",
    "        mid = (left + right) // 2 # 특정한 최소거리\n",
    "        current, remove =  0, 0 # 현재 위치, 제거할 바위 수\n",
    "        min_distance = float('inf') # mid에서 최소 거리\n",
    "        \n",
    "        # 거리 구하기\n",
    "        for rock in rocks:\n",
    "            dis = rock - current\n",
    "            if dis < mid: # mid 보다 작으면 바위 제거\n",
    "                remove += 1\n",
    "            else: # mid 보다 작지 않다면 현재 위치 옮기고 mi에서 최소 거리 계산\n",
    "                current = rock\n",
    "                min_distance = min(min_distance, dis)\n",
    "                \n",
    "        if remove > n: # n보다 많다면 mid를 줄임\n",
    "            right = mid - 1\n",
    "        else: # n보다 많지 않다면 최소 거리를 answer에 저장하고 mid를 늘림\n",
    "            answer = min_distance\n",
    "            left = mid + 1\n",
    "        \n",
    "    return answer"
   ]
  }
 ],
 "metadata": {
  "kernelspec": {
   "display_name": "Python 3.10.2 64-bit",
   "language": "python",
   "name": "python3"
  },
  "language_info": {
   "codemirror_mode": {
    "name": "ipython",
    "version": 3
   },
   "file_extension": ".py",
   "mimetype": "text/x-python",
   "name": "python",
   "nbconvert_exporter": "python",
   "pygments_lexer": "ipython3",
   "version": "3.10.2"
  },
  "orig_nbformat": 4,
  "vscode": {
   "interpreter": {
    "hash": "c2397ebbcede9ef22e8cbfc88c22cf40f693f7334f209f1e17c60208fcd5767a"
   }
  }
 },
 "nbformat": 4,
 "nbformat_minor": 2
}
