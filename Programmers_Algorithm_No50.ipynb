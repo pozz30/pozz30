{
 "cells": [
  {
   "cell_type": "code",
   "execution_count": 3,
   "metadata": {},
   "outputs": [],
   "source": [
    "import itertools\n",
    "\n",
    "def solution(number, k):\n",
    "    num = [i for i in number]\n",
    "    a = list(itertools.combinations(num, len(num)-k))\n",
    "    print(a)\n",
    "    return num"
   ]
  },
  {
   "cell_type": "code",
   "execution_count": 6,
   "metadata": {},
   "outputs": [
    {
     "name": "stdout",
     "output_type": "stream",
     "text": [
      "[('4', '1', '3'), ('4', '1', '2'), ('4', '1', '1'), ('4', '3', '2'), ('4', '3', '1'), ('4', '2', '1'), ('1', '3', '2'), ('1', '3', '1'), ('1', '2', '1'), ('3', '2', '1')]\n"
     ]
    },
    {
     "data": {
      "text/plain": [
       "['4', '1', '3', '2', '1']"
      ]
     },
     "execution_count": 6,
     "metadata": {},
     "output_type": "execute_result"
    }
   ],
   "source": [
    "solution(\"41321\",2)"
   ]
  },
  {
   "cell_type": "code",
   "execution_count": null,
   "metadata": {},
   "outputs": [],
   "source": [
    "def solution(number, k):\n",
    "    answer = ''\n",
    "    k = len(number) - k\n",
    "    \n",
    "    if k == 1:\n",
    "        return max(number)\n",
    "    \n",
    "    while k != 0:\n",
    "        a = number[:len(number)-k+1]\n",
    "        if '9' in a:\n",
    "            tmp = '9'\n",
    "            tmp_index = a.index(tmp)\n",
    "        else:\n",
    "            tmp = max(a)\n",
    "            tmp_index = a.index(tmp)\n",
    "        \n",
    "        number = number[tmp_index+1:]\n",
    "        answer += tmp\n",
    "        k -=1\n",
    "        \n",
    "    return answer"
   ]
  },
  {
   "cell_type": "code",
   "execution_count": 11,
   "metadata": {},
   "outputs": [],
   "source": [
    "def solution(number, k):\n",
    "    st = []\n",
    "    for i in range(len(number)):\n",
    "        while st and k > 0 and st[-1] < number[i]:\n",
    "            st.pop()\n",
    "            k -= 1\n",
    "        st.append(number[i])\n",
    "        print(st, k)\n",
    "    return ''.join(st[:len(st) - k])"
   ]
  },
  {
   "cell_type": "code",
   "execution_count": 12,
   "metadata": {},
   "outputs": [
    {
     "name": "stdout",
     "output_type": "stream",
     "text": [
      "['4'] 2\n",
      "['4', '1'] 2\n",
      "['4', '3'] 1\n",
      "['4', '3', '2'] 1\n",
      "['4', '3', '2', '1'] 1\n"
     ]
    },
    {
     "data": {
      "text/plain": [
       "'432'"
      ]
     },
     "execution_count": 12,
     "metadata": {},
     "output_type": "execute_result"
    }
   ],
   "source": [
    "solution(\"41321\",2)"
   ]
  }
 ],
 "metadata": {
  "kernelspec": {
   "display_name": "Python 3.10.2 64-bit",
   "language": "python",
   "name": "python3"
  },
  "language_info": {
   "codemirror_mode": {
    "name": "ipython",
    "version": 3
   },
   "file_extension": ".py",
   "mimetype": "text/x-python",
   "name": "python",
   "nbconvert_exporter": "python",
   "pygments_lexer": "ipython3",
   "version": "3.10.2"
  },
  "orig_nbformat": 4,
  "vscode": {
   "interpreter": {
    "hash": "c2397ebbcede9ef22e8cbfc88c22cf40f693f7334f209f1e17c60208fcd5767a"
   }
  }
 },
 "nbformat": 4,
 "nbformat_minor": 2
}
