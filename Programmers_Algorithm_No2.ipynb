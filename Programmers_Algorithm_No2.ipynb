{
 "cells": [
  {
   "cell_type": "code",
   "execution_count": null,
   "id": "7d64ac5c",
   "metadata": {},
   "outputs": [],
   "source": [
    "def solution(lottos, win_nums):\n",
    "    bonus = cnt  =0\n",
    "    \n",
    "    for i in lottos:\n",
    "        if i in win_nums:\n",
    "            cnt += 1\n",
    "        if i == 0:\n",
    "            bonus += 1\n",
    "    \n",
    "    first = 7 - (cnt + bonus)\n",
    "    last =  7 - cnt\n",
    "    if cnt == 0:\n",
    "        last = 6\n",
    "        if bonus == 0:\n",
    "            first = 6\n",
    "    \n",
    "    answer = [ first, last ]\n",
    "    return answer"
   ]
  }
 ],
 "metadata": {
  "kernelspec": {
   "display_name": "Python 3",
   "language": "python",
   "name": "python3"
  },
  "language_info": {
   "codemirror_mode": {
    "name": "ipython",
    "version": 3
   },
   "file_extension": ".py",
   "mimetype": "text/x-python",
   "name": "python",
   "nbconvert_exporter": "python",
   "pygments_lexer": "ipython3",
   "version": "3.8.8"
  }
 },
 "nbformat": 4,
 "nbformat_minor": 5
}
