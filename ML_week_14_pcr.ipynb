{
  "nbformat": 4,
  "nbformat_minor": 0,
  "metadata": {
    "colab": {
      "provenance": []
    },
    "kernelspec": {
      "name": "python3",
      "display_name": "Python 3"
    },
    "language_info": {
      "name": "python"
    },
    "gpuClass": "standard"
  },
  "cells": [
    {
      "cell_type": "markdown",
      "source": [
        "# 실습 - PCR(Principal Components Regression)\n"
      ],
      "metadata": {
        "id": "G3ibI9ZY-WS5"
      }
    },
    {
      "cell_type": "markdown",
      "source": [
        "# **1. 필요한 라이브러리 불러오기**"
      ],
      "metadata": {
        "id": "kEfjEw9xQApi"
      }
    },
    {
      "cell_type": "code",
      "source": [
        "# 데이터, 시각화 관련 라이브러리\n",
        "import numpy as np\n",
        "import pandas as pd\n",
        "import matplotlib.pyplot as plt\n",
        "\n",
        "# PCA 라이브러리 \n",
        "from sklearn.decomposition import PCA\n",
        "\n",
        "# 선형회귀 관련 scikit-learn 라이브러리\n",
        "from sklearn import datasets, linear_model\n",
        "from sklearn.metrics import mean_squared_error, r2_score"
      ],
      "metadata": {
        "id": "wKhzbm3tQJ5Z"
      },
      "execution_count": null,
      "outputs": []
    },
    {
      "cell_type": "markdown",
      "source": [
        "# **2. Advertising 데이터 불러오기**"
      ],
      "metadata": {
        "id": "8GA20e5WbN9x"
      }
    },
    {
      "cell_type": "code",
      "source": [
        "# 데이터 loading\n",
        "from google.colab import drive\n",
        "drive.mount('/content/drive')\n",
        "\n",
        "ad = pd.read_csv(\"/content/drive/MyDrive/Colab Notebooks/data/Advertising.csv\", index_col=0)"
      ],
      "metadata": {
        "id": "6Tw2DQdsbKmG"
      },
      "execution_count": null,
      "outputs": []
    },
    {
      "cell_type": "code",
      "source": [
        "ad"
      ],
      "metadata": {
        "id": "OEG58DJur7KQ"
      },
      "execution_count": null,
      "outputs": []
    },
    {
      "cell_type": "markdown",
      "source": [
        "# **3. Advertising data PCR**"
      ],
      "metadata": {
        "id": "IeB7K8p5o92X"
      }
    },
    {
      "cell_type": "code",
      "source": [
        "# feature와 response 분리\n",
        "X = ad[[\"TV\", \"Radio\", \"Newspaper\"]]\n",
        "y = ad[[\"Sales\"]]"
      ],
      "metadata": {
        "id": "71sNqwjRJHYD"
      },
      "execution_count": null,
      "outputs": []
    },
    {
      "cell_type": "code",
      "source": [
        "pca = PCA(n_components=1)\n",
        "\n",
        "# 적합(fitting, training)\n",
        "pca.fit(X)"
      ],
      "metadata": {
        "id": "8Nn7WRMCIqyO"
      },
      "execution_count": null,
      "outputs": []
    },
    {
      "cell_type": "code",
      "source": [
        "pca.explained_variance_ratio_"
      ],
      "metadata": {
        "id": "Okr-jN1dKdfO"
      },
      "execution_count": null,
      "outputs": []
    },
    {
      "cell_type": "code",
      "source": [
        "# PC score\n",
        "Z = pca.fit_transform(X)"
      ],
      "metadata": {
        "id": "dOAfU4rNJCoV"
      },
      "execution_count": null,
      "outputs": []
    },
    {
      "cell_type": "code",
      "source": [
        "Z"
      ],
      "metadata": {
        "id": "U1I-HewsLQzA"
      },
      "execution_count": null,
      "outputs": []
    },
    {
      "cell_type": "code",
      "source": [
        "# training/test data 분리\n",
        "train_Z = Z[:-20]\n",
        "test_Z = Z[-20:]\n",
        "\n",
        "train_y = y[:-20]\n",
        "test_y = y[-20:]"
      ],
      "metadata": {
        "id": "BHI7X87hHtJE"
      },
      "execution_count": null,
      "outputs": []
    },
    {
      "cell_type": "code",
      "source": [
        "# 선형회귀 object 생성\n",
        "regr = linear_model.LinearRegression()\n",
        "\n",
        "# training data를 이용하여 적합\n",
        "regr.fit(train_Z, train_y)\n",
        "\n",
        "# training data를 이용하여 예측\n",
        "train_y_pred = regr.predict(train_Z)\n",
        "\n",
        "# test data를 이용하여 예측\n",
        "test_y_pred = regr.predict(test_Z)"
      ],
      "metadata": {
        "id": "5wVIUN-uzDjl"
      },
      "execution_count": null,
      "outputs": []
    },
    {
      "cell_type": "code",
      "source": [
        "# coefficients\n",
        "print(\"Coefficients: \\n\", regr.coef_)\n",
        "\n",
        "# training MSE\n",
        "print(\"Training MSE: %.3f\" % mean_squared_error(train_y, train_y_pred))\n",
        "\n",
        "# test MSE\n",
        "print(\"Test MSE: %.3f\" % mean_squared_error(test_y, test_y_pred))\n",
        "\n",
        "# training R^2\n",
        "print(\"R^2: %.3f\" % r2_score(train_y, train_y_pred))"
      ],
      "metadata": {
        "id": "zxOusJN6yt94"
      },
      "execution_count": null,
      "outputs": []
    }
  ]
}