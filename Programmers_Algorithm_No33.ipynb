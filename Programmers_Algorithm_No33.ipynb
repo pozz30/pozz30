{
  "nbformat": 4,
  "nbformat_minor": 0,
  "metadata": {
    "colab": {
      "provenance": [],
      "collapsed_sections": []
    },
    "kernelspec": {
      "name": "python3",
      "display_name": "Python 3"
    },
    "language_info": {
      "name": "python"
    }
  },
  "cells": [
    {
      "cell_type": "code",
      "source": [
        "def solution(dirs):\n",
        "    visit = set()\n",
        "    x = 0; y = 0\n",
        "    for d in dirs:\n",
        "        if d == 'U' and y < 5:\n",
        "            visit.add(((x, y), (x, y+1)))\n",
        "            y += 1\n",
        "            \n",
        "        elif d == 'D' and y > -5:\n",
        "            visit.add(((x, y-1), (x, y)))\n",
        "            y -= 1\n",
        "            \n",
        "        elif d == 'R' and x < 5:\n",
        "            visit.add(((x, y), (x+1, y)))\n",
        "            x += 1\n",
        "            \n",
        "        elif d == 'L' and x > -5:\n",
        "            visit.add(((x-1, y), (x, y)))\n",
        "            x -= 1\n",
        "    return len(visit)"
      ],
      "metadata": {
        "id": "TBCkt2-epWpZ"
      },
      "execution_count": null,
      "outputs": []
    },
    {
      "cell_type": "code",
      "source": [],
      "metadata": {
        "id": "D6ZD31XvcxdK"
      },
      "execution_count": null,
      "outputs": []
    }
  ]
}