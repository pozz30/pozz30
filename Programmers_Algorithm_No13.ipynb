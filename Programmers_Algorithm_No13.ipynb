{
 "cells": [
  {
   "cell_type": "code",
   "execution_count": null,
   "id": "fd37fd8b",
   "metadata": {},
   "outputs": [],
   "source": [
    "def solution(s):\n",
    "    p = 0\n",
    "    y = 0\n",
    "    for i in s.lower():\n",
    "        if i == 'p':\n",
    "            p += 1\n",
    "        elif i == 'y':\n",
    "            y += 1\n",
    "\n",
    "    return True if p == 0 and y == 0 else p == y "
   ]
  },
  {
   "cell_type": "code",
   "execution_count": null,
   "id": "77595df0",
   "metadata": {},
   "outputs": [],
   "source": [
    "def solution(s):\n",
    "    return ''.join(sorted(list(s), reverse=True))"
   ]
  },
  {
   "cell_type": "code",
   "execution_count": null,
   "id": "fbaa60bf",
   "metadata": {},
   "outputs": [],
   "source": [
    "def solution(s):\n",
    "    return True if (len(s) == 4 or len(s) == 6) and s.isdigit() == True else False"
   ]
  },
  {
   "cell_type": "code",
   "execution_count": null,
   "id": "947de0a8",
   "metadata": {},
   "outputs": [],
   "source": [
    "def solution(seoul):\n",
    "    return \"김서방은 {}에 있다\" .format(seoul.index(\"Kim\"))"
   ]
  },
  {
   "cell_type": "code",
   "execution_count": null,
   "id": "c876d013",
   "metadata": {},
   "outputs": [],
   "source": [
    "def solution(n):\n",
    "    a = [0]*(n+2)\n",
    "    cnt = 0\n",
    "    \n",
    "    for i in range(2,n+1):\n",
    "        if a[i] == 0:\n",
    "            cnt += 1\n",
    "            for j in range(i*2, n+1, i):\n",
    "                a[j] = 1\n",
    "    return cnt"
   ]
  },
  {
   "cell_type": "code",
   "execution_count": null,
   "id": "16d6c964",
   "metadata": {},
   "outputs": [],
   "source": [
    "def solution(n):\n",
    "    return \"수박\"*(n//2) if n%2 == 0 else \"수박\"*(n//2) + \"수\""
   ]
  },
  {
   "cell_type": "code",
   "execution_count": null,
   "id": "6952b7d2",
   "metadata": {},
   "outputs": [],
   "source": [
    "def solution(s):\n",
    "    return int(s[1:]) * (-1) if s[0] == '-' else int(s)"
   ]
  },
  {
   "cell_type": "code",
   "execution_count": null,
   "id": "ea364a2b",
   "metadata": {},
   "outputs": [],
   "source": [
    "def solution(s, n):\n",
    "    answer = ''\n",
    "    for i in s:\n",
    "        if i == ' ':\n",
    "            answer += (' ')\n",
    "        elif i == i.lower():\n",
    "            if ord(i) + n > 122:\n",
    "                answer += (chr(ord(i)+n-26))\n",
    "            else:\n",
    "                answer += (chr(ord(i)+n))\n",
    "        else:\n",
    "            if ord(i) + n > 90:\n",
    "                answer += (chr(ord(i)+n-26))\n",
    "            else:\n",
    "                answer += (chr(ord(i)+n))\n",
    "            \n",
    "    return answer"
   ]
  },
  {
   "cell_type": "code",
   "execution_count": null,
   "id": "02cabcfb",
   "metadata": {},
   "outputs": [],
   "source": [
    "def solution(n):\n",
    "    return sum(i for i in range(1,n+1) if n%i ==0)"
   ]
  },
  {
   "cell_type": "code",
   "execution_count": null,
   "id": "48d60896",
   "metadata": {},
   "outputs": [],
   "source": [
    "def solution(s):\n",
    "    '''\n",
    "    answer = ''\n",
    "    s = s.split(' ')\n",
    "    cnt = len([i for i in s if i != '']) -1\n",
    "    \n",
    "    for i in range(len(s)):\n",
    "        if s[i] == '':\n",
    "            answer += ' '\n",
    "            print(answer)\n",
    "        else:\n",
    "            for j in range(len(s[i])):\n",
    "                if j%2 == 0:\n",
    "                    answer += s[i][j].upper()\n",
    "                else:\n",
    "                    answer += s[i][j].lower()\n",
    "            if cnt >0:\n",
    "                answer += ' '\n",
    "                cnt -= 1\n",
    "    '''\n",
    "    return \" \".join(map(lambda x: \"\".join([a.lower() if i % 2 else a.upper() for i, a in enumerate(x)]), s.split(\" \")))"
   ]
  }
 ],
 "metadata": {
  "kernelspec": {
   "display_name": "Python 3",
   "language": "python",
   "name": "python3"
  },
  "language_info": {
   "codemirror_mode": {
    "name": "ipython",
    "version": 3
   },
   "file_extension": ".py",
   "mimetype": "text/x-python",
   "name": "python",
   "nbconvert_exporter": "python",
   "pygments_lexer": "ipython3",
   "version": "3.8.8"
  }
 },
 "nbformat": 4,
 "nbformat_minor": 5
}
