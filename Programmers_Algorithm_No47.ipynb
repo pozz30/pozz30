{
 "cells": [
  {
   "cell_type": "code",
   "execution_count": null,
   "metadata": {},
   "outputs": [],
   "source": [
    "def solution(arr):\n",
    "    answer = [0, 0]\n",
    "    N = len(arr)\n",
    "\n",
    "    def comp(x, y, n):\n",
    "        init = arr[x][y]  # 해당 네모값중 하나 # 모두 같아야 통과임\n",
    "        for i in range(x, x + n):\n",
    "            for j in range(y, y + n):\n",
    "                if arr[i][j] != init:  # 한번이라도 다르면 그 네모는 압축불가\n",
    "                    nn = n // 2\n",
    "                    comp(x, y, nn)\n",
    "                    comp(x, y + nn, nn)\n",
    "                    comp(x + nn, y, nn)\n",
    "                    comp(x + nn, y + nn, nn)\n",
    "                    return\n",
    "\n",
    "        # 무사히 다 통과했다면 압축가능\n",
    "        answer[init] += 1\n",
    "\n",
    "    comp(0, 0, N)\n",
    "    return answer"
   ]
  }
 ],
 "metadata": {
  "language_info": {
   "name": "python"
  },
  "orig_nbformat": 4
 },
 "nbformat": 4,
 "nbformat_minor": 2
}
