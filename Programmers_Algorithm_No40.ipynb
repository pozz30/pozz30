{
 "cells": [
  {
   "cell_type": "code",
   "execution_count": null,
   "metadata": {},
   "outputs": [],
   "source": [
    "# 여기에 템플릿을 복사하고 수정하여 코드를 완성합니다.\n",
    "#\n",
    "\n",
    "import numpy as np\n",
    "w = np.array([\n",
    "  [0.2, 0.1, 0.3, 0.4],\n",
    "  [0.5, 0.6, 0.7, 0.8],\n",
    "  [0.9, 1.0, 1.1, 1.2],\n",
    "  [1.3, 1.4, 1.5, 1.6]\n",
    "])\n",
    "ans01 = w.copy() # numpy 텐서의 복사\n",
    "print(ans01)\n",
    "v = w[1:4, 1:]\n",
    "print(v)\n",
    "\n",
    "u = 2*v\n",
    "print(u)\n",
    "\n",
    "a = u[1:, :] + 1\n",
    "ans02 = a.copy()\n",
    "print(ans02)"
   ]
  },
  {
   "cell_type": "code",
   "execution_count": null,
   "metadata": {},
   "outputs": [],
   "source": [
    "import numpy as np\n",
    "w = np.array(\n",
    "    [\n",
    "        [1., 2.],\n",
    "        [3., 4.]       \n",
    "    ]\n",
    ", dtype='float32')\n",
    "x = np.array([5.,6.], dtype='float32')\n",
    "\n",
    "n_iter = 52\n",
    "for i in range(n_iter):\n",
    "    x = np.dot(w, x.T)\n",
    "print(x)\n",
    "print(x - x)    # inf를 연산하면 invalid값인 nan이 발생할 수 있습니다.\n",
    "\n",
    "ans03 = 1000    # n_iter의 최소치 기입 'float32'의 경우 \n",
    "ans04 = 10000   # n_iter의 최소치 기입 'float64'의 경우"
   ]
  }
 ],
 "metadata": {
  "kernelspec": {
   "display_name": "Python 3.10.2 64-bit",
   "language": "python",
   "name": "python3"
  },
  "language_info": {
   "name": "python",
   "version": "3.10.2"
  },
  "orig_nbformat": 4,
  "vscode": {
   "interpreter": {
    "hash": "c2397ebbcede9ef22e8cbfc88c22cf40f693f7334f209f1e17c60208fcd5767a"
   }
  }
 },
 "nbformat": 4,
 "nbformat_minor": 2
}
