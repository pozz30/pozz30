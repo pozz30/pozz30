{
 "cells": [
  {
   "cell_type": "code",
   "execution_count": null,
   "metadata": {},
   "outputs": [],
   "source": [
    "import math\n",
    "\n",
    "def solution(n, k):\n",
    "    answer = []\n",
    "    raw = [i+1 for i in range(n)]\n",
    "    tmp = n-1\n",
    "    \n",
    "    for i in range(n):\n",
    "        a = math.factorial(tmp)\n",
    "        b = (k-1)//a\n",
    "        answer.append(raw[b])\n",
    "        del raw[b]\n",
    "        k -= a*b\n",
    "        tmp -= 1\n",
    "    \n",
    "    return answer"
   ]
  },
  {
   "cell_type": "code",
   "execution_count": null,
   "metadata": {},
   "outputs": [],
   "source": [
    "def setAlign(n, k):\n",
    "    from math import factorial\n",
    "    answer = []\n",
    "    order = list(range(1,n+1))\n",
    "    while n!=0 :\n",
    "        fact = factorial(n-1)\n",
    "        #answer.append(order.pop(k//fact-1 if k%fact ==0 else k//fact))\n",
    "        answer.append(order.pop((k-1)//fact))\n",
    "        n,k = n-1, k%fact\n",
    "    return answer"
   ]
  }
 ],
 "metadata": {
  "kernelspec": {
   "display_name": "Python 3.10.2 64-bit",
   "language": "python",
   "name": "python3"
  },
  "language_info": {
   "name": "python",
   "version": "3.10.2"
  },
  "orig_nbformat": 4,
  "vscode": {
   "interpreter": {
    "hash": "c2397ebbcede9ef22e8cbfc88c22cf40f693f7334f209f1e17c60208fcd5767a"
   }
  }
 },
 "nbformat": 4,
 "nbformat_minor": 2
}
