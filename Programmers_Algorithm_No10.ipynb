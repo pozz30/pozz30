{
 "cells": [
  {
   "cell_type": "code",
   "execution_count": 2,
   "id": "2e787ad9",
   "metadata": {},
   "outputs": [],
   "source": [
    "def solution(nums):\n",
    "    '''\n",
    "    tmp = []\n",
    "    for i in nums:\n",
    "        if i in tmp:\n",
    "            continue\n",
    "        else:\n",
    "            tmp.append(i)\n",
    "    if len(tmp) < len(nums)/2:\n",
    "        answer = len(tmp)\n",
    "    else:\n",
    "        answer = len(nums)/2\n",
    "    '''\n",
    "    return min(len(nums)/2, len(set(nums)))"
   ]
  },
  {
   "cell_type": "code",
   "execution_count": null,
   "id": "cfcaae11",
   "metadata": {},
   "outputs": [],
   "source": [
    "def solution(array, commands):\n",
    "    answer = []\n",
    "    for i in commands:\n",
    "        tmp = sorted(array[i[0]-1:i[1]])\n",
    "        answer.append(tmp[i[2]-1])\n",
    "    return answer"
   ]
  },
  {
   "cell_type": "code",
   "execution_count": null,
   "id": "5c1ebeda",
   "metadata": {},
   "outputs": [],
   "source": [
    "def solution(answers):\n",
    "    a1 = [1,2,3,4,5]\n",
    "    a2 = [2,1,2,3,2,4,2,5]\n",
    "    a3 = [3,3,1,1,2,2,4,4,5,5]\n",
    "    answer = []\n",
    "    cnt1 = cnt2 = cnt3 = 0\n",
    "    \n",
    "    for i in range(len(answers)):\n",
    "        if a1[i%5] == answers[i]:\n",
    "            cnt1 += 1\n",
    "        if a2[i%8] == answers[i]:\n",
    "            cnt2 += 1\n",
    "        if a3[i%10] == answers[i]:\n",
    "            cnt3 += 1\n",
    "    \n",
    "    tmp = [cnt1, cnt2, cnt3]\n",
    "    print(tmp)\n",
    "    for idx, x in enumerate(tmp):\n",
    "        if x == max(tmp):\n",
    "            answer.append(idx+1)\n",
    "    return answer"
   ]
  },
  {
   "cell_type": "code",
   "execution_count": null,
   "id": "094884fe",
   "metadata": {},
   "outputs": [],
   "source": [
    "def solution(n, lost, reserve):\n",
    "    num_lost = len(lost)\n",
    "    reserved = set(reserve) - set(lost)\n",
    "    print(\"reserved : \" , reserved)\n",
    "    losted = set(lost) - set(reserve)\n",
    "    print(\"losted : \" , losted)\n",
    "\n",
    "    for r in sorted(reserved):\n",
    "        if r - 1 in losted:\n",
    "            losted = losted - {r - 1}\n",
    "\n",
    "        elif r + 1 in losted:\n",
    "            losted = losted - {r + 1}\n",
    "\n",
    "    return n - len(losted)"
   ]
  },
  {
   "cell_type": "code",
   "execution_count": null,
   "id": "e9e7c8ef",
   "metadata": {},
   "outputs": [],
   "source": [
    "def solution(left, right):\n",
    "    return sum(n if (n ** 0.5) % 1 else -n for n in range(left, right + 1))"
   ]
  }
 ],
 "metadata": {
  "kernelspec": {
   "display_name": "Python 3",
   "language": "python",
   "name": "python3"
  },
  "language_info": {
   "codemirror_mode": {
    "name": "ipython",
    "version": 3
   },
   "file_extension": ".py",
   "mimetype": "text/x-python",
   "name": "python",
   "nbconvert_exporter": "python",
   "pygments_lexer": "ipython3",
   "version": "3.8.8"
  }
 },
 "nbformat": 4,
 "nbformat_minor": 5
}
