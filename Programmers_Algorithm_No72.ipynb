{
 "cells": [
  {
   "cell_type": "code",
   "execution_count": null,
   "metadata": {},
   "outputs": [],
   "source": [
    "def solution(routes):\n",
    "    answer = 0\n",
    "    routes.sort(key = lambda x : x[1])\n",
    "    cameraList = [routes[0][1]]\n",
    "    for k in range(1, len(routes)):\n",
    "        if routes[k][0]<=cameraList[-1] and routes[k][1]>=cameraList[-1]:\n",
    "            continue\n",
    "        else:\n",
    "            cameraList.append(routes[k][1])\n",
    "    return len(cameraList)"
   ]
  }
 ],
 "metadata": {
  "kernelspec": {
   "display_name": "Python 3.10.2 64-bit",
   "language": "python",
   "name": "python3"
  },
  "language_info": {
   "name": "python",
   "version": "3.10.2"
  },
  "orig_nbformat": 4,
  "vscode": {
   "interpreter": {
    "hash": "c2397ebbcede9ef22e8cbfc88c22cf40f693f7334f209f1e17c60208fcd5767a"
   }
  }
 },
 "nbformat": 4,
 "nbformat_minor": 2
}
